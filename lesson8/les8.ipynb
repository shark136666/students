{
 "cells": [
  {
   "cell_type": "code",
   "execution_count": 68,
   "metadata": {},
   "outputs": [
    {
     "data": {
      "text/markdown": [
       "### 🦢 Проверка устойчивости к механическому воздействию"
      ],
      "text/plain": [
       "<IPython.core.display.Markdown object>"
      ]
     },
     "metadata": {},
     "output_type": "display_data"
    }
   ],
   "source": [
    "import os,sys,inspect\n",
    "from ipywidgets import interact, interactive, fixed, interact_manual, Button\n",
    "from IPython.display import display, Markdown, Latex, Javascript, clear_output, HTML\n",
    "import emoji\n",
    "import time\n",
    "from datetime import date\n",
    "import ipywidgets as widgets\n",
    "import ipython_blocking\n",
    "import numpy as np\n",
    "from tqdm import tqdm_notebook\n",
    "import functools\n",
    "import configparser\n",
    "import webbrowser\n",
    "import shutil\n",
    "\n",
    "parentdir = os.path.abspath('../../../pymodules')\n",
    "\n",
    "sys.path.insert(0,parentdir)\n",
    "#from connect_device import connect\n",
    "from connect_device_v2.vizualizate import vizulizated_finds_devices, advanced_search_device,DeviceBundle\n",
    "from connect_device_v2.save_file import SaveFilesButton\n",
    "from connect_device_v2.connect import connect_to_device\n",
    "from connect_device_v2.find_device import FindDevice\n",
    "from connect_device_v2.auxiliary_commands import check_error,disable_all_correctors,enable_ifbf_for_all_segment\n",
    "import pandas as pd\n",
    "from datetime import datetime\n",
    "button = widgets.Button(\n",
    "                description='Continue',\n",
    "                disabled=False,\n",
    "                button_style='success',  # 'success', 'info', 'warning', 'danger' or ''\n",
    "                tooltip='Click me',\n",
    "                icon='play'        \n",
    "                )\n",
    "\n",
    "display(Markdown('### 🦢 Проверка устойчивости к механическому воздействию'))"
   ]
  },
  {
   "cell_type": "code",
   "execution_count": 69,
   "metadata": {},
   "outputs": [
    {
     "name": "stdout",
     "output_type": "stream",
     "text": [
      "Выбранная конфигурация\n",
      "filter_if:10 k\n",
      "point_value:200\n",
      "athenuator_value:10\n",
      "cap_value:6554\n"
     ]
    },
    {
     "data": {
      "application/vnd.jupyter.widget-view+json": {
       "model_id": "17244a3f5775420d9193788bfc09014d",
       "version_major": 2,
       "version_minor": 0
      },
      "text/plain": [
       "VBox(children=(Button(button_style='info', description='редактировать конфиг', layout=Layout(width='max-conten…"
      ]
     },
     "metadata": {},
     "output_type": "display_data"
    },
    {
     "data": {
      "application/javascript": [
       "Jupyter.notebook.select_next().execute_cells_below()"
      ],
      "text/plain": [
       "<IPython.core.display.Javascript object>"
      ]
     },
     "metadata": {},
     "output_type": "display_data"
    }
   ],
   "source": [
    "from connect_device_v2.find_device import FindDevice\n",
    "box = FindDevice()\n",
    "display(box)"
   ]
  },
  {
   "cell_type": "code",
   "execution_count": 78,
   "metadata": {},
   "outputs": [],
   "source": [
    "button = box.select_device_continue_button"
   ]
  },
  {
   "cell_type": "code",
   "execution_count": 79,
   "metadata": {},
   "outputs": [],
   "source": [
    "get_ipython().run_line_magic('blockrun', 'button')"
   ]
  },
  {
   "cell_type": "code",
   "execution_count": 80,
   "metadata": {},
   "outputs": [],
   "source": [
    "button1 = box.select_config_continue_button"
   ]
  },
  {
   "cell_type": "code",
   "execution_count": 81,
   "metadata": {},
   "outputs": [],
   "source": [
    "get_ipython().run_line_magic('blockrun', 'button1')"
   ]
  },
  {
   "cell_type": "code",
   "execution_count": 82,
   "metadata": {},
   "outputs": [],
   "source": [
    "inst = box.selected_device"
   ]
  },
  {
   "cell_type": "code",
   "execution_count": 83,
   "metadata": {},
   "outputs": [],
   "source": [
    "result_config =  box.config"
   ]
  },
  {
   "cell_type": "code",
   "execution_count": 84,
   "metadata": {},
   "outputs": [],
   "source": [
    "def HZ_convert(pref, hertz):\n",
    "    try:\n",
    "        hertz = int(hertz)\n",
    "    except ValueError:\n",
    "        return -1\n",
    "    if pref == \"k\":\n",
    "        return hertz * 1000\n",
    "    if pref == \"M\":\n",
    "        return hertz * 1000000\n",
    "    if pref == \"G\":\n",
    "        return hertz * 1000000000\n",
    "    return -1\n",
    "\n",
    "def one_scan(inst):\n",
    "    inst.write('TRIG:SOUR BUS')  # устанавливаем источник триггера на шину\n",
    "    inst.write(f\"INIT:CONT OFF\")  # включаем повторный режим запуска триггера\n",
    "    # переходим в состояние ожидания триггера\n",
    "    inst.write('INIT')\n",
    "    inst.write('TRIG:SING')  # выполняем россчерк\n",
    "    inst.query('*OPC?') "
   ]
  },
  {
   "cell_type": "code",
   "execution_count": 85,
   "metadata": {},
   "outputs": [],
   "source": [
    "value_dict = {}"
   ]
  },
  {
   "cell_type": "code",
   "execution_count": 86,
   "metadata": {},
   "outputs": [],
   "source": [
    "out = widgets.HTML()\n"
   ]
  },
  {
   "cell_type": "code",
   "execution_count": 87,
   "metadata": {},
   "outputs": [],
   "source": [
    "if_split = result_config['DEVICE']['filter_IF'].split(\" \")\n",
    "if_value = f'{HZ_convert(if_split[1], int(if_split[0]))}'\n",
    "at_value = result_config['DEVICE']['athenuator_value']\n",
    "poin_value = result_config['DEVICE']['point_value']\n",
    "cap_value = result_config['DEVICE']['cap_value']   "
   ]
  },
  {
   "cell_type": "code",
   "execution_count": 88,
   "metadata": {},
   "outputs": [],
   "source": [
    "def param(if_value,poin_value,at_value,cap_value):\n",
    "    inst.write(f'SYST:PRES')\n",
    "    inst.write(f'SENS:SWE:TYPE LIN')\n",
    "    \n",
    "    #Включаем аттюнатор \n",
    "    inst.write(f'SERV:RFCTL:POW:STAT 1')\n",
    "    inst.write(f'SERV:RFCTL:POW:ATT {at_value}')\n",
    "\n",
    "    #Фильтр ПЧ\n",
    "    inst.write(f'SENS:BWID {if_value}')\n",
    "    time.sleep(1) \n",
    "\n",
    "    #Код ЦАП\n",
    "    inst.write(f'SERV:RFCTL:POW:DAC {cap_value}')\n",
    "    \n",
    "    #количество точек.\n",
    "    inst.write(f'SENS:SWE:POIN {poin_value}')\n"
   ]
  },
  {
   "cell_type": "code",
   "execution_count": 89,
   "metadata": {},
   "outputs": [],
   "source": [
    "def setport(port):\n",
    "    inst.write(f'CALC1:PAR:COUN 1')\n",
    "    inst.write(f'CALC1:PAR1:DEF S{port}{port}')"
   ]
  },
  {
   "cell_type": "code",
   "execution_count": 90,
   "metadata": {},
   "outputs": [],
   "source": [
    "def normalize(inst):\n",
    "    inst.write(f'CALC:PAR1:SEL')\n",
    "    inst.write(f'CALC:MATH:MEM')\n",
    "    inst.write(f'CALC:MATH:FUNC DIV')\n",
    "    "
   ]
  },
  {
   "cell_type": "code",
   "execution_count": 91,
   "metadata": {},
   "outputs": [],
   "source": [
    "def gridbutton(count, value_dict):\n",
    "    row = 0\n",
    "    port_count = 0\n",
    "    \n",
    "    if count%6 == 0:\n",
    "        row_1 = count//6\n",
    "    else:\n",
    "        row_1 = count//6+1\n",
    "    c = 6\n",
    "    grid = widgets.GridspecLayout(row_1 * 3, 6)\n",
    "    for i in range(row_1):\n",
    "        if i == row_1 - 1:\n",
    "            c = count - c * i\n",
    "        for j in range(c):\n",
    "            port_count += 1\n",
    "            g1 = widgets.Button(description=f'До воздействия')\n",
    "            g1.on_click(functools.partial(before_on_button_clicked, rs_=f'{port_count}'))\n",
    "\n",
    "            g2 =  widgets.Button(description=f'После воздействия')\n",
    "            g2.on_click(functools.partial(after_on_button_clicked, value_dict=value_dict, rs_=f'{port_count}'))\n",
    "            grid[row + 0, j] = widgets.Label(value=f'port {port_count}')\n",
    "            grid[row + 1, j] = g1\n",
    "            grid[row + 2, j] = g2\n",
    "        row += 3\n",
    "    display(grid)\n"
   ]
  },
  {
   "cell_type": "code",
   "execution_count": 92,
   "metadata": {
    "scrolled": true
   },
   "outputs": [],
   "source": [
    "param(if_value,poin_value,at_value,cap_value)\n",
    "\n",
    "\n",
    "date_inf = f'{date.today()}'\n",
    "time_inf = inst.query(f'SYST:TIME?')"
   ]
  },
  {
   "cell_type": "code",
   "execution_count": 93,
   "metadata": {},
   "outputs": [],
   "source": [
    "def marksearch(value_dict):\n",
    "        \n",
    "    trace = inst.query(f'CALC1:PAR1:DEF?')\n",
    "    inst.write(f'CALC1:TRAC1:MARK1:STAT ON')\n",
    "    inst.write(f'CALC1:TRAC1:MARK2:STAT ON')\n",
    "    inst.write(f'CALC1:MARK1:FUNC:TYPE MAX')\n",
    "    inst.write(f'CALC1:MARK2:FUNC:TYPE MIN')\n",
    "\n",
    "    inst.write(f'CALC1:MARK1:FUNC:EXEC')\n",
    "    inst.write(f'CALC1:MARK2:FUNC:EXEC')\n",
    "\n",
    "    \n",
    "    max_value = format(abs(float(inst.query(f'CALC1:MARK1:Y?').split(',')[0])),'.9f')\n",
    "    min_value = format(abs(float(inst.query(f'CALC1:MARK2:Y?').split(',')[0])),'.9f')\n",
    "    if max_value > min_value:\n",
    "        value_dict.update({f'{trace}': max_value})\n",
    "    else:\n",
    "        value_dict.update({f'{trace}': min_value})\n",
    "    return value_dict"
   ]
  },
  {
   "cell_type": "code",
   "execution_count": 94,
   "metadata": {},
   "outputs": [],
   "source": [
    "def tablehtml(value_dict): \n",
    "    htmlstr = \"<table border='1' ><tr><td>Порт</td><td>Отклонение</td><td>Максимум, дБ</td></tr><tr>\"\n",
    "    count = 0\n",
    "    MAX = -1\n",
    "    for trace in value_dict.keys():\n",
    "        if float(value_dict[f'{trace}']) > float(MAX):\n",
    "            MAX = value_dict[f'{trace}']\n",
    "    for trace in value_dict.keys():\n",
    "        trace_value = value_dict[f'{trace}']\n",
    "        cut = (len(trace)-1)//2 + 1\n",
    "        port_data = trace[cut:]\n",
    "        if trace_value == MAX:\n",
    "            htmlstr += f'<td>{port_data}</td><td class = bg-warning>{trace_value}</td>'\n",
    "        else:\n",
    "            htmlstr += f'<td>{port_data}</td><td>{trace_value}</td>'\n",
    "        if count == 0:\n",
    "            htmlstr += f'<td rowspan={len(value_dict.keys())+1}>{MAX}</td>'\n",
    "            count += 1\n",
    "        htmlstr += \"</tr><tr>\"\n",
    "    htmlstr += '''</tr><style type=\"text/css\">\n",
    "td{\n",
    "    padding: 2px;\n",
    "    border-collapse: collapse;\n",
    "    background-color:palegreen;\n",
    "}\n",
    "tr{\n",
    "   padding: 2px;\n",
    "   color: blue;\n",
    "   border-collapse: collapse;\n",
    "   font-family:verdana;\n",
    "}\n",
    "tr{\n",
    "   font-size:20px;\n",
    "   color:black;\n",
    "   border-collapse: collapse;\n",
    "   text-align:center;\n",
    "}\n",
    "</style>'''\n",
    "    return htmlstr\n",
    "\n"
   ]
  },
  {
   "cell_type": "code",
   "execution_count": 95,
   "metadata": {},
   "outputs": [],
   "source": [
    "def teblehader():\n",
    "    \n",
    "    idn_inf = inst.query(f'*IDN?').split(', ')\n",
    "    htmlstr = \"<table border='1' ><tr><td> Дата запуска </td><td> Время запуска </td><td>  device </td><td> model </td><td> serial </td><td>  version </td></tr><tr>\"\n",
    "    htmlstr += f'<td>{date_inf}</td><td>{time_inf}</td><td>{idn_inf[0]}</td><td>{idn_inf[1]}</td><td>{idn_inf[2]}</td><td>{idn_inf[3]}</td>'\n",
    "    return htmlstr"
   ]
  },
  {
   "cell_type": "code",
   "execution_count": 96,
   "metadata": {},
   "outputs": [],
   "source": [
    "def before_on_button_clicked(b, rs_=\"some_default_string\"):\n",
    "    setport(rs_)\n",
    "    one_scan(inst)\n",
    "    normalize(inst)\n",
    "    one_scan(inst)\n",
    "    b.button_style = 'success'"
   ]
  },
  {
   "cell_type": "code",
   "execution_count": 97,
   "metadata": {},
   "outputs": [],
   "source": [
    "def after_on_button_clicked(b, value_dict, rs_=\"some_default_string\"):\n",
    "    setport(rs_)\n",
    "    one_scan(inst)\n",
    "    marksearch(value_dict)\n",
    "    out.value = teblehader() + tablehtml(value_dict)\n",
    "    b.button_style = 'success'\n",
    "    global save_button\n",
    "    save_button.file_data = teblehader() + tablehtml(value_dict)\n"
   ]
  },
  {
   "cell_type": "code",
   "execution_count": 98,
   "metadata": {
    "scrolled": false
   },
   "outputs": [
    {
     "data": {
      "application/vnd.jupyter.widget-view+json": {
       "model_id": "de4088b5c22a465d9bf0cf4d9668d96d",
       "version_major": 2,
       "version_minor": 0
      },
      "text/plain": [
       "GridspecLayout(children=(Label(value='port 1', layout=Layout(grid_area='widget001')), Button(description='До в…"
      ]
     },
     "metadata": {},
     "output_type": "display_data"
    },
    {
     "data": {
      "application/vnd.jupyter.widget-view+json": {
       "model_id": "66efbe302d564bf1aa944292cdd1fc7c",
       "version_major": 2,
       "version_minor": 0
      },
      "text/plain": [
       "HTML(value='')"
      ]
     },
     "metadata": {},
     "output_type": "display_data"
    },
    {
     "data": {
      "application/vnd.jupyter.widget-view+json": {
       "model_id": "58113e0b9e4943fa825cf34702588246",
       "version_major": 2,
       "version_minor": 0
      },
      "text/plain": [
       "SaveFilesButton(description='SaveFiles', icon='square-o', style=ButtonStyle(button_color='orange'))"
      ]
     },
     "metadata": {},
     "output_type": "display_data"
    }
   ],
   "source": [
    "\n",
    "gridbutton(int(inst.query(f'SERV:PORT:COUN?')), value_dict)\n",
    "display(out)\n",
    "save_button = SaveFilesButton(out.value)\n",
    "display(save_button)\n"
   ]
  },
  {
   "cell_type": "code",
   "execution_count": null,
   "metadata": {},
   "outputs": [],
   "source": []
  },
  {
   "cell_type": "code",
   "execution_count": null,
   "metadata": {},
   "outputs": [],
   "source": []
  }
 ],
 "metadata": {
  "kernelspec": {
   "display_name": "Python 3 (ipykernel)",
   "language": "python",
   "name": "python3"
  },
  "language_info": {
   "codemirror_mode": {
    "name": "ipython",
    "version": 3
   },
   "file_extension": ".py",
   "mimetype": "text/x-python",
   "name": "python",
   "nbconvert_exporter": "python",
   "pygments_lexer": "ipython3",
   "version": "3.10.5"
  }
 },
 "nbformat": 4,
 "nbformat_minor": 2
}
