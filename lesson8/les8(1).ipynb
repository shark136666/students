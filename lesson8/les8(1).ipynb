{
 "cells": [
  {
   "cell_type": "code",
   "execution_count": 116,
   "metadata": {},
   "outputs": [
    {
     "data": {
      "text/markdown": [
       "### 🦢 Проверка устойчивости к механическому воздействию"
      ],
      "text/plain": [
       "<IPython.core.display.Markdown object>"
      ]
     },
     "metadata": {},
     "output_type": "display_data"
    }
   ],
   "source": [
    "import os,sys,inspect\n",
    "from ipywidgets import interact, interactive, fixed, interact_manual, Button\n",
    "from IPython.display import display, Markdown, Latex, Javascript, clear_output, HTML\n",
    "import emoji\n",
    "import time\n",
    "from datetime import date\n",
    "import ipywidgets as widgets\n",
    "import ipython_blocking\n",
    "import numpy as np\n",
    "from tqdm import tqdm_notebook\n",
    "import functools\n",
    "import configparser\n",
    "import webbrowser\n",
    "import shutil\n",
    "\n",
    "parentdir = os.path.abspath('../../../pymodules')\n",
    "\n",
    "sys.path.insert(0,parentdir)\n",
    "#from connect_device import connect\n",
    "from connect_device_v2.vizualizate import vizulizated_finds_devices, advanced_search_device,DeviceBundle\n",
    "from connect_device_v2.save_file import SaveFilesButton\n",
    "from connect_device_v2.connect import connect_to_device\n",
    "from connect_device_v2.find_device import FindDevice\n",
    "from connect_device_v2.auxiliary_commands import check_error,disable_all_correctors,enable_ifbf_for_all_segment\n",
    "import pandas as pd\n",
    "from datetime import datetime\n",
    "button = widgets.Button(\n",
    "                description='Continue',\n",
    "                disabled=False,\n",
    "                button_style='success',  # 'success', 'info', 'warning', 'danger' or ''\n",
    "                tooltip='Click me',\n",
    "                icon='play'        \n",
    "                )\n",
    "\n",
    "display(Markdown('### 🦢 Проверка устойчивости к механическому воздействию'))"
   ]
  },
  {
   "cell_type": "code",
   "execution_count": 117,
   "metadata": {},
   "outputs": [
    {
     "name": "stdout",
     "output_type": "stream",
     "text": [
      "Выбранная конфигурация\n",
      "filter_if:10 k\n",
      "point_value:200\n",
      "athenuator_value:10\n",
      "cap_value:6554\n"
     ]
    },
    {
     "data": {
      "application/vnd.jupyter.widget-view+json": {
       "model_id": "68e6ccb6cf5b4c17ada0d88a18a3197c",
       "version_major": 2,
       "version_minor": 0
      },
      "text/plain": [
       "VBox(children=(Button(button_style='info', description='редактировать конфиг', layout=Layout(width='max-conten…"
      ]
     },
     "metadata": {},
     "output_type": "display_data"
    },
    {
     "data": {
      "application/javascript": [
       "Jupyter.notebook.select_next().execute_cells_below()"
      ],
      "text/plain": [
       "<IPython.core.display.Javascript object>"
      ]
     },
     "metadata": {},
     "output_type": "display_data"
    }
   ],
   "source": [
    "from connect_device_v2.find_device import FindDevice\n",
    "box = FindDevice()\n",
    "display(box)"
   ]
  },
  {
   "cell_type": "code",
   "execution_count": 126,
   "metadata": {},
   "outputs": [],
   "source": [
    "button = box.select_device_continue_button"
   ]
  },
  {
   "cell_type": "code",
   "execution_count": 127,
   "metadata": {},
   "outputs": [],
   "source": [
    "get_ipython().run_line_magic('blockrun', 'button')"
   ]
  },
  {
   "cell_type": "code",
   "execution_count": 128,
   "metadata": {},
   "outputs": [],
   "source": [
    "button1 = box.select_config_continue_button"
   ]
  },
  {
   "cell_type": "code",
   "execution_count": 129,
   "metadata": {},
   "outputs": [],
   "source": [
    "get_ipython().run_line_magic('blockrun', 'button1')"
   ]
  },
  {
   "cell_type": "code",
   "execution_count": 130,
   "metadata": {},
   "outputs": [],
   "source": [
    "inst = box.selected_device"
   ]
  },
  {
   "cell_type": "code",
   "execution_count": 131,
   "metadata": {},
   "outputs": [],
   "source": [
    "result_config =  box.config"
   ]
  },
  {
   "cell_type": "code",
   "execution_count": 132,
   "metadata": {},
   "outputs": [],
   "source": [
    "def HZ_convert(pref, hertz):\n",
    "    try:\n",
    "        hertz = int(hertz)\n",
    "    except ValueError:\n",
    "        return -1\n",
    "    if pref == \"k\":\n",
    "        return hertz * 1000\n",
    "    if pref == \"M\":\n",
    "        return hertz * 1000000\n",
    "    if pref == \"G\":\n",
    "        return hertz * 1000000000\n",
    "    return -1\n",
    "\n",
    "def one_scan(inst):\n",
    "    inst.write('TRIG:SOUR BUS')  # устанавливаем источник триггера на шину\n",
    "    inst.write(f\"INIT:CONT OFF\")  # включаем повторный режим запуска триггера\n",
    "    # переходим в состояние ожидания триггера\n",
    "    inst.write('INIT')\n",
    "    inst.write('TRIG:SING')  # выполняем россчерк\n",
    "    inst.query('*OPC?') "
   ]
  },
  {
   "cell_type": "code",
   "execution_count": 133,
   "metadata": {},
   "outputs": [],
   "source": [
    "value_dict = {}"
   ]
  },
  {
   "cell_type": "code",
   "execution_count": 134,
   "metadata": {},
   "outputs": [],
   "source": [
    "out = widgets.HTML()\n"
   ]
  },
  {
   "cell_type": "code",
   "execution_count": 135,
   "metadata": {},
   "outputs": [],
   "source": [
    "if_split = result_config['DEVICE']['filter_IF'].split(\" \")\n",
    "if_value = f'{HZ_convert(if_split[1], int(if_split[0]))}'\n",
    "at_value = result_config['DEVICE']['athenuator_value']\n",
    "poin_value = result_config['DEVICE']['point_value']\n",
    "cap_value = result_config['DEVICE']['cap_value']   "
   ]
  },
  {
   "cell_type": "code",
   "execution_count": 136,
   "metadata": {},
   "outputs": [],
   "source": [
    "def param(if_value,poin_value,at_value,cap_value):\n",
    "    inst.write(f'SYST:PRES')\n",
    "    inst.write(f'SENS:SWE:TYPE LIN')\n",
    "    \n",
    "    #Включаем аттюнатор \n",
    "    inst.write(f'SERV:RFCTL:POW:STAT 1')\n",
    "    inst.write(f'SERV:RFCTL:POW:ATT {at_value}')\n",
    "\n",
    "    #Фильтр ПЧ\n",
    "    inst.write(f'SENS:BWID {if_value}')\n",
    "    time.sleep(1) \n",
    "\n",
    "    #Код ЦАП\n",
    "    inst.write(f'SERV:RFCTL:POW:DAC {cap_value}')\n",
    "    \n",
    "    #количество точек.\n",
    "    inst.write(f'SENS:SWE:POIN {poin_value}')\n"
   ]
  },
  {
   "cell_type": "code",
   "execution_count": 137,
   "metadata": {},
   "outputs": [],
   "source": [
    "def setport(port):\n",
    "    inst.write(f'CALC1:PAR:COUN 1')\n",
    "    inst.write(f'CALC1:PAR1:DEF S{port}{port}')"
   ]
  },
  {
   "cell_type": "code",
   "execution_count": 138,
   "metadata": {},
   "outputs": [],
   "source": [
    "def normalize(inst):\n",
    "    inst.write(f'CALC:PAR1:SEL')\n",
    "    inst.write(f'CALC:MATH:MEM')\n",
    "    inst.write(f'CALC:MATH:FUNC DIV')\n",
    "    "
   ]
  },
  {
   "cell_type": "code",
   "execution_count": 139,
   "metadata": {},
   "outputs": [],
   "source": [
    "\n",
    "def gridbutton(count, value_dict):\n",
    "    row = 0\n",
    "    port_count = 0\n",
    "    \n",
    "    if count%6 == 0:\n",
    "        row_1 = count//6\n",
    "    else:\n",
    "        row_1 = count//6+1\n",
    "    c = 6\n",
    "    grid = widgets.GridspecLayout(row_1 * 3, 6)\n",
    "    for i in range(row_1):\n",
    "        if i == row_1 - 1:\n",
    "            c = count - c * i\n",
    "        for j in range(c):\n",
    "            port_count += 1\n",
    "            g1 = widgets.Button(layout=widgets.Layout(width='160px', height='80px',border='solid'),description=f'До воздействия')\n",
    "            g1.on_click(functools.partial(before_on_button_clicked, rs_=f'{port_count}'))\n",
    "\n",
    "            g2 =  widgets.Button(layout=widgets.Layout(width='160px', height='80px',border='solid'),description=f'После воздействия')\n",
    "            g2.on_click(functools.partial(after_on_button_clicked, value_dict=value_dict, rs_=f'{port_count}'))\n",
    "#             Port_Button = widgets.Label(value = r'\\(\\color{Gold}  {''Портевич:' + str(port_count)  + '}\\)',layout=widgets.Layout(display=\"flex\",width='160px', height='80px',align_items='center', justify_content = 'center'))\n",
    "            Port_Button = widgets.HTML(value=''' <style>\n",
    "h4 {\n",
    "  border: 3px solid;\n",
    "  margin: 0;\n",
    "  display: flex;\n",
    "  transform:translateY(50px);\n",
    "  justify-content: center;\n",
    "  align-items:center;\n",
    "  background-color:var(--jp-layout-color2);\n",
    "}\n",
    "</style>\n",
    "<h4> Порт :''' + f' {port_count}</h4>')\n",
    "#             Port_Button.style.button_color = 'lightgreen'\n",
    "#             Port_Button.style.text_color = 'lightgreen'\n",
    "            grid[row + 0, j] = Port_Button\n",
    "            grid[row + 1, j] = g1\n",
    "            grid[row + 2, j] = g2\n",
    "        row += 3\n",
    "    display(grid)\n"
   ]
  },
  {
   "cell_type": "code",
   "execution_count": 140,
   "metadata": {
    "scrolled": true
   },
   "outputs": [],
   "source": [
    "param(if_value,poin_value,at_value,cap_value)\n",
    "\n",
    "\n",
    "date_inf = f'{date.today()}'\n",
    "time_inf = inst.query(f'SYST:TIME?')"
   ]
  },
  {
   "cell_type": "code",
   "execution_count": 141,
   "metadata": {},
   "outputs": [],
   "source": [
    "def marksearch(value_dict):\n",
    "        \n",
    "    trace = inst.query(f'CALC1:PAR1:DEF?')\n",
    "    inst.write(f'CALC1:TRAC1:MARK1:STAT ON')\n",
    "    inst.write(f'CALC1:TRAC1:MARK2:STAT ON')\n",
    "    inst.write(f'CALC1:MARK1:FUNC:TYPE MAX')\n",
    "    inst.write(f'CALC1:MARK2:FUNC:TYPE MIN')\n",
    "\n",
    "    inst.write(f'CALC1:MARK1:FUNC:EXEC')\n",
    "    inst.write(f'CALC1:MARK2:FUNC:EXEC')\n",
    "\n",
    "    \n",
    "    max_value = format(abs(float(inst.query(f'CALC1:MARK1:Y?').split(',')[0])),'.9f')\n",
    "    min_value = format(abs(float(inst.query(f'CALC1:MARK2:Y?').split(',')[0])),'.9f')\n",
    "    if max_value > min_value:\n",
    "        value_dict.update({f'{trace}': max_value})\n",
    "    else:\n",
    "        value_dict.update({f'{trace}': min_value})\n",
    "    return value_dict"
   ]
  },
  {
   "cell_type": "code",
   "execution_count": 142,
   "metadata": {},
   "outputs": [],
   "source": [
    "table_dictionary = {}\n",
    "def table_saver(table_dictionary, port_data, trace_value):\n",
    "    table_dictionary.update({port_data:trace_value})"
   ]
  },
  {
   "cell_type": "code",
   "execution_count": 143,
   "metadata": {},
   "outputs": [],
   "source": [
    "def tablehtml(value_dict, table_dictionary): \n",
    "    htmlstr = \"<table border='1' ><tr><td>Порт</td><td>Отклонение</td><td>Максимум, дБ</td></tr><tr>\"\n",
    "    count = 0\n",
    "    MAX = -1\n",
    "    res_value_dict = {}\n",
    "    res_value_dict.update(value_dict)\n",
    "    for trace in res_value_dict.keys():\n",
    "        if float(res_value_dict[f'{trace}']) > float(MAX):\n",
    "            MAX = res_value_dict[f'{trace}']\n",
    "    for trace in res_value_dict.keys():\n",
    "        trace_value = res_value_dict[f'{trace}']\n",
    "        cut = (len(trace)-1)//2 + 1\n",
    "        port_data = trace[cut:]\n",
    "#         port_data = trace\n",
    "        if trace_value == MAX:\n",
    "            htmlstr += f'<td>{port_data}</td><td class = bg-warning>{trace_value}</td>'\n",
    "            table_saver(table_dictionary, port_data, trace_value)\n",
    "        else:\n",
    "            htmlstr += f'<td>{port_data}</td><td>{trace_value}</td>'\n",
    "            table_saver(table_dictionary, port_data, trace_value)\n",
    "        if count == 0:\n",
    "            htmlstr += f'<td rowspan={len(res_value_dict.keys())+1}>{MAX}</td>'\n",
    "            count += 1\n",
    "        htmlstr += \"</tr><tr>\"\n",
    "    htmlstr += '''</tr><style type=\"text/css\">\n",
    "td{\n",
    "    padding: 2px;\n",
    "    border-collapse: collapse;\n",
    "    background-color:palegreen;\n",
    "}\n",
    "tr{\n",
    "   padding: 2px;\n",
    "   color: blue;\n",
    "   border-collapse: collapse;\n",
    "   font-family:verdana;\n",
    "}\n",
    "tr{\n",
    "   font-size:20px;\n",
    "   color:black;\n",
    "   border-collapse: collapse;\n",
    "   text-align:center;\n",
    "}\n",
    "</style>'''\n",
    "    return htmlstr\n",
    "\n"
   ]
  },
  {
   "cell_type": "code",
   "execution_count": 144,
   "metadata": {},
   "outputs": [],
   "source": [
    "def teblehader():\n",
    "    idn_inf = inst.query(f'*IDN?').split(', ')\n",
    "    htmlstr = \"<table border='1' ><tr><td> Дата запуска </td><td> Время запуска </td><td>  device </td><td> model </td><td> serial </td><td>  version </td></tr><tr>\"\n",
    "    htmlstr += f'<td>{date_inf}</td><td>{time_inf}</td><td>{idn_inf[0]}</td><td>{idn_inf[1]}</td><td>{idn_inf[2]}</td><td>{idn_inf[3]}</td>'\n",
    "    return htmlstr"
   ]
  },
  {
   "cell_type": "code",
   "execution_count": 145,
   "metadata": {},
   "outputs": [],
   "source": [
    "def before_on_button_clicked(b, rs_=\"some_default_string\"):\n",
    "    setport(rs_)\n",
    "    one_scan(inst)\n",
    "    normalize(inst)\n",
    "    one_scan(inst)\n",
    "    b.button_style = 'success'"
   ]
  },
  {
   "cell_type": "code",
   "execution_count": 146,
   "metadata": {},
   "outputs": [],
   "source": [
    "def after_on_button_clicked(b, value_dict, rs_=\"some_default_string\"):\n",
    "    setport(rs_)\n",
    "    one_scan(inst)\n",
    "    marksearch(value_dict)\n",
    "    out.value = teblehader() + tablehtml(value_dict, table_dictionary)\n",
    "    b.button_style = 'success'\n",
    "    global save_button\n",
    "    save_button.file_data = teblehader() + tablehtml(value_dict, table_dictionary)\n"
   ]
  },
  {
   "cell_type": "code",
   "execution_count": 147,
   "metadata": {},
   "outputs": [],
   "source": [
    "def dict_keys_to_type(a, Type):\n",
    "    new_a = {}\n",
    "    for key in a:\n",
    "        if Type == str:\n",
    "            new_a.update({' ' + (Type(key) * 2):a[key]})\n",
    "        else:\n",
    "            new_a.update({Type(key):a[key]})\n",
    "    return(new_a)"
   ]
  },
  {
   "cell_type": "code",
   "execution_count": 148,
   "metadata": {},
   "outputs": [],
   "source": [
    "# a = {2: 3, 4: 7, 1: 9, 12 : 4, 6: 8}\n",
    "# print(a)\n",
    "# a.update({2: 1, 4: 1, 1: 1, 12 : 1, 6: 1})\n",
    "# print(a)"
   ]
  },
  {
   "cell_type": "code",
   "execution_count": 176,
   "metadata": {},
   "outputs": [],
   "source": [
    "def sort_on_button_clicked(b, table_dictionary):\n",
    "    table_dictionary = dict_keys_to_type(table_dictionary, int)\n",
    "    table_dictionary = dict(sorted(table_dictionary.items()))\n",
    "    table_dictionary = dict_keys_to_type(table_dictionary, str)\n",
    "    out.value = teblehader() + tablehtml(table_dictionary, table_dictionary)\n",
    "\n",
    "    \n",
    "    \n",
    "    \n",
    "    \n",
    "#     g2 =  widgets.Button(layout=widgets.Layout(width='160px', height='80px',border='solid'),description=f'После воздействия')\n",
    "#     g2.on_click(functools.partial(after_on_button_clicked, value_dict=value_dict, rs_=f'{port_count}'))"
   ]
  },
  {
   "cell_type": "code",
   "execution_count": 172,
   "metadata": {
    "scrolled": false
   },
   "outputs": [
    {
     "data": {
      "application/vnd.jupyter.widget-view+json": {
       "model_id": "720d811f3dd6421abd7246dd1f739ff0",
       "version_major": 2,
       "version_minor": 0
      },
      "text/plain": [
       "GridspecLayout(children=(HTML(value=' <style>\\nh4 {\\n  border: 3px solid;\\n  margin: 0;\\n  display: flex;\\n  t…"
      ]
     },
     "metadata": {},
     "output_type": "display_data"
    },
    {
     "data": {
      "application/vnd.jupyter.widget-view+json": {
       "model_id": "52e0af2a524547229366f39f28e6ae49",
       "version_major": 2,
       "version_minor": 0
      },
      "text/plain": [
       "HTML(value='<table border=\\'1\\' ><tr><td> Дата запуска </td><td> Время запуска </td><td>  device </td><td> mod…"
      ]
     },
     "metadata": {},
     "output_type": "display_data"
    },
    {
     "data": {
      "application/vnd.jupyter.widget-view+json": {
       "model_id": "65cdaaed1b9946218d9edc17f8ab55cb",
       "version_major": 2,
       "version_minor": 0
      },
      "text/plain": [
       "Button(description='Сортировка', layout=Layout(border='solid', height='80px', width='160px'), style=ButtonStyl…"
      ]
     },
     "metadata": {},
     "output_type": "display_data"
    },
    {
     "data": {
      "application/vnd.jupyter.widget-view+json": {
       "model_id": "7f14358345854c3eb9a2e262548e1fc5",
       "version_major": 2,
       "version_minor": 0
      },
      "text/plain": [
       "SaveFilesButton(description='SaveFiles', icon='square-o', style=ButtonStyle(button_color='orange'))"
      ]
     },
     "metadata": {},
     "output_type": "display_data"
    },
    {
     "name": "stdout",
     "output_type": "stream",
     "text": [
      "{'9': '26.891500000', '6': '23.137600000', '3': '19.343700000', '11': '19.341700000', '14': '22.432600000', '8': '26.373300000', '5': '0.004764420'}\n"
     ]
    },
    {
     "ename": "TypeError",
     "evalue": "sort_on_button_clicked() got an unexpected keyword argument 'table_dictionary'",
     "output_type": "error",
     "traceback": [
      "\u001b[1;31m---------------------------------------------------------------------------\u001b[0m",
      "\u001b[1;31mTypeError\u001b[0m                                 Traceback (most recent call last)",
      "\u001b[1;31mTypeError\u001b[0m: sort_on_button_clicked() got an unexpected keyword argument 'table_dictionary'"
     ]
    }
   ],
   "source": [
    "\n",
    "gridbutton(int(inst.query(f'SERV:PORT:COUN?')), value_dict)\n",
    "display(out)\n",
    "# sort_button=\n",
    "save_button = SaveFilesButton(out.value)\n",
    "sort_button = widgets.Button(layout=widgets.Layout(width='160px', height='80px',border='solid'),description=f'Сортировка')\n",
    "sort_button.on_click(functools.partial(sort_on_button_clicked, table_dictionary = table_dictionary))\n",
    "display(sort_button)\n",
    "display(save_button)\n",
    "print(table_dictionary)\n"
   ]
  },
  {
   "cell_type": "code",
   "execution_count": null,
   "metadata": {},
   "outputs": [],
   "source": []
  },
  {
   "cell_type": "code",
   "execution_count": null,
   "metadata": {},
   "outputs": [],
   "source": []
  },
  {
   "cell_type": "code",
   "execution_count": null,
   "metadata": {},
   "outputs": [],
   "source": []
  },
  {
   "cell_type": "code",
   "execution_count": null,
   "metadata": {},
   "outputs": [],
   "source": []
  },
  {
   "cell_type": "code",
   "execution_count": null,
   "metadata": {},
   "outputs": [],
   "source": []
  }
 ],
 "metadata": {
  "kernelspec": {
   "display_name": "Python 3 (ipykernel)",
   "language": "python",
   "name": "python3"
  },
  "language_info": {
   "codemirror_mode": {
    "name": "ipython",
    "version": 3
   },
   "file_extension": ".py",
   "mimetype": "text/x-python",
   "name": "python",
   "nbconvert_exporter": "python",
   "pygments_lexer": "ipython3",
   "version": "3.10.5"
  }
 },
 "nbformat": 4,
 "nbformat_minor": 2
}
