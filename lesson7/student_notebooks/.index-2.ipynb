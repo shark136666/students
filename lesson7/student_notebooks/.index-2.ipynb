{
 "cells": [
  {
   "cell_type": "code",
   "execution_count": null,
   "metadata": {},
   "outputs": [],
   "source": [
    "%load_ext autoreload\n",
    "%autoreload 1\n",
    "# %autoreload?\n",
    "# %aimport <module>"
   ]
  },
  {
   "cell_type": "code",
   "execution_count": null,
   "metadata": {
    "scrolled": false
   },
   "outputs": [],
   "source": [
    "import filecmp\n",
    "import os\n",
    "from shutil import copyfile\n",
    "\n",
    "def sync_startup():\n",
    "    ip = get_ipython()\n",
    "    profile_startup_file = os.path.join(ip.profile_dir.startup_dir, r'10-clo_startup.py')\n",
    "    local_startup_file = os.path.normpath(r'pymodules/clo/startup.py')\n",
    "    try:\n",
    "        if filecmp.cmp(profile_startup_file, local_startup_file, shallow=False) == False:\n",
    "            raise RuntimeError(\"Files don't match\")\n",
    "    except:\n",
    "        copyfile(local_startup_file, profile_startup_file)\n",
    "        exec(open(local_startup_file).read(), globals())\n",
    "\n",
    "try:\n",
    "    sync_startup()\n",
    "except:\n",
    "    pass"
   ]
  },
  {
   "cell_type": "code",
   "execution_count": null,
   "metadata": {},
   "outputs": [],
   "source": []
  },
  {
   "cell_type": "code",
   "execution_count": null,
   "metadata": {},
   "outputs": [],
   "source": [
    "%aimport clo_widgets.settings.settings_view\n",
    "from ipywidgets import widgets\n",
    "from IPython.display import display"
   ]
  },
  {
   "cell_type": "code",
   "execution_count": null,
   "metadata": {
    "scrolled": false
   },
   "outputs": [],
   "source": [
    "settings_view = clo_widgets.settings.settings_view.create_settings_view()\n",
    "# settings_view.show()\n",
    "settings_accordion = widgets.Accordion(children=[settings_view.widget()], selected_index=None)\n",
    "settings_accordion.set_title(0, \"Settings\")\n",
    "display(settings_accordion)"
   ]
  },
  {
   "cell_type": "code",
   "execution_count": null,
   "metadata": {},
   "outputs": [],
   "source": []
  },
  {
   "cell_type": "code",
   "execution_count": null,
   "metadata": {
    "scrolled": false
   },
   "outputs": [],
   "source": [
    "%aimport clo_widgets.tests.tests_view\n",
    "# import clo_widgets.tests.tests_view"
   ]
  },
  {
   "cell_type": "code",
   "execution_count": null,
   "metadata": {
    "scrolled": false
   },
   "outputs": [],
   "source": [
    "w = clo_widgets.tests.tests_view.TestsWidget()\n",
    "display(\"Test phrase1\")\n",
    "w.show()\n",
    "display(\"Test phrase2\")\n",
    "w.set_root_dir(r'devices')"
   ]
  },
  {
   "cell_type": "code",
   "execution_count": null,
   "metadata": {},
   "outputs": [],
   "source": []
  }
 ],
 "metadata": {
  "kernelspec": {
   "display_name": "Python 3",
   "language": "python",
   "name": "python3"
  },
  "language_info": {
   "codemirror_mode": {
    "name": "ipython",
    "version": 3
   },
   "file_extension": ".py",
   "mimetype": "text/x-python",
   "name": "python",
   "nbconvert_exporter": "python",
   "pygments_lexer": "ipython3",
   "version": "3.7.3"
  },
  "widgets": {
   "application/vnd.jupyter.widget-state+json": {
    "state": {
     "01373e63c8d8465e850745261db4da8d": {
      "model_module": "@jupyter-widgets/controls",
      "model_module_version": "1.4.0",
      "model_name": "ButtonModel",
      "state": {
       "description": "Choose device",
       "layout": "IPY_MODEL_39f5b154baf747128890adf4890a44dd",
       "style": "IPY_MODEL_ff6181ab597e40d3acaca6403e23d2c3",
       "tooltip": "Choose selected device"
      }
     },
     "01d0b93d9dc54dbcb7f56526cfe7ed9c": {
      "model_module": "@jupyter-widgets/controls",
      "model_module_version": "1.4.0",
      "model_name": "ButtonStyleModel",
      "state": {}
     },
     "01f24a718fa841e0a93eda5e42791287": {
      "model_module": "@jupyter-widgets/controls",
      "model_module_version": "1.4.0",
      "model_name": "ButtonModel",
      "state": {
       "description": "Discover devices",
       "disabled": true,
       "layout": "IPY_MODEL_e5dceb0786e5434f9049aa7130dc6837",
       "style": "IPY_MODEL_b47c7265ccb7491f934fe5ef6bd85c61",
       "tooltip": "Scan network for available devices"
      }
     },
     "021187582d334c5689c6353074d0452f": {
      "model_module": "@jupyter-widgets/controls",
      "model_module_version": "1.4.0",
      "model_name": "ButtonStyleModel",
      "state": {}
     },
     "02b78b67698b428897f15744ea762767": {
      "model_module": "@jupyter-widgets/base",
      "model_module_version": "1.1.0",
      "model_name": "LayoutModel",
      "state": {}
     },
     "037780e6dd3b4f458f333ca5b994f1ae": {
      "model_module": "@jupyter-widgets/controls",
      "model_module_version": "1.4.0",
      "model_name": "DescriptionStyleModel",
      "state": {
       "description_width": "initial"
      }
     },
     "049c48dc5f774cb8a692d53a09f8e235": {
      "model_module": "@jupyter-widgets/base",
      "model_module_version": "1.1.0",
      "model_name": "LayoutModel",
      "state": {
       "display": "flex",
       "flex_flow": "row",
       "justify_content": "space-between"
      }
     },
     "060e160d9d1a4caa8275d8560406ecb6": {
      "model_module": "@jupyter-widgets/controls",
      "model_module_version": "1.4.0",
      "model_name": "BoxModel",
      "state": {
       "children": [
        "IPY_MODEL_897343b6e65a46b3b8239a20493cfce5",
        "IPY_MODEL_5af7ed5cda6f4a8b9aace99f2fabc3e4"
       ],
       "layout": "IPY_MODEL_049c48dc5f774cb8a692d53a09f8e235"
      }
     },
     "062e60a3536645a998345a281135160b": {
      "model_module": "@jupyter-widgets/base",
      "model_module_version": "1.1.0",
      "model_name": "LayoutModel",
      "state": {}
     },
     "06777171dd1d4184995d055b5b72b78d": {
      "model_module": "@jupyter-widgets/controls",
      "model_module_version": "1.4.0",
      "model_name": "ButtonModel",
      "state": {
       "description": "Choose device",
       "layout": "IPY_MODEL_062e60a3536645a998345a281135160b",
       "style": "IPY_MODEL_7c7339f442cc45f99a4336b75bbfd19f",
       "tooltip": "Choose selected device"
      }
     },
     "077c99b31f364fbdb32fc7e3f96f045a": {
      "model_module": "@jupyter-widgets/base",
      "model_module_version": "1.1.0",
      "model_name": "LayoutModel",
      "state": {
       "visibility": "hidden"
      }
     },
     "07ef28d71e164ccc8e71dcbac9e3d609": {
      "model_module": "@jupyter-widgets/controls",
      "model_module_version": "1.4.0",
      "model_name": "ButtonModel",
      "state": {
       "description": "Discover devices",
       "layout": "IPY_MODEL_f26d0d36e8ba495a8e712574543c2d68",
       "style": "IPY_MODEL_391330b318c34a859b04367da99d5bbf",
       "tooltip": "Scan network for available devices"
      }
     },
     "082281f1c6b84bc788d6fa647621aa27": {
      "model_module": "@jupyter-widgets/base",
      "model_module_version": "1.1.0",
      "model_name": "LayoutModel",
      "state": {
       "flex": "1 1 auto"
      }
     },
     "082c0806067349e892726fbf6cd7c90e": {
      "model_module": "@jupyter-widgets/base",
      "model_module_version": "1.1.0",
      "model_name": "LayoutModel",
      "state": {}
     },
     "09716626e7dc4827a38e1a1602cd7cb7": {
      "model_module": "@jupyter-widgets/controls",
      "model_module_version": "1.4.0",
      "model_name": "ButtonStyleModel",
      "state": {}
     },
     "0991090cb10c49d186e92009f0041767": {
      "model_module": "@jupyter-widgets/controls",
      "model_module_version": "1.4.0",
      "model_name": "BoxModel",
      "state": {
       "children": [
        "IPY_MODEL_0bf6ef4b05ca4ee3a7562cad55b40f23",
        "IPY_MODEL_2b6fc22e399c4437a61116ad676c3b8d"
       ],
       "layout": "IPY_MODEL_292805e9fd8843b89c23f096f62d2102"
      }
     },
     "0a84c5121bc542fea6eee42693dc2329": {
      "model_module": "@jupyter-widgets/controls",
      "model_module_version": "1.4.0",
      "model_name": "ButtonStyleModel",
      "state": {}
     },
     "0bf6ef4b05ca4ee3a7562cad55b40f23": {
      "model_module": "@jupyter-widgets/controls",
      "model_module_version": "1.4.0",
      "model_name": "IntProgressModel",
      "state": {
       "layout": "IPY_MODEL_4c497395f0a743e3a98a06bad51bfedf",
       "max": 0,
       "style": "IPY_MODEL_8e88f913449f4d729d66179bc674f4e4"
      }
     },
     "0df1ba4942e04b18bbbbb73822bd9431": {
      "model_module": "@jupyter-widgets/base",
      "model_module_version": "1.1.0",
      "model_name": "LayoutModel",
      "state": {
       "flex": "1 1 auto"
      }
     },
     "0f05ffa492a247e59af8d6e9b69fd815": {
      "model_module": "@jupyter-widgets/base",
      "model_module_version": "1.1.0",
      "model_name": "LayoutModel",
      "state": {
       "visibility": "hidden"
      }
     },
     "11d46880cf39439ea94b397b254d23c6": {
      "model_module": "@jupyter-widgets/controls",
      "model_module_version": "1.4.0",
      "model_name": "ButtonStyleModel",
      "state": {}
     },
     "139fce60102045ee9e43c2f41416b449": {
      "model_module": "@jupyter-widgets/controls",
      "model_module_version": "1.4.0",
      "model_name": "ButtonStyleModel",
      "state": {}
     },
     "141bd5fa7da549e7a69064f43ca14509": {
      "model_module": "@jupyter-widgets/base",
      "model_module_version": "1.1.0",
      "model_name": "LayoutModel",
      "state": {}
     },
     "14a280662e584513aafb776bd9502458": {
      "model_module": "@jupyter-widgets/controls",
      "model_module_version": "1.4.0",
      "model_name": "BoxModel",
      "state": {
       "children": [
        "IPY_MODEL_ceadabed5a6f4a5d99842a3441e1ffc4",
        "IPY_MODEL_7f0dabb39cb04c63ad0edcc5d8af6f1b"
       ],
       "layout": "IPY_MODEL_51c48f7bfade4e4682e55096a99ec1e7"
      }
     },
     "14c2a0c8bc38463abe7a7e38049d3d34": {
      "model_module": "@jupyter-widgets/controls",
      "model_module_version": "1.4.0",
      "model_name": "ButtonStyleModel",
      "state": {}
     },
     "15ab4f988dc941f4900f71a99caba5dd": {
      "model_module": "@jupyter-widgets/base",
      "model_module_version": "1.1.0",
      "model_name": "LayoutModel",
      "state": {}
     },
     "16cdaf503b3b4b3c9c8c530a34f96651": {
      "model_module": "@jupyter-widgets/base",
      "model_module_version": "1.1.0",
      "model_name": "LayoutModel",
      "state": {
       "flex": "0 1 auto"
      }
     },
     "17e84e4b284d4b9b939c268bed59c65d": {
      "model_module": "@jupyter-widgets/controls",
      "model_module_version": "1.4.0",
      "model_name": "ButtonModel",
      "state": {
       "description": "Discover devices",
       "layout": "IPY_MODEL_dc903cdad4f94ec48022432dabb3e143",
       "style": "IPY_MODEL_021187582d334c5689c6353074d0452f",
       "tooltip": "Scan network for available devices"
      }
     },
     "186e5ce520ab476b928870a8ebf84863": {
      "model_module": "@jupyter-widgets/controls",
      "model_module_version": "1.4.0",
      "model_name": "HBoxModel",
      "state": {
       "children": [
        "IPY_MODEL_c243ad038f0e4802af0400bef08fe3b3",
        "IPY_MODEL_c55625176cfa4c3182dfe465653bbdcc",
        "IPY_MODEL_b1c4c3eec2174061946fdf6569de9b45",
        "IPY_MODEL_effd0b3dd0cc4064ae16a15ba4ada391"
       ],
       "layout": "IPY_MODEL_5cbe2e780bcc4864b9fb9c8a0fa1fec6"
      }
     },
     "195329a271ae4c04bc573971053b80c1": {
      "model_module": "@jupyter-widgets/controls",
      "model_module_version": "1.4.0",
      "model_name": "VBoxModel",
      "state": {
       "children": [
        "IPY_MODEL_afb678dd5e4a422c84dbd7cd9b8547d2",
        "IPY_MODEL_46065f8861a44dc2b1943ffc3ee67462",
        "IPY_MODEL_7f900d27e0b54557a7d52715595e840f",
        "IPY_MODEL_0991090cb10c49d186e92009f0041767"
       ],
       "layout": "IPY_MODEL_c2bf8c45a4104ced8d848de3f0c3a6f8"
      }
     },
     "19ba053d79bf4941a07a37cda84e5802": {
      "model_module": "@jupyter-widgets/controls",
      "model_module_version": "1.4.0",
      "model_name": "ButtonModel",
      "state": {
       "description": "Discover devices",
       "layout": "IPY_MODEL_0df1ba4942e04b18bbbbb73822bd9431",
       "style": "IPY_MODEL_3cac077c231c49819e7e82759df6c188",
       "tooltip": "Scan network for available devices"
      }
     },
     "1a9a9a3c60804f9ba2e0b5221f7eb7b5": {
      "model_module": "@jupyter-widgets/controls",
      "model_module_version": "1.4.0",
      "model_name": "DescriptionStyleModel",
      "state": {
       "description_width": ""
      }
     },
     "1b4dfe9261f0414aa7cca171cafdcba5": {
      "model_module": "@jupyter-widgets/controls",
      "model_module_version": "1.4.0",
      "model_name": "DescriptionStyleModel",
      "state": {
       "description_width": ""
      }
     },
     "1bf22739ba9a4fe8a3ea820c41706adb": {
      "model_module": "@jupyter-widgets/controls",
      "model_module_version": "1.4.0",
      "model_name": "HTMLModel",
      "state": {
       "layout": "IPY_MODEL_9353a1f23fc24c73bffee31f7f9a487f",
       "style": "IPY_MODEL_e4fb9c7e07f94c18b4b9a11d9a2e71eb"
      }
     },
     "1c3110459d9e4cbeabb9845728b08dff": {
      "model_module": "@jupyter-widgets/base",
      "model_module_version": "1.1.0",
      "model_name": "LayoutModel",
      "state": {
       "flex": "1 1 auto"
      }
     },
     "1c91f6c0995c4b72b42a675293d9e158": {
      "model_module": "@jupyter-widgets/controls",
      "model_module_version": "1.4.0",
      "model_name": "VBoxModel",
      "state": {
       "children": [
        "IPY_MODEL_186e5ce520ab476b928870a8ebf84863",
        "IPY_MODEL_697fe063dc1648239c0a7205122e268c",
        "IPY_MODEL_810c9654b347456b9e875b2974670056",
        "IPY_MODEL_5ad942ea9ff24b1faab1db7c95b3ec14"
       ],
       "layout": "IPY_MODEL_9551e8b8c3634a32916cb874c9db3e48"
      }
     },
     "1d1a5d795d2b4cfc9017216634c1b0fa": {
      "model_module": "@jupyter-widgets/controls",
      "model_module_version": "1.4.0",
      "model_name": "LabelModel",
      "state": {
       "layout": "IPY_MODEL_47badb18bfc2402282613e0228c57f5a",
       "style": "IPY_MODEL_33bf3454664244f0ad84bc26e4cf2177",
       "value": "/24"
      }
     },
     "1d371978962c4de88876dda804d46afb": {
      "model_module": "@jupyter-widgets/controls",
      "model_module_version": "1.4.0",
      "model_name": "ButtonStyleModel",
      "state": {}
     },
     "214fdb5bd6b740819b44697fe50611ca": {
      "model_module": "@jupyter-widgets/controls",
      "model_module_version": "1.4.0",
      "model_name": "ButtonStyleModel",
      "state": {}
     },
     "21bd75da84c44587b545e6b2dba16bc2": {
      "model_module": "@jupyter-widgets/controls",
      "model_module_version": "1.4.0",
      "model_name": "HTMLModel",
      "state": {
       "layout": "IPY_MODEL_86105bf18467429f80cd09f20dcf962b",
       "style": "IPY_MODEL_a1a901ab528b44f08c4fd9892413c73a"
      }
     },
     "2233fba187054cb6a048921506a05e41": {
      "model_module": "@jupyter-widgets/base",
      "model_module_version": "1.1.0",
      "model_name": "LayoutModel",
      "state": {}
     },
     "22456917cff44212a37b130ca46e02d6": {
      "model_module": "@jupyter-widgets/controls",
      "model_module_version": "1.4.0",
      "model_name": "ButtonModel",
      "state": {
       "description": "Discover devices",
       "disabled": true,
       "layout": "IPY_MODEL_5b1e4794d4c2473a824ee20fd292c841",
       "style": "IPY_MODEL_532addcb8c344eaeb3b693db3a837d99",
       "tooltip": "Scan network for available devices"
      }
     },
     "2298a5dc07f840d4935d5a6719bfae5f": {
      "model_module": "@jupyter-widgets/controls",
      "model_module_version": "1.4.0",
      "model_name": "VBoxModel",
      "state": {
       "children": [
        "IPY_MODEL_5e8e3f231bec454cbbf695817b14a7ba",
        "IPY_MODEL_442220f81d804ae490af2aeb11bb346a",
        "IPY_MODEL_780eba4cc9c64fd5921e6f2c9eb6dbb3",
        "IPY_MODEL_d15be730d2424a8f87e87be0bb2f6964"
       ],
       "layout": "IPY_MODEL_d5086df8d5a24117bbfd9f64e18e8307"
      }
     },
     "231dc174b12a40f6b0f51525bc5ee276": {
      "model_module": "@jupyter-widgets/base",
      "model_module_version": "1.1.0",
      "model_name": "LayoutModel",
      "state": {}
     },
     "23732a6ca7954b6b9589673068fb2f17": {
      "model_module": "@jupyter-widgets/base",
      "model_module_version": "1.1.0",
      "model_name": "LayoutModel",
      "state": {
       "flex": "1 1 auto"
      }
     },
     "23d26b9d14304ace974b4cb5893256eb": {
      "model_module": "@jupyter-widgets/base",
      "model_module_version": "1.1.0",
      "model_name": "LayoutModel",
      "state": {}
     },
     "24f4ea1b32c94320ad36c111441fe12f": {
      "model_module": "@jupyter-widgets/base",
      "model_module_version": "1.1.0",
      "model_name": "LayoutModel",
      "state": {
       "flex": "1 1 auto"
      }
     },
     "26788a5a0b7c4d50b9859dd6055b9d7f": {
      "model_module": "@jupyter-widgets/controls",
      "model_module_version": "1.4.0",
      "model_name": "IntProgressModel",
      "state": {
       "layout": "IPY_MODEL_cb8a08af6e5545abbf433d8d49b05478",
       "max": 254,
       "style": "IPY_MODEL_fe2141fa93884efd9bcdba4dc9a18742"
      }
     },
     "2898bd9b226e4ad883f2fe80fb0635a2": {
      "model_module": "@jupyter-widgets/controls",
      "model_module_version": "1.4.0",
      "model_name": "ButtonStyleModel",
      "state": {}
     },
     "2918e165fdc94620b518bfc603b1c04c": {
      "model_module": "@jupyter-widgets/controls",
      "model_module_version": "1.4.0",
      "model_name": "DescriptionStyleModel",
      "state": {
       "description_width": ""
      }
     },
     "292805e9fd8843b89c23f096f62d2102": {
      "model_module": "@jupyter-widgets/base",
      "model_module_version": "1.1.0",
      "model_name": "LayoutModel",
      "state": {
       "display": "flex",
       "flex_flow": "row",
       "justify_content": "space-between"
      }
     },
     "29491829fedd4f5d8c3c158a5dc927e5": {
      "model_module": "@jupyter-widgets/base",
      "model_module_version": "1.1.0",
      "model_name": "LayoutModel",
      "state": {}
     },
     "2b6fc22e399c4437a61116ad676c3b8d": {
      "model_module": "@jupyter-widgets/controls",
      "model_module_version": "1.4.0",
      "model_name": "ButtonModel",
      "state": {
       "description": "Choose device",
       "layout": "IPY_MODEL_15ab4f988dc941f4900f71a99caba5dd",
       "style": "IPY_MODEL_e223a3a8488b41d99cbbe155c0047faf",
       "tooltip": "Choose selected device"
      }
     },
     "2b9c9225adb843b3b0262a521b710551": {
      "model_module": "@jupyter-widgets/base",
      "model_module_version": "1.1.0",
      "model_name": "LayoutModel",
      "state": {}
     },
     "2be8844411094e20b7c7bb130d26d9f5": {
      "model_module": "@jupyter-widgets/base",
      "model_module_version": "1.1.0",
      "model_name": "LayoutModel",
      "state": {}
     },
     "30091146c25e4672acd3bacccbb09eb7": {
      "model_module": "@jupyter-widgets/controls",
      "model_module_version": "1.4.0",
      "model_name": "ButtonModel",
      "state": {
       "description": "Stop",
       "layout": "IPY_MODEL_082281f1c6b84bc788d6fa647621aa27",
       "style": "IPY_MODEL_2898bd9b226e4ad883f2fe80fb0635a2",
       "tooltip": "Stop discover process"
      }
     },
     "31b104f8f8fb45a6ab7549bf9b102224": {
      "model_module": "@jupyter-widgets/base",
      "model_module_version": "1.1.0",
      "model_name": "LayoutModel",
      "state": {
       "flex": "1 1 auto"
      }
     },
     "33bf3454664244f0ad84bc26e4cf2177": {
      "model_module": "@jupyter-widgets/controls",
      "model_module_version": "1.4.0",
      "model_name": "DescriptionStyleModel",
      "state": {
       "description_width": ""
      }
     },
     "33ddb71291584e18a8623b061be94b4b": {
      "model_module": "@jupyter-widgets/controls",
      "model_module_version": "1.4.0",
      "model_name": "ProgressStyleModel",
      "state": {
       "description_width": ""
      }
     },
     "3401b639c1034f5d893045b8c93c761a": {
      "model_module": "@jupyter-widgets/controls",
      "model_module_version": "1.4.0",
      "model_name": "ButtonStyleModel",
      "state": {}
     },
     "35be41f314a04537a55efddf4ee63c0e": {
      "model_module": "@jupyter-widgets/base",
      "model_module_version": "1.1.0",
      "model_name": "LayoutModel",
      "state": {
       "visibility": "hidden"
      }
     },
     "35cfcc215c894c209e89593f45835663": {
      "model_module": "@jupyter-widgets/controls",
      "model_module_version": "1.4.0",
      "model_name": "ButtonStyleModel",
      "state": {}
     },
     "3622b30bbdd74aa7a5f80933af163cea": {
      "model_module": "@jupyter-widgets/controls",
      "model_module_version": "1.4.0",
      "model_name": "DescriptionStyleModel",
      "state": {
       "description_width": "initial"
      }
     },
     "37688cf5d94d4c3a925f7cef4cd13384": {
      "model_module": "@jupyter-widgets/base",
      "model_module_version": "1.1.0",
      "model_name": "LayoutModel",
      "state": {
       "flex": "0 1 auto"
      }
     },
     "391330b318c34a859b04367da99d5bbf": {
      "model_module": "@jupyter-widgets/controls",
      "model_module_version": "1.4.0",
      "model_name": "ButtonStyleModel",
      "state": {}
     },
     "39f5b154baf747128890adf4890a44dd": {
      "model_module": "@jupyter-widgets/base",
      "model_module_version": "1.1.0",
      "model_name": "LayoutModel",
      "state": {}
     },
     "3a004eaefdd8449689aba4f9a0b5f9fe": {
      "model_module": "@jupyter-widgets/controls",
      "model_module_version": "1.4.0",
      "model_name": "VBoxModel",
      "state": {
       "children": [
        "IPY_MODEL_407cf0e4b7b445d3816db6dac897cff6",
        "IPY_MODEL_f0610184dfec4468aa3ceff676e41bb7",
        "IPY_MODEL_5cc3ee51037e492190dcc36f561d43b8",
        "IPY_MODEL_b1cda4201a2e4167b66adc1a5f76b378"
       ],
       "layout": "IPY_MODEL_3b1ea03c0ca54a2ca703de189be9ced7"
      }
     },
     "3a949736d5234c15a58056d6c2fd47c2": {
      "model_module": "@jupyter-widgets/base",
      "model_module_version": "1.1.0",
      "model_name": "LayoutModel",
      "state": {}
     },
     "3b1ea03c0ca54a2ca703de189be9ced7": {
      "model_module": "@jupyter-widgets/base",
      "model_module_version": "1.1.0",
      "model_name": "LayoutModel",
      "state": {}
     },
     "3cac077c231c49819e7e82759df6c188": {
      "model_module": "@jupyter-widgets/controls",
      "model_module_version": "1.4.0",
      "model_name": "ButtonStyleModel",
      "state": {}
     },
     "3ed45b240f684afc85a133ba07d3feeb": {
      "model_module": "@jupyter-widgets/base",
      "model_module_version": "1.1.0",
      "model_name": "LayoutModel",
      "state": {}
     },
     "3f3f7ade62024fa2bd9b5e22fc72ba56": {
      "model_module": "qgrid",
      "model_module_version": "1.1.1",
      "model_name": "QgridModel",
      "state": {
       "_columns": {
        "index": {
         "cssClass": "integer first-idx-col idx-col first-idx-col idx-col",
         "defaultSortAsc": true,
         "editable": true,
         "field": "index",
         "first_index": true,
         "id": "index",
         "index_display_text": "",
         "is_index": true,
         "level": 0,
         "minWidth": 30,
         "name": "",
         "position": 0,
         "resizable": true,
         "sortable": true,
         "toolTip": "",
         "type": "integer"
        },
        "qgrid_unfiltered_index": {
         "cssClass": "number",
         "defaultSortAsc": true,
         "editable": true,
         "field": "qgrid_unfiltered_index",
         "id": "qgrid_unfiltered_index",
         "maxWidth": null,
         "minWidth": 30,
         "name": "qgrid_unfiltered_index",
         "position": 1,
         "resizable": true,
         "sortable": true,
         "toolTip": "",
         "type": "number",
         "width": null
        }
       },
       "_df_json": "{\"schema\": {\"fields\":[{\"name\":\"index\",\"type\":\"integer\"},{\"name\":\"qgrid_unfiltered_index\",\"type\":\"number\"}],\"primaryKey\":[\"index\"],\"pandas_version\":\"0.20.0\"}, \"data\": []}",
       "_df_range": [
        0,
        100
       ],
       "_editable_rows": {},
       "_index_col_name": "qgrid_unfiltered_index",
       "_interval_columns": [],
       "_model_module_version": "1.1.1",
       "_multi_index": false,
       "_row_count": 0,
       "_row_styles": {},
       "_sort_ascending": true,
       "_sort_field": null,
       "_view_module_version": "1.1.1",
       "_viewport_range": [
        0,
        100
       ],
       "grid_options": {
        "autoEdit": false,
        "boldIndex": true,
        "defaultColumnWidth": 150,
        "editable": false,
        "enableColumnReorder": false,
        "enableTextSelectionOnCells": true,
        "explicitInitialization": true,
        "filterable": true,
        "forceFitColumns": true,
        "fullWidthRows": true,
        "highlightSelectedCell": false,
        "highlightSelectedRow": true,
        "maxVisibleRows": 15,
        "minVisibleRows": 8,
        "rowHeight": 28,
        "sortable": true,
        "syncColumnCellResize": true
       },
       "id": "91e4805c-b81a-49da-a704-81543035c2e9",
       "layout": "IPY_MODEL_ba96c56f83ab42d29210c6fafc87154b",
       "precision": 5,
       "show_toolbar": false
      }
     },
     "407cf0e4b7b445d3816db6dac897cff6": {
      "model_module": "@jupyter-widgets/controls",
      "model_module_version": "1.4.0",
      "model_name": "HBoxModel",
      "state": {
       "children": [
        "IPY_MODEL_4debd061d3c045f8b0d8425bdcb49208",
        "IPY_MODEL_6e505a7e149f4117b27c730b5480def4",
        "IPY_MODEL_baba287802dd4e3d8c6bfaf414ad6d98",
        "IPY_MODEL_8a3b3996745a42dfbb865156fb18217f"
       ],
       "layout": "IPY_MODEL_e2d8852e96df4c96aec3d5e5076d6c81"
      }
     },
     "4088b10882534f5eb83822c431ae5d0e": {
      "model_module": "@jupyter-widgets/base",
      "model_module_version": "1.1.0",
      "model_name": "LayoutModel",
      "state": {
       "display": "flex",
       "flex_flow": "row",
       "justify_content": "space-between"
      }
     },
     "40e017f7a30e43d8a47139901202eca6": {
      "model_module": "@jupyter-widgets/base",
      "model_module_version": "1.1.0",
      "model_name": "LayoutModel",
      "state": {
       "flex": "1 1 auto"
      }
     },
     "4118cb2f0f184bc9b9e634d0f61206ec": {
      "model_module": "@jupyter-widgets/base",
      "model_module_version": "1.1.0",
      "model_name": "LayoutModel",
      "state": {}
     },
     "42ea015bb5d346f69d363ac1e70adaa7": {
      "model_module": "@jupyter-widgets/controls",
      "model_module_version": "1.4.0",
      "model_name": "IntProgressModel",
      "state": {
       "layout": "IPY_MODEL_f79c786af1824bee819fd01dd6674c21",
       "max": 0,
       "style": "IPY_MODEL_69b0c57324114d5c81313bf83f27009c"
      }
     },
     "43f4f3d72cdb4dc4bda375abded05f4c": {
      "model_module": "@jupyter-widgets/controls",
      "model_module_version": "1.4.0",
      "model_name": "LabelModel",
      "state": {
       "layout": "IPY_MODEL_24f4ea1b32c94320ad36c111441fe12f",
       "style": "IPY_MODEL_fd1535eaa14e44db98e9f146209acedf",
       "value": "/24"
      }
     },
     "442220f81d804ae490af2aeb11bb346a": {
      "model_module": "@jupyter-widgets/controls",
      "model_module_version": "1.4.0",
      "model_name": "HTMLModel",
      "state": {
       "layout": "IPY_MODEL_4ebbee6e81dc4633a3b2fa7f26ef198a",
       "style": "IPY_MODEL_2918e165fdc94620b518bfc603b1c04c"
      }
     },
     "4438493a9f0b41289382a7a716041044": {
      "model_module": "@jupyter-widgets/base",
      "model_module_version": "1.1.0",
      "model_name": "LayoutModel",
      "state": {
       "display": "flex",
       "flex_flow": "row",
       "justify_content": "space-between"
      }
     },
     "448c584c48a94f60affc1a5fe995ee18": {
      "model_module": "@jupyter-widgets/controls",
      "model_module_version": "1.4.0",
      "model_name": "HTMLModel",
      "state": {
       "layout": "IPY_MODEL_4c145baa64164667babed796b998cf0d",
       "style": "IPY_MODEL_5f3927cf80b043b4bc0a919025e3d52c"
      }
     },
     "44b9ba86e911440c91b8dd51bec50fda": {
      "model_module": "@jupyter-widgets/controls",
      "model_module_version": "1.4.0",
      "model_name": "VBoxModel",
      "state": {
       "children": [
        "IPY_MODEL_9f395b598fa6484f809e914adde920e5",
        "IPY_MODEL_21bd75da84c44587b545e6b2dba16bc2",
        "IPY_MODEL_3f3f7ade62024fa2bd9b5e22fc72ba56",
        "IPY_MODEL_6f2f881a698f427da608c4d54838ec31"
       ],
       "layout": "IPY_MODEL_082c0806067349e892726fbf6cd7c90e"
      }
     },
     "4507e90f67c44ce7a234ae0ac73cc862": {
      "model_module": "@jupyter-widgets/base",
      "model_module_version": "1.1.0",
      "model_name": "LayoutModel",
      "state": {
       "flex": "1 1 auto"
      }
     },
     "45ab2fe3049a4ad79908b099c36215fb": {
      "model_module": "@jupyter-widgets/controls",
      "model_module_version": "1.4.0",
      "model_name": "DescriptionStyleModel",
      "state": {
       "description_width": "initial"
      }
     },
     "46065f8861a44dc2b1943ffc3ee67462": {
      "model_module": "@jupyter-widgets/controls",
      "model_module_version": "1.4.0",
      "model_name": "HTMLModel",
      "state": {
       "layout": "IPY_MODEL_781ba6b7b7734e0b9e2bcbae2c31009c",
       "style": "IPY_MODEL_b78a29023af14b12bda518f42312e085"
      }
     },
     "46364b46166e4d06921f8848e53de5b1": {
      "model_module": "@jupyter-widgets/controls",
      "model_module_version": "1.4.0",
      "model_name": "ButtonModel",
      "state": {
       "description": "Stop",
       "disabled": true,
       "layout": "IPY_MODEL_e7a259e2767c470e84ea56cca98d9e7b",
       "style": "IPY_MODEL_7424cc3a62f54634824c79ac921a7fee",
       "tooltip": "Stop discover process"
      }
     },
     "46798045d19c4688ab149b759e6fd192": {
      "model_module": "@jupyter-widgets/controls",
      "model_module_version": "1.4.0",
      "model_name": "VBoxModel",
      "state": {
       "children": [
        "IPY_MODEL_f82f2f2b9c9f40fb9805db6babff6f99",
        "IPY_MODEL_1bf22739ba9a4fe8a3ea820c41706adb",
        "IPY_MODEL_f99de6e265d64684aa8fbe3256e05075",
        "IPY_MODEL_e828231d7fc34aeaa8cf0969d5309255"
       ],
       "layout": "IPY_MODEL_def2afa3ee59477d8f8312a516ca4232"
      }
     },
     "46a97e37a9714a12a8a0978fef0a29ba": {
      "model_module": "@jupyter-widgets/base",
      "model_module_version": "1.1.0",
      "model_name": "LayoutModel",
      "state": {
       "flex": "0 1 auto"
      }
     },
     "477e391126c44696a0222fe529318fe4": {
      "model_module": "@jupyter-widgets/controls",
      "model_module_version": "1.4.0",
      "model_name": "ButtonStyleModel",
      "state": {}
     },
     "47badb18bfc2402282613e0228c57f5a": {
      "model_module": "@jupyter-widgets/base",
      "model_module_version": "1.1.0",
      "model_name": "LayoutModel",
      "state": {
       "flex": "1 1 auto"
      }
     },
     "47d544f20f744845a3c0075711668d10": {
      "model_module": "@jupyter-widgets/base",
      "model_module_version": "1.1.0",
      "model_name": "LayoutModel",
      "state": {
       "display": "flex",
       "flex_flow": "row",
       "justify_content": "space-between"
      }
     },
     "49b09acdd5704802bed959edb95cb5fa": {
      "model_module": "@jupyter-widgets/controls",
      "model_module_version": "1.4.0",
      "model_name": "ProgressStyleModel",
      "state": {
       "description_width": ""
      }
     },
     "4aadd0282b854b448d482c938b684304": {
      "model_module": "@jupyter-widgets/controls",
      "model_module_version": "1.4.0",
      "model_name": "TextModel",
      "state": {
       "description": "network address",
       "layout": "IPY_MODEL_702af87c3ef149378ce82f7ad49b42c6",
       "placeholder": "192.168.1.0",
       "style": "IPY_MODEL_75add81172ef4b75b9dd5d981ca456a9",
       "value": "192.168.1.0"
      }
     },
     "4ad7d722787344d1a6f7fceaf95a23ea": {
      "model_module": "@jupyter-widgets/base",
      "model_module_version": "1.1.0",
      "model_name": "LayoutModel",
      "state": {
       "flex": "0 1 auto"
      }
     },
     "4c111fd6e9424cf5bb1c8e45ba01414b": {
      "model_module": "@jupyter-widgets/controls",
      "model_module_version": "1.4.0",
      "model_name": "DescriptionStyleModel",
      "state": {
       "description_width": ""
      }
     },
     "4c145baa64164667babed796b998cf0d": {
      "model_module": "@jupyter-widgets/base",
      "model_module_version": "1.1.0",
      "model_name": "LayoutModel",
      "state": {}
     },
     "4c497395f0a743e3a98a06bad51bfedf": {
      "model_module": "@jupyter-widgets/base",
      "model_module_version": "1.1.0",
      "model_name": "LayoutModel",
      "state": {
       "visibility": "hidden"
      }
     },
     "4cc3417230884c78a7d3800acbb09771": {
      "model_module": "@jupyter-widgets/base",
      "model_module_version": "1.1.0",
      "model_name": "LayoutModel",
      "state": {}
     },
     "4d34e647008546bca82fadde909ebc77": {
      "model_module": "@jupyter-widgets/base",
      "model_module_version": "1.1.0",
      "model_name": "LayoutModel",
      "state": {}
     },
     "4debd061d3c045f8b0d8425bdcb49208": {
      "model_module": "@jupyter-widgets/controls",
      "model_module_version": "1.4.0",
      "model_name": "TextModel",
      "state": {
       "description": "network address",
       "layout": "IPY_MODEL_b8f4afc124b14e5184a4653758732e46",
       "placeholder": "192.168.1.0",
       "style": "IPY_MODEL_f63e2ec46b2e469ca887edf6917a6b51",
       "value": "192.168.1.0"
      }
     },
     "4ebbee6e81dc4633a3b2fa7f26ef198a": {
      "model_module": "@jupyter-widgets/base",
      "model_module_version": "1.1.0",
      "model_name": "LayoutModel",
      "state": {}
     },
     "4ef450f124774f1581c3243556c0408c": {
      "model_module": "@jupyter-widgets/controls",
      "model_module_version": "1.4.0",
      "model_name": "HTMLModel",
      "state": {
       "layout": "IPY_MODEL_8de479aed9ba46ba834575326b21c1cb",
       "style": "IPY_MODEL_b8b286ac53804491a005322ca6867e34"
      }
     },
     "50328d6683fb408c88be55785916ed49": {
      "model_module": "@jupyter-widgets/base",
      "model_module_version": "1.1.0",
      "model_name": "LayoutModel",
      "state": {
       "flex": "1 1 auto"
      }
     },
     "515fed821de74db1a2b6e773841fd0d5": {
      "model_module": "@jupyter-widgets/controls",
      "model_module_version": "1.4.0",
      "model_name": "HBoxModel",
      "state": {
       "children": [
        "IPY_MODEL_9250099adaf342e4bcbcca6ccd8029a2",
        "IPY_MODEL_d3418098bc7c4025a1bec33b859bb5f5",
        "IPY_MODEL_67979dabfa6b4c8594992d7ce10986bf",
        "IPY_MODEL_87452f2060ee405eb68449fa812b1417"
       ],
       "layout": "IPY_MODEL_2233fba187054cb6a048921506a05e41"
      }
     },
     "51c48f7bfade4e4682e55096a99ec1e7": {
      "model_module": "@jupyter-widgets/base",
      "model_module_version": "1.1.0",
      "model_name": "LayoutModel",
      "state": {
       "display": "flex",
       "flex_flow": "row",
       "justify_content": "space-between"
      }
     },
     "522c528d544c4bb787a2fbc9e7f12046": {
      "model_module": "@jupyter-widgets/base",
      "model_module_version": "1.1.0",
      "model_name": "LayoutModel",
      "state": {}
     },
     "532addcb8c344eaeb3b693db3a837d99": {
      "model_module": "@jupyter-widgets/controls",
      "model_module_version": "1.4.0",
      "model_name": "ButtonStyleModel",
      "state": {}
     },
     "54a2dc54899a4f88b144722acf92c06f": {
      "model_module": "@jupyter-widgets/base",
      "model_module_version": "1.1.0",
      "model_name": "LayoutModel",
      "state": {}
     },
     "5553fc4296f143efbe8a3924a8a0daf1": {
      "model_module": "@jupyter-widgets/base",
      "model_module_version": "1.1.0",
      "model_name": "LayoutModel",
      "state": {
       "display": "flex",
       "flex_flow": "row",
       "justify_content": "space-between"
      }
     },
     "56d55d3efbb54e39aaed25b76cb0ff37": {
      "model_module": "@jupyter-widgets/controls",
      "model_module_version": "1.4.0",
      "model_name": "TextModel",
      "state": {
       "description": "network address",
       "layout": "IPY_MODEL_894d3177eadf45b0bca14c48d3a16d65",
       "placeholder": "192.168.1.0",
       "style": "IPY_MODEL_45ab2fe3049a4ad79908b099c36215fb",
       "value": "192.168.1.0"
      }
     },
     "57de361e60d3446190224fab84868705": {
      "model_module": "@jupyter-widgets/base",
      "model_module_version": "1.1.0",
      "model_name": "LayoutModel",
      "state": {
       "display": "flex",
       "flex_flow": "row",
       "justify_content": "space-between"
      }
     },
     "588e54b7c00e4308870a1e74da12d56b": {
      "model_module": "@jupyter-widgets/controls",
      "model_module_version": "1.4.0",
      "model_name": "DescriptionStyleModel",
      "state": {
       "description_width": "initial"
      }
     },
     "58c39dd0980348bfb14f606ce4ea1d67": {
      "model_module": "@jupyter-widgets/controls",
      "model_module_version": "1.4.0",
      "model_name": "VBoxModel",
      "state": {
       "children": [
        "IPY_MODEL_fff13cd9858a4d12add43facca4c8f15",
        "IPY_MODEL_448c584c48a94f60affc1a5fe995ee18",
        "IPY_MODEL_987c116c5ead4aeaa2f24f7f8e1aab25",
        "IPY_MODEL_621c4677e88e4d17a11015f4024e929c"
       ],
       "layout": "IPY_MODEL_8ba44ed0c3a94c6785f75553274e7118"
      }
     },
     "59d1f100d2774d898d77ec0d7cd8d50a": {
      "model_module": "@jupyter-widgets/controls",
      "model_module_version": "1.4.0",
      "model_name": "ProgressStyleModel",
      "state": {
       "description_width": ""
      }
     },
     "5ad942ea9ff24b1faab1db7c95b3ec14": {
      "model_module": "@jupyter-widgets/controls",
      "model_module_version": "1.4.0",
      "model_name": "BoxModel",
      "state": {
       "children": [
        "IPY_MODEL_91cbccac696e44f08568c2752935dbe1",
        "IPY_MODEL_c65f23517ff645e9934e09ee19ccdf48"
       ],
       "layout": "IPY_MODEL_4088b10882534f5eb83822c431ae5d0e"
      }
     },
     "5af7ed5cda6f4a8b9aace99f2fabc3e4": {
      "model_module": "@jupyter-widgets/controls",
      "model_module_version": "1.4.0",
      "model_name": "ButtonModel",
      "state": {
       "description": "Choose device",
       "layout": "IPY_MODEL_3ed45b240f684afc85a133ba07d3feeb",
       "style": "IPY_MODEL_01d0b93d9dc54dbcb7f56526cfe7ed9c",
       "tooltip": "Choose selected device"
      }
     },
     "5b1e4794d4c2473a824ee20fd292c841": {
      "model_module": "@jupyter-widgets/base",
      "model_module_version": "1.1.0",
      "model_name": "LayoutModel",
      "state": {
       "flex": "1 1 auto"
      }
     },
     "5cbe2e780bcc4864b9fb9c8a0fa1fec6": {
      "model_module": "@jupyter-widgets/base",
      "model_module_version": "1.1.0",
      "model_name": "LayoutModel",
      "state": {}
     },
     "5cc3ee51037e492190dcc36f561d43b8": {
      "model_module": "qgrid",
      "model_module_version": "1.1.1",
      "model_name": "QgridModel",
      "state": {
       "_columns": {
        "index": {
         "cssClass": "integer first-idx-col idx-col",
         "defaultSortAsc": true,
         "editable": true,
         "field": "index",
         "first_index": true,
         "id": "index",
         "index_display_text": "",
         "is_index": true,
         "level": 0,
         "minWidth": 30,
         "name": "",
         "position": 0,
         "resizable": true,
         "sortable": true,
         "toolTip": "",
         "type": "integer"
        },
        "model": {
         "cssClass": "string",
         "defaultSortAsc": true,
         "editable": true,
         "field": "model",
         "id": "model",
         "minWidth": 30,
         "name": "model",
         "position": 3,
         "resizable": true,
         "sortable": true,
         "toolTip": "",
         "type": "string"
        },
        "producer": {
         "cssClass": "string",
         "defaultSortAsc": true,
         "editable": true,
         "field": "producer",
         "id": "producer",
         "minWidth": 30,
         "name": "producer",
         "position": 2,
         "resizable": true,
         "sortable": true,
         "toolTip": "",
         "type": "string"
        },
        "qgrid_unfiltered_index": {
         "cssClass": "integer",
         "defaultSortAsc": true,
         "editable": true,
         "field": "qgrid_unfiltered_index",
         "id": "qgrid_unfiltered_index",
         "maxWidth": null,
         "minWidth": 30,
         "name": "qgrid_unfiltered_index",
         "position": 1,
         "resizable": true,
         "sortable": true,
         "toolTip": "",
         "type": "integer",
         "width": null
        },
        "resource": {
         "cssClass": "string",
         "defaultSortAsc": true,
         "editable": true,
         "field": "resource",
         "id": "resource",
         "minWidth": 30,
         "name": "resource",
         "position": 6,
         "resizable": true,
         "sortable": true,
         "toolTip": "",
         "type": "string"
        },
        "serial": {
         "cssClass": "string",
         "defaultSortAsc": true,
         "editable": true,
         "field": "serial",
         "id": "serial",
         "minWidth": 30,
         "name": "serial",
         "position": 4,
         "resizable": true,
         "sortable": true,
         "toolTip": "",
         "type": "string"
        },
        "version": {
         "cssClass": "string",
         "defaultSortAsc": true,
         "editable": true,
         "field": "version",
         "id": "version",
         "minWidth": 30,
         "name": "version",
         "position": 5,
         "resizable": true,
         "sortable": true,
         "toolTip": "",
         "type": "string"
        }
       },
       "_df_json": "{\"schema\": {\"fields\":[{\"name\":\"index\",\"type\":\"integer\"},{\"name\":\"qgrid_unfiltered_index\",\"type\":\"integer\"},{\"name\":\"producer\",\"type\":\"string\"},{\"name\":\"model\",\"type\":\"string\"},{\"name\":\"serial\",\"type\":\"string\"},{\"name\":\"version\",\"type\":\"string\"},{\"name\":\"resource\",\"type\":\"string\"}],\"primaryKey\":[\"index\"],\"pandas_version\":\"0.20.0\"}, \"data\": [{\"index\":3,\"qgrid_unfiltered_index\":2,\"producer\":\"COPPER MOUNTAIN TECHNOLOGIES\",\"model\":\"\",\"serial\":\"\",\"version\":\"\",\"resource\":\"TCPIP0::3232235969::5025::SOCKET\"},{\"index\":1,\"qgrid_unfiltered_index\":0,\"producer\":\"Planar\",\"model\":\"Obzor-804\",\"serial\":\"\",\"version\":\"19.1.3\\/1\",\"resource\":\"TCPIP0::3232235862::5025::SOCKET\"},{\"index\":4,\"qgrid_unfiltered_index\":3,\"producer\":\"CMT\",\"model\":\"S5048\",\"serial\":\"15047071\",\"version\":\"19.2.3\\/2\",\"resource\":\"TCPIP0::3232235988::5025::SOCKET\"},{\"index\":2,\"qgrid_unfiltered_index\":1,\"producer\":\"CMT\",\"model\":\"PLANAR-804\\/1\",\"serial\":\"\",\"version\":\"19.2.3\\/3\",\"resource\":\"TCPIP0::3232235940::5025::SOCKET\"}]}",
       "_df_range": [
        0,
        100
       ],
       "_editable_rows": {},
       "_index_col_name": "qgrid_unfiltered_index",
       "_interval_columns": [],
       "_model_module_version": "1.1.1",
       "_multi_index": false,
       "_row_count": 4,
       "_row_styles": {},
       "_sort_ascending": true,
       "_sort_field": "version",
       "_view_module_version": "1.1.1",
       "_viewport_range": [
        0,
        100
       ],
       "grid_options": {
        "autoEdit": false,
        "boldIndex": true,
        "defaultColumnWidth": 150,
        "editable": false,
        "enableColumnReorder": false,
        "enableTextSelectionOnCells": true,
        "explicitInitialization": true,
        "filterable": true,
        "forceFitColumns": true,
        "fullWidthRows": true,
        "highlightSelectedCell": false,
        "highlightSelectedRow": true,
        "maxVisibleRows": 15,
        "minVisibleRows": 8,
        "rowHeight": 28,
        "sortable": true,
        "syncColumnCellResize": true
       },
       "id": "f0dfa1fb-549e-4b72-91d5-61c3cc11fa6b",
       "layout": "IPY_MODEL_3a949736d5234c15a58056d6c2fd47c2",
       "precision": 5,
       "show_toolbar": false
      }
     },
     "5d88794bad0b47878972a28b9d790796": {
      "model_module": "@jupyter-widgets/controls",
      "model_module_version": "1.4.0",
      "model_name": "ButtonModel",
      "state": {
       "description": "Stop",
       "disabled": true,
       "layout": "IPY_MODEL_be257234e7f949ff9203737600b80f59",
       "style": "IPY_MODEL_3401b639c1034f5d893045b8c93c761a",
       "tooltip": "Stop discover process"
      }
     },
     "5dcb885a516641abaa57b064dab719ec": {
      "model_module": "@jupyter-widgets/base",
      "model_module_version": "1.1.0",
      "model_name": "LayoutModel",
      "state": {
       "flex": "1 1 auto"
      }
     },
     "5e8e3f231bec454cbbf695817b14a7ba": {
      "model_module": "@jupyter-widgets/controls",
      "model_module_version": "1.4.0",
      "model_name": "HBoxModel",
      "state": {
       "children": [
        "IPY_MODEL_77dbdc788fc3413c8dc98f49df7b443f",
        "IPY_MODEL_9ec1898ba2e0462db1aac2cd3b34c9bc",
        "IPY_MODEL_07ef28d71e164ccc8e71dcbac9e3d609",
        "IPY_MODEL_8989705480604ef0bf549df16687a004"
       ],
       "layout": "IPY_MODEL_8a1eff20292b45d785bbc9b448a79d3a"
      }
     },
     "5eec56d22a8743cd9cf23e9acd0cff3c": {
      "model_module": "@jupyter-widgets/controls",
      "model_module_version": "1.4.0",
      "model_name": "TextModel",
      "state": {
       "description": "network address",
       "layout": "IPY_MODEL_4ad7d722787344d1a6f7fceaf95a23ea",
       "placeholder": "192.168.1.0",
       "style": "IPY_MODEL_3622b30bbdd74aa7a5f80933af163cea",
       "value": "192.168.1.0"
      }
     },
     "5f3927cf80b043b4bc0a919025e3d52c": {
      "model_module": "@jupyter-widgets/controls",
      "model_module_version": "1.4.0",
      "model_name": "DescriptionStyleModel",
      "state": {
       "description_width": ""
      }
     },
     "61a837358e134eb7b4586d1e60f52c5d": {
      "model_module": "@jupyter-widgets/controls",
      "model_module_version": "1.4.0",
      "model_name": "ButtonStyleModel",
      "state": {}
     },
     "621c4677e88e4d17a11015f4024e929c": {
      "model_module": "@jupyter-widgets/controls",
      "model_module_version": "1.4.0",
      "model_name": "BoxModel",
      "state": {
       "children": [
        "IPY_MODEL_6bf90d6ca7a948fa976479df5adaefff",
        "IPY_MODEL_06777171dd1d4184995d055b5b72b78d"
       ],
       "layout": "IPY_MODEL_c9b7efef867e4977818e7bb71848df55"
      }
     },
     "622dd1b828764ff8bf7596f19877c303": {
      "model_module": "@jupyter-widgets/controls",
      "model_module_version": "1.4.0",
      "model_name": "BoxModel",
      "state": {
       "children": [
        "IPY_MODEL_cf28127253704449995fc1592d3bff95",
        "IPY_MODEL_dedc1235da41451eb0c0a40799b5f781"
       ],
       "layout": "IPY_MODEL_5553fc4296f143efbe8a3924a8a0daf1"
      }
     },
     "64574f27d4fe49f4a6c5cdf376251fd2": {
      "model_module": "@jupyter-widgets/base",
      "model_module_version": "1.1.0",
      "model_name": "LayoutModel",
      "state": {}
     },
     "66a2cbb785824be2ab0b913db40e8a9f": {
      "model_module": "@jupyter-widgets/controls",
      "model_module_version": "1.4.0",
      "model_name": "TextModel",
      "state": {
       "description": "network address",
       "layout": "IPY_MODEL_7484eb51563b404f9bbd20d83b1d73e2",
       "placeholder": "192.168.1.0",
       "style": "IPY_MODEL_b8a6a9724b7b450b91aa53b772c5eb3f",
       "value": "192.168.1.0"
      }
     },
     "67979dabfa6b4c8594992d7ce10986bf": {
      "model_module": "@jupyter-widgets/controls",
      "model_module_version": "1.4.0",
      "model_name": "ButtonModel",
      "state": {
       "description": "Discover devices",
       "layout": "IPY_MODEL_23732a6ca7954b6b9589673068fb2f17",
       "style": "IPY_MODEL_dbbe4ddf597c4cd485bf7cf358036d1c",
       "tooltip": "Scan network for available devices"
      }
     },
     "697fe063dc1648239c0a7205122e268c": {
      "model_module": "@jupyter-widgets/controls",
      "model_module_version": "1.4.0",
      "model_name": "HTMLModel",
      "state": {
       "layout": "IPY_MODEL_d9a333bed0f941ea99a669ac305eed2f",
       "style": "IPY_MODEL_4c111fd6e9424cf5bb1c8e45ba01414b"
      }
     },
     "69b0c57324114d5c81313bf83f27009c": {
      "model_module": "@jupyter-widgets/controls",
      "model_module_version": "1.4.0",
      "model_name": "ProgressStyleModel",
      "state": {
       "description_width": ""
      }
     },
     "6a23981d234c43b3b0712c4fd55797d2": {
      "model_module": "@jupyter-widgets/controls",
      "model_module_version": "1.4.0",
      "model_name": "HTMLModel",
      "state": {
       "layout": "IPY_MODEL_f3bd3d12ef494ab08ca9f30cefe06e9c",
       "style": "IPY_MODEL_b39daa0ba8d74c749046da2e591dd242"
      }
     },
     "6b6592a70fee401986261b3206700d37": {
      "model_module": "@jupyter-widgets/base",
      "model_module_version": "1.1.0",
      "model_name": "LayoutModel",
      "state": {}
     },
     "6bf90d6ca7a948fa976479df5adaefff": {
      "model_module": "@jupyter-widgets/controls",
      "model_module_version": "1.4.0",
      "model_name": "IntProgressModel",
      "state": {
       "layout": "IPY_MODEL_be18f6790a9c4666a60149001509e84b",
       "max": 0,
       "style": "IPY_MODEL_78386648a94b452f9050818b6945a01e"
      }
     },
     "6e505a7e149f4117b27c730b5480def4": {
      "model_module": "@jupyter-widgets/controls",
      "model_module_version": "1.4.0",
      "model_name": "LabelModel",
      "state": {
       "layout": "IPY_MODEL_1c3110459d9e4cbeabb9845728b08dff",
       "style": "IPY_MODEL_f05e2b7c45bb4f6f820c8d3c495e71fb",
       "value": "/24"
      }
     },
     "6f0b5d24ba8f4b7cb8f225035880610d": {
      "model_module": "@jupyter-widgets/controls",
      "model_module_version": "1.4.0",
      "model_name": "TextModel",
      "state": {
       "description": "network address",
       "layout": "IPY_MODEL_b12d320dca644a18b4c8fee97ef23e11",
       "placeholder": "192.168.1.0",
       "style": "IPY_MODEL_a74c13ffba044f4eb0bc39b999e2895a",
       "value": "192.168.1.0"
      }
     },
     "6f2f881a698f427da608c4d54838ec31": {
      "model_module": "@jupyter-widgets/controls",
      "model_module_version": "1.4.0",
      "model_name": "BoxModel",
      "state": {
       "children": [
        "IPY_MODEL_26788a5a0b7c4d50b9859dd6055b9d7f",
        "IPY_MODEL_fdcef34b6a8c4ec09e73b37d6064ca9a"
       ],
       "layout": "IPY_MODEL_4438493a9f0b41289382a7a716041044"
      }
     },
     "6fe25b185e2346f094d373fdb4986939": {
      "model_module": "@jupyter-widgets/controls",
      "model_module_version": "1.4.0",
      "model_name": "ButtonModel",
      "state": {
       "description": "Stop",
       "disabled": true,
       "layout": "IPY_MODEL_e927b0bf1ac64f2e91fb79a21d4a3872",
       "style": "IPY_MODEL_c0567b0a6d1f46db8db0be1b800a1a58",
       "tooltip": "Stop discover process"
      }
     },
     "702af87c3ef149378ce82f7ad49b42c6": {
      "model_module": "@jupyter-widgets/base",
      "model_module_version": "1.1.0",
      "model_name": "LayoutModel",
      "state": {
       "flex": "0 1 auto"
      }
     },
     "70f202ac35444623a2f858ba4db361eb": {
      "model_module": "@jupyter-widgets/controls",
      "model_module_version": "1.4.0",
      "model_name": "ButtonModel",
      "state": {
       "description": "Discover devices",
       "disabled": true,
       "layout": "IPY_MODEL_dadbf4073c0842288668cc443aadb43b",
       "style": "IPY_MODEL_35cfcc215c894c209e89593f45835663",
       "tooltip": "Scan network for available devices"
      }
     },
     "711ae13fc0e04866801446685f0f8fe0": {
      "model_module": "@jupyter-widgets/controls",
      "model_module_version": "1.4.0",
      "model_name": "DescriptionStyleModel",
      "state": {
       "description_width": ""
      }
     },
     "713140fa18d54b7790256523296b511f": {
      "model_module": "@jupyter-widgets/base",
      "model_module_version": "1.1.0",
      "model_name": "LayoutModel",
      "state": {
       "flex": "1 1 auto"
      }
     },
     "7424cc3a62f54634824c79ac921a7fee": {
      "model_module": "@jupyter-widgets/controls",
      "model_module_version": "1.4.0",
      "model_name": "ButtonStyleModel",
      "state": {}
     },
     "7462df50ac03434f8ec201a02072ce42": {
      "model_module": "@jupyter-widgets/controls",
      "model_module_version": "1.4.0",
      "model_name": "DescriptionStyleModel",
      "state": {
       "description_width": ""
      }
     },
     "7484eb51563b404f9bbd20d83b1d73e2": {
      "model_module": "@jupyter-widgets/base",
      "model_module_version": "1.1.0",
      "model_name": "LayoutModel",
      "state": {
       "flex": "0 1 auto"
      }
     },
     "75add81172ef4b75b9dd5d981ca456a9": {
      "model_module": "@jupyter-widgets/controls",
      "model_module_version": "1.4.0",
      "model_name": "DescriptionStyleModel",
      "state": {
       "description_width": "initial"
      }
     },
     "768d63ec59ca4351ada8cc4bcd3980d5": {
      "model_module": "@jupyter-widgets/base",
      "model_module_version": "1.1.0",
      "model_name": "LayoutModel",
      "state": {
       "flex": "1 1 auto"
      }
     },
     "77434ca89abe4a488e23616cbf06f20c": {
      "model_module": "@jupyter-widgets/base",
      "model_module_version": "1.1.0",
      "model_name": "LayoutModel",
      "state": {}
     },
     "77ab2382dd0b40ccb54f43d2fec39b6c": {
      "model_module": "@jupyter-widgets/controls",
      "model_module_version": "1.4.0",
      "model_name": "ButtonModel",
      "state": {
       "description": "Stop",
       "layout": "IPY_MODEL_e8cb8dc71bf743cd9b508dcb4847fee4",
       "style": "IPY_MODEL_8b02a769d6b846fdb5d3c1d1e7aedd33",
       "tooltip": "Stop discover process"
      }
     },
     "77dbdc788fc3413c8dc98f49df7b443f": {
      "model_module": "@jupyter-widgets/controls",
      "model_module_version": "1.4.0",
      "model_name": "TextModel",
      "state": {
       "description": "network address",
       "layout": "IPY_MODEL_37688cf5d94d4c3a925f7cef4cd13384",
       "placeholder": "192.168.1.0",
       "style": "IPY_MODEL_588e54b7c00e4308870a1e74da12d56b",
       "value": "192.168.1.0"
      }
     },
     "780eba4cc9c64fd5921e6f2c9eb6dbb3": {
      "model_module": "qgrid",
      "model_module_version": "1.1.1",
      "model_name": "QgridModel",
      "state": {
       "_columns": {
        "index": {
         "cssClass": "integer first-idx-col idx-col",
         "defaultSortAsc": true,
         "editable": true,
         "field": "index",
         "first_index": true,
         "id": "index",
         "index_display_text": "",
         "is_index": true,
         "level": 0,
         "minWidth": 30,
         "name": "",
         "position": 0,
         "resizable": true,
         "sortable": true,
         "toolTip": "",
         "type": "integer"
        },
        "model": {
         "cssClass": "string",
         "defaultSortAsc": true,
         "editable": true,
         "field": "model",
         "id": "model",
         "minWidth": 30,
         "name": "model",
         "position": 3,
         "resizable": true,
         "sortable": true,
         "toolTip": "",
         "type": "string"
        },
        "producer": {
         "cssClass": "string",
         "defaultSortAsc": true,
         "editable": true,
         "field": "producer",
         "id": "producer",
         "minWidth": 30,
         "name": "producer",
         "position": 2,
         "resizable": true,
         "sortable": true,
         "toolTip": "",
         "type": "string"
        },
        "qgrid_unfiltered_index": {
         "cssClass": "integer",
         "defaultSortAsc": true,
         "editable": true,
         "field": "qgrid_unfiltered_index",
         "id": "qgrid_unfiltered_index",
         "maxWidth": null,
         "minWidth": 30,
         "name": "qgrid_unfiltered_index",
         "position": 1,
         "resizable": true,
         "sortable": true,
         "toolTip": "",
         "type": "integer",
         "width": null
        },
        "resource": {
         "cssClass": "string",
         "defaultSortAsc": true,
         "editable": true,
         "field": "resource",
         "id": "resource",
         "minWidth": 30,
         "name": "resource",
         "position": 6,
         "resizable": true,
         "sortable": true,
         "toolTip": "",
         "type": "string"
        },
        "serial": {
         "cssClass": "string",
         "defaultSortAsc": true,
         "editable": true,
         "field": "serial",
         "id": "serial",
         "minWidth": 30,
         "name": "serial",
         "position": 4,
         "resizable": true,
         "sortable": true,
         "toolTip": "",
         "type": "string"
        },
        "version": {
         "cssClass": "string",
         "defaultSortAsc": true,
         "editable": true,
         "field": "version",
         "id": "version",
         "minWidth": 30,
         "name": "version",
         "position": 5,
         "resizable": true,
         "sortable": true,
         "toolTip": "",
         "type": "string"
        }
       },
       "_df_json": "{\"schema\": {\"fields\":[{\"name\":\"index\",\"type\":\"integer\"},{\"name\":\"qgrid_unfiltered_index\",\"type\":\"integer\"},{\"name\":\"producer\",\"type\":\"string\"},{\"name\":\"model\",\"type\":\"string\"},{\"name\":\"serial\",\"type\":\"string\"},{\"name\":\"version\",\"type\":\"string\"},{\"name\":\"resource\",\"type\":\"string\"}],\"primaryKey\":[\"index\"],\"pandas_version\":\"0.20.0\"}, \"data\": [{\"index\":3,\"qgrid_unfiltered_index\":2,\"producer\":\"COPPER MOUNTAIN TECHNOLOGIES\",\"model\":\"\",\"serial\":\"\",\"version\":\"\",\"resource\":\"TCPIP0::3232235969::5025::SOCKET\"},{\"index\":1,\"qgrid_unfiltered_index\":0,\"producer\":\"Planar\",\"model\":\"Obzor-804\",\"serial\":\"\",\"version\":\"19.1.3\\/1\",\"resource\":\"TCPIP0::3232235862::5025::SOCKET\"},{\"index\":2,\"qgrid_unfiltered_index\":1,\"producer\":\"CMT\",\"model\":\"PLANAR-804\\/1\",\"serial\":\"\",\"version\":\"19.2.3\\/3\",\"resource\":\"TCPIP0::3232235940::5025::SOCKET\"},{\"index\":4,\"qgrid_unfiltered_index\":3,\"producer\":\"CMT\",\"model\":\"S5048\",\"serial\":\"15047071\",\"version\":\"19.2.3\\/2\",\"resource\":\"TCPIP0::3232235988::5025::SOCKET\"}]}",
       "_df_range": [
        0,
        100
       ],
       "_editable_rows": {},
       "_index_col_name": "qgrid_unfiltered_index",
       "_interval_columns": [],
       "_model_module_version": "1.1.1",
       "_multi_index": false,
       "_row_count": 4,
       "_row_styles": {},
       "_sort_ascending": true,
       "_sort_field": "model",
       "_view_module_version": "1.1.1",
       "_viewport_range": [
        0,
        100
       ],
       "grid_options": {
        "autoEdit": false,
        "boldIndex": true,
        "defaultColumnWidth": 150,
        "editable": false,
        "enableColumnReorder": false,
        "enableTextSelectionOnCells": true,
        "explicitInitialization": true,
        "filterable": true,
        "forceFitColumns": true,
        "fullWidthRows": true,
        "highlightSelectedCell": false,
        "highlightSelectedRow": true,
        "maxVisibleRows": 15,
        "minVisibleRows": 8,
        "rowHeight": 28,
        "sortable": true,
        "syncColumnCellResize": true
       },
       "id": "14c1acda-de16-4de4-a4db-18300a6c1217",
       "layout": "IPY_MODEL_8133e742e2684a3d8c1aa06edcdc9eb7",
       "precision": 5,
       "show_toolbar": false
      }
     },
     "781ba6b7b7734e0b9e2bcbae2c31009c": {
      "model_module": "@jupyter-widgets/base",
      "model_module_version": "1.1.0",
      "model_name": "LayoutModel",
      "state": {}
     },
     "781ff3d762f2409d9a1a8a946baa2c44": {
      "model_module": "@jupyter-widgets/controls",
      "model_module_version": "1.4.0",
      "model_name": "DescriptionStyleModel",
      "state": {
       "description_width": "initial"
      }
     },
     "78386648a94b452f9050818b6945a01e": {
      "model_module": "@jupyter-widgets/controls",
      "model_module_version": "1.4.0",
      "model_name": "ProgressStyleModel",
      "state": {
       "description_width": ""
      }
     },
     "789e1b41dd764120ab84e91ebaf4cb13": {
      "model_module": "@jupyter-widgets/controls",
      "model_module_version": "1.4.0",
      "model_name": "HBoxModel",
      "state": {
       "children": [
        "IPY_MODEL_4aadd0282b854b448d482c938b684304",
        "IPY_MODEL_bb1d12ed063344108c4562f0514d034c",
        "IPY_MODEL_22456917cff44212a37b130ca46e02d6",
        "IPY_MODEL_5d88794bad0b47878972a28b9d790796"
       ],
       "layout": "IPY_MODEL_8fca7d92a7fe41538ed17192932034fa"
      }
     },
     "796bde1dae4747bba67419f3b87646be": {
      "model_module": "@jupyter-widgets/controls",
      "model_module_version": "1.4.0",
      "model_name": "TextModel",
      "state": {
       "description": "network address",
       "layout": "IPY_MODEL_46a97e37a9714a12a8a0978fef0a29ba",
       "placeholder": "192.168.1.0",
       "style": "IPY_MODEL_037780e6dd3b4f458f333ca5b994f1ae",
       "value": "192.168.1.0"
      }
     },
     "7a966400bdb242b3ab332b519fbc8773": {
      "model_module": "@jupyter-widgets/base",
      "model_module_version": "1.1.0",
      "model_name": "LayoutModel",
      "state": {
       "flex": "1 1 auto"
      }
     },
     "7c7339f442cc45f99a4336b75bbfd19f": {
      "model_module": "@jupyter-widgets/controls",
      "model_module_version": "1.4.0",
      "model_name": "ButtonStyleModel",
      "state": {}
     },
     "7f0dabb39cb04c63ad0edcc5d8af6f1b": {
      "model_module": "@jupyter-widgets/controls",
      "model_module_version": "1.4.0",
      "model_name": "ButtonModel",
      "state": {
       "description": "Choose device",
       "disabled": true,
       "layout": "IPY_MODEL_54a2dc54899a4f88b144722acf92c06f",
       "style": "IPY_MODEL_c00c963981594bd2a9a6edf3c0779dc6",
       "tooltip": "Choose selected device"
      }
     },
     "7f900d27e0b54557a7d52715595e840f": {
      "model_module": "qgrid",
      "model_module_version": "1.1.1",
      "model_name": "QgridModel",
      "state": {
       "_columns": {
        "index": {
         "cssClass": "integer first-idx-col idx-col",
         "defaultSortAsc": true,
         "editable": true,
         "field": "index",
         "first_index": true,
         "id": "index",
         "index_display_text": "",
         "is_index": true,
         "level": 0,
         "minWidth": 30,
         "name": "",
         "position": 0,
         "resizable": true,
         "sortable": true,
         "toolTip": "",
         "type": "integer"
        },
        "model": {
         "cssClass": "string",
         "defaultSortAsc": true,
         "editable": true,
         "field": "model",
         "id": "model",
         "minWidth": 30,
         "name": "model",
         "position": 3,
         "resizable": true,
         "sortable": true,
         "toolTip": "",
         "type": "string"
        },
        "producer": {
         "cssClass": "string",
         "defaultSortAsc": true,
         "editable": true,
         "field": "producer",
         "id": "producer",
         "minWidth": 30,
         "name": "producer",
         "position": 2,
         "resizable": true,
         "sortable": true,
         "toolTip": "",
         "type": "string"
        },
        "qgrid_unfiltered_index": {
         "cssClass": "integer",
         "defaultSortAsc": true,
         "editable": true,
         "field": "qgrid_unfiltered_index",
         "id": "qgrid_unfiltered_index",
         "maxWidth": null,
         "minWidth": 30,
         "name": "qgrid_unfiltered_index",
         "position": 1,
         "resizable": true,
         "sortable": true,
         "toolTip": "",
         "type": "integer",
         "width": null
        },
        "resource": {
         "cssClass": "string",
         "defaultSortAsc": true,
         "editable": true,
         "field": "resource",
         "id": "resource",
         "minWidth": 30,
         "name": "resource",
         "position": 6,
         "resizable": true,
         "sortable": true,
         "toolTip": "",
         "type": "string"
        },
        "serial": {
         "cssClass": "string",
         "defaultSortAsc": true,
         "editable": true,
         "field": "serial",
         "id": "serial",
         "minWidth": 30,
         "name": "serial",
         "position": 4,
         "resizable": true,
         "sortable": true,
         "toolTip": "",
         "type": "string"
        },
        "version": {
         "cssClass": "string",
         "defaultSortAsc": true,
         "editable": true,
         "field": "version",
         "id": "version",
         "minWidth": 30,
         "name": "version",
         "position": 5,
         "resizable": true,
         "sortable": true,
         "toolTip": "",
         "type": "string"
        }
       },
       "_df_json": "{\"schema\": {\"fields\":[{\"name\":\"index\",\"type\":\"integer\"},{\"name\":\"qgrid_unfiltered_index\",\"type\":\"integer\"},{\"name\":\"producer\",\"type\":\"string\"},{\"name\":\"model\",\"type\":\"string\"},{\"name\":\"serial\",\"type\":\"string\"},{\"name\":\"version\",\"type\":\"string\"},{\"name\":\"resource\",\"type\":\"string\"}],\"primaryKey\":[\"index\"],\"pandas_version\":\"0.20.0\"}, \"data\": [{\"index\":3,\"qgrid_unfiltered_index\":2,\"producer\":\"COPPER MOUNTAIN TECHNOLOGIES\",\"model\":\"\",\"serial\":\"\",\"version\":\"\",\"resource\":\"TCPIP0::3232235969::5025::SOCKET\"},{\"index\":1,\"qgrid_unfiltered_index\":0,\"producer\":\"Planar\",\"model\":\"Obzor-804\",\"serial\":\"\",\"version\":\"19.1.3\\/1\",\"resource\":\"TCPIP0::3232235862::5025::SOCKET\"},{\"index\":2,\"qgrid_unfiltered_index\":1,\"producer\":\"CMT\",\"model\":\"PLANAR-804\\/1\",\"serial\":\"\",\"version\":\"19.2.3\\/3\",\"resource\":\"TCPIP0::3232235940::5025::SOCKET\"},{\"index\":4,\"qgrid_unfiltered_index\":3,\"producer\":\"CMT\",\"model\":\"S5048\",\"serial\":\"15047071\",\"version\":\"19.2.3\\/2\",\"resource\":\"TCPIP0::3232235988::5025::SOCKET\"}]}",
       "_df_range": [
        0,
        100
       ],
       "_editable_rows": {},
       "_index_col_name": "qgrid_unfiltered_index",
       "_interval_columns": [],
       "_model_module_version": "1.1.1",
       "_multi_index": false,
       "_row_count": 4,
       "_row_styles": {},
       "_sort_ascending": true,
       "_sort_field": "model",
       "_view_module_version": "1.1.1",
       "_viewport_range": [
        0,
        100
       ],
       "grid_options": {
        "autoEdit": false,
        "boldIndex": true,
        "defaultColumnWidth": 150,
        "editable": false,
        "enableColumnReorder": false,
        "enableTextSelectionOnCells": true,
        "explicitInitialization": true,
        "filterable": true,
        "forceFitColumns": true,
        "fullWidthRows": true,
        "highlightSelectedCell": false,
        "highlightSelectedRow": true,
        "maxVisibleRows": 15,
        "minVisibleRows": 8,
        "rowHeight": 28,
        "sortable": true,
        "syncColumnCellResize": true
       },
       "id": "99ba9af1-d55e-4c99-81d2-48c517c30ec3",
       "layout": "IPY_MODEL_932ae26458b846a9b17f54f322c4cc25",
       "precision": 5,
       "show_toolbar": false
      }
     },
     "810c9654b347456b9e875b2974670056": {
      "model_module": "qgrid",
      "model_module_version": "1.1.1",
      "model_name": "QgridModel",
      "state": {
       "_columns": {
        "index": {
         "cssClass": "integer first-idx-col idx-col",
         "defaultSortAsc": true,
         "editable": true,
         "field": "index",
         "first_index": true,
         "id": "index",
         "index_display_text": "",
         "is_index": true,
         "level": 0,
         "minWidth": 30,
         "name": "",
         "position": 0,
         "resizable": true,
         "sortable": true,
         "toolTip": "",
         "type": "integer"
        },
        "model": {
         "cssClass": "string",
         "defaultSortAsc": true,
         "editable": true,
         "field": "model",
         "id": "model",
         "minWidth": 30,
         "name": "model",
         "position": 3,
         "resizable": true,
         "sortable": true,
         "toolTip": "",
         "type": "string"
        },
        "producer": {
         "cssClass": "string",
         "defaultSortAsc": true,
         "editable": true,
         "field": "producer",
         "id": "producer",
         "minWidth": 30,
         "name": "producer",
         "position": 2,
         "resizable": true,
         "sortable": true,
         "toolTip": "",
         "type": "string"
        },
        "qgrid_unfiltered_index": {
         "cssClass": "integer",
         "defaultSortAsc": true,
         "editable": true,
         "field": "qgrid_unfiltered_index",
         "id": "qgrid_unfiltered_index",
         "maxWidth": null,
         "minWidth": 30,
         "name": "qgrid_unfiltered_index",
         "position": 1,
         "resizable": true,
         "sortable": true,
         "toolTip": "",
         "type": "integer",
         "width": null
        },
        "resource": {
         "cssClass": "string",
         "defaultSortAsc": true,
         "editable": true,
         "field": "resource",
         "id": "resource",
         "minWidth": 30,
         "name": "resource",
         "position": 6,
         "resizable": true,
         "sortable": true,
         "toolTip": "",
         "type": "string"
        },
        "serial": {
         "cssClass": "string",
         "defaultSortAsc": true,
         "editable": true,
         "field": "serial",
         "id": "serial",
         "minWidth": 30,
         "name": "serial",
         "position": 4,
         "resizable": true,
         "sortable": true,
         "toolTip": "",
         "type": "string"
        },
        "version": {
         "cssClass": "string",
         "defaultSortAsc": true,
         "editable": true,
         "field": "version",
         "id": "version",
         "minWidth": 30,
         "name": "version",
         "position": 5,
         "resizable": true,
         "sortable": true,
         "toolTip": "",
         "type": "string"
        }
       },
       "_df_json": "{\"schema\": {\"fields\":[{\"name\":\"index\",\"type\":\"integer\"},{\"name\":\"qgrid_unfiltered_index\",\"type\":\"integer\"},{\"name\":\"producer\",\"type\":\"string\"},{\"name\":\"model\",\"type\":\"string\"},{\"name\":\"serial\",\"type\":\"string\"},{\"name\":\"version\",\"type\":\"string\"},{\"name\":\"resource\",\"type\":\"string\"}],\"primaryKey\":[\"index\"],\"pandas_version\":\"0.20.0\"}, \"data\": [{\"index\":3,\"qgrid_unfiltered_index\":2,\"producer\":\"COPPER MOUNTAIN TECHNOLOGIES\",\"model\":\"\",\"serial\":\"\",\"version\":\"\",\"resource\":\"TCPIP0::3232235969::5025::SOCKET\"},{\"index\":1,\"qgrid_unfiltered_index\":0,\"producer\":\"Planar\",\"model\":\"Obzor-804\",\"serial\":\"\",\"version\":\"19.1.3\\/1\",\"resource\":\"TCPIP0::3232235862::5025::SOCKET\"},{\"index\":2,\"qgrid_unfiltered_index\":1,\"producer\":\"CMT\",\"model\":\"PLANAR-804\\/1\",\"serial\":\"\",\"version\":\"19.2.3\\/3\",\"resource\":\"TCPIP0::3232235940::5025::SOCKET\"},{\"index\":4,\"qgrid_unfiltered_index\":3,\"producer\":\"CMT\",\"model\":\"S5048\",\"serial\":\"15047071\",\"version\":\"19.2.3\\/2\",\"resource\":\"TCPIP0::3232235988::5025::SOCKET\"}]}",
       "_df_range": [
        0,
        100
       ],
       "_editable_rows": {},
       "_index_col_name": "qgrid_unfiltered_index",
       "_interval_columns": [],
       "_model_module_version": "1.1.1",
       "_multi_index": false,
       "_row_count": 4,
       "_row_styles": {},
       "_sort_ascending": true,
       "_sort_field": "model",
       "_view_module_version": "1.1.1",
       "_viewport_range": [
        0,
        100
       ],
       "grid_options": {
        "autoEdit": false,
        "boldIndex": true,
        "defaultColumnWidth": 150,
        "editable": true,
        "enableColumnReorder": false,
        "enableTextSelectionOnCells": true,
        "explicitInitialization": true,
        "filterable": true,
        "forceFitColumns": true,
        "fullWidthRows": true,
        "highlightSelectedCell": false,
        "highlightSelectedRow": true,
        "maxVisibleRows": 15,
        "minVisibleRows": 8,
        "rowHeight": 28,
        "sortable": true,
        "syncColumnCellResize": true
       },
       "id": "abb87f13-493c-47ba-9ae7-941e7d978bf3",
       "layout": "IPY_MODEL_ffc3e62f833f4cecafc14199bb948907",
       "precision": 5,
       "show_toolbar": false
      }
     },
     "8133e742e2684a3d8c1aa06edcdc9eb7": {
      "model_module": "@jupyter-widgets/base",
      "model_module_version": "1.1.0",
      "model_name": "LayoutModel",
      "state": {}
     },
     "839689b0ca744defb96e38156354a2fc": {
      "model_module": "@jupyter-widgets/controls",
      "model_module_version": "1.4.0",
      "model_name": "BoxModel",
      "state": {
       "children": [
        "IPY_MODEL_dede8ddc081c4b729a67ab732f595aaf",
        "IPY_MODEL_d947e625fe8c4660a85123be710da270"
       ],
       "layout": "IPY_MODEL_ff2d0b38adf847ee87043a8f37d72e01"
      }
     },
     "86105bf18467429f80cd09f20dcf962b": {
      "model_module": "@jupyter-widgets/base",
      "model_module_version": "1.1.0",
      "model_name": "LayoutModel",
      "state": {}
     },
     "87452f2060ee405eb68449fa812b1417": {
      "model_module": "@jupyter-widgets/controls",
      "model_module_version": "1.4.0",
      "model_name": "ButtonModel",
      "state": {
       "description": "Stop",
       "disabled": true,
       "layout": "IPY_MODEL_768d63ec59ca4351ada8cc4bcd3980d5",
       "style": "IPY_MODEL_f948f6abd6de42c98e73be6e9bca017f",
       "tooltip": "Stop discover process"
      }
     },
     "894d3177eadf45b0bca14c48d3a16d65": {
      "model_module": "@jupyter-widgets/base",
      "model_module_version": "1.1.0",
      "model_name": "LayoutModel",
      "state": {
       "flex": "0 1 auto"
      }
     },
     "897343b6e65a46b3b8239a20493cfce5": {
      "model_module": "@jupyter-widgets/controls",
      "model_module_version": "1.4.0",
      "model_name": "IntProgressModel",
      "state": {
       "layout": "IPY_MODEL_077c99b31f364fbdb32fc7e3f96f045a",
       "max": 0,
       "style": "IPY_MODEL_d802600257404dc681d8dd56fcc5a250"
      }
     },
     "8989705480604ef0bf549df16687a004": {
      "model_module": "@jupyter-widgets/controls",
      "model_module_version": "1.4.0",
      "model_name": "ButtonModel",
      "state": {
       "description": "Stop",
       "disabled": true,
       "layout": "IPY_MODEL_50328d6683fb408c88be55785916ed49",
       "style": "IPY_MODEL_14c2a0c8bc38463abe7a7e38049d3d34",
       "tooltip": "Stop discover process"
      }
     },
     "8a1eff20292b45d785bbc9b448a79d3a": {
      "model_module": "@jupyter-widgets/base",
      "model_module_version": "1.1.0",
      "model_name": "LayoutModel",
      "state": {}
     },
     "8a3b3996745a42dfbb865156fb18217f": {
      "model_module": "@jupyter-widgets/controls",
      "model_module_version": "1.4.0",
      "model_name": "ButtonModel",
      "state": {
       "description": "Stop",
       "disabled": true,
       "layout": "IPY_MODEL_b5e990b28b1d41f89bfb14113d41849b",
       "style": "IPY_MODEL_d50f353b458442a8a49786a38d5e6882",
       "tooltip": "Stop discover process"
      }
     },
     "8b02a769d6b846fdb5d3c1d1e7aedd33": {
      "model_module": "@jupyter-widgets/controls",
      "model_module_version": "1.4.0",
      "model_name": "ButtonStyleModel",
      "state": {}
     },
     "8b84a174e3774218ad941f7d03c4c1a2": {
      "model_module": "@jupyter-widgets/controls",
      "model_module_version": "1.4.0",
      "model_name": "LabelModel",
      "state": {
       "layout": "IPY_MODEL_31b104f8f8fb45a6ab7549bf9b102224",
       "style": "IPY_MODEL_f82d34596aaf47e29c74ba2cb5daf7bb",
       "value": "/24"
      }
     },
     "8ba44ed0c3a94c6785f75553274e7118": {
      "model_module": "@jupyter-widgets/base",
      "model_module_version": "1.1.0",
      "model_name": "LayoutModel",
      "state": {}
     },
     "8c68579437ea4e598f39fe15d55b712c": {
      "model_module": "@jupyter-widgets/base",
      "model_module_version": "1.1.0",
      "model_name": "LayoutModel",
      "state": {
       "flex": "1 1 auto"
      }
     },
     "8de479aed9ba46ba834575326b21c1cb": {
      "model_module": "@jupyter-widgets/base",
      "model_module_version": "1.1.0",
      "model_name": "LayoutModel",
      "state": {}
     },
     "8e88f913449f4d729d66179bc674f4e4": {
      "model_module": "@jupyter-widgets/controls",
      "model_module_version": "1.4.0",
      "model_name": "ProgressStyleModel",
      "state": {
       "description_width": ""
      }
     },
     "8fca7d92a7fe41538ed17192932034fa": {
      "model_module": "@jupyter-widgets/base",
      "model_module_version": "1.1.0",
      "model_name": "LayoutModel",
      "state": {}
     },
     "9054d800de1e4a81b672827d8cc19925": {
      "model_module": "@jupyter-widgets/controls",
      "model_module_version": "1.4.0",
      "model_name": "ButtonStyleModel",
      "state": {}
     },
     "90bfc5f442104bd18a75d61e97409367": {
      "model_module": "qgrid",
      "model_module_version": "1.1.1",
      "model_name": "QgridModel",
      "state": {
       "_columns": {
        "index": {
         "cssClass": "integer first-idx-col idx-col first-idx-col idx-col",
         "defaultSortAsc": true,
         "editable": true,
         "field": "index",
         "first_index": true,
         "id": "index",
         "index_display_text": "",
         "is_index": true,
         "level": 0,
         "minWidth": 30,
         "name": "",
         "position": 0,
         "resizable": true,
         "sortable": true,
         "toolTip": "",
         "type": "integer"
        },
        "qgrid_unfiltered_index": {
         "cssClass": "number",
         "defaultSortAsc": true,
         "editable": true,
         "field": "qgrid_unfiltered_index",
         "id": "qgrid_unfiltered_index",
         "maxWidth": null,
         "minWidth": 30,
         "name": "qgrid_unfiltered_index",
         "position": 1,
         "resizable": true,
         "sortable": true,
         "toolTip": "",
         "type": "number",
         "width": null
        }
       },
       "_df_json": "{\"schema\": {\"fields\":[{\"name\":\"index\",\"type\":\"integer\"},{\"name\":\"qgrid_unfiltered_index\",\"type\":\"number\"}],\"primaryKey\":[\"index\"],\"pandas_version\":\"0.20.0\"}, \"data\": []}",
       "_df_range": [
        0,
        100
       ],
       "_editable_rows": {},
       "_index_col_name": "qgrid_unfiltered_index",
       "_interval_columns": [],
       "_model_module_version": "1.1.1",
       "_multi_index": false,
       "_row_count": 0,
       "_row_styles": {},
       "_sort_ascending": true,
       "_sort_field": null,
       "_view_module_version": "1.1.1",
       "_viewport_range": [
        0,
        100
       ],
       "grid_options": {
        "autoEdit": false,
        "boldIndex": true,
        "defaultColumnWidth": 150,
        "editable": false,
        "enableColumnReorder": false,
        "enableTextSelectionOnCells": true,
        "explicitInitialization": true,
        "filterable": true,
        "forceFitColumns": true,
        "fullWidthRows": true,
        "highlightSelectedCell": false,
        "highlightSelectedRow": true,
        "maxVisibleRows": 15,
        "minVisibleRows": 8,
        "rowHeight": 28,
        "sortable": true,
        "syncColumnCellResize": true
       },
       "id": "06b96dbe-0b10-489b-bd49-5ddce9df271c",
       "layout": "IPY_MODEL_2be8844411094e20b7c7bb130d26d9f5",
       "precision": 5,
       "show_toolbar": false
      }
     },
     "911eb4e14cad4fe48b6d34db153e8989": {
      "model_module": "@jupyter-widgets/base",
      "model_module_version": "1.1.0",
      "model_name": "LayoutModel",
      "state": {}
     },
     "91cbccac696e44f08568c2752935dbe1": {
      "model_module": "@jupyter-widgets/controls",
      "model_module_version": "1.4.0",
      "model_name": "IntProgressModel",
      "state": {
       "layout": "IPY_MODEL_0f05ffa492a247e59af8d6e9b69fd815",
       "max": 0,
       "style": "IPY_MODEL_49b09acdd5704802bed959edb95cb5fa"
      }
     },
     "9250099adaf342e4bcbcca6ccd8029a2": {
      "model_module": "@jupyter-widgets/controls",
      "model_module_version": "1.4.0",
      "model_name": "TextModel",
      "state": {
       "description": "network address",
       "layout": "IPY_MODEL_e2e8cac1606648f4907857620ee91f27",
       "placeholder": "192.168.1.0",
       "style": "IPY_MODEL_9e7b68cf460242f1bed7ef45dc203eb6",
       "value": "192.168.1.0"
      }
     },
     "932ae26458b846a9b17f54f322c4cc25": {
      "model_module": "@jupyter-widgets/base",
      "model_module_version": "1.1.0",
      "model_name": "LayoutModel",
      "state": {}
     },
     "9353a1f23fc24c73bffee31f7f9a487f": {
      "model_module": "@jupyter-widgets/base",
      "model_module_version": "1.1.0",
      "model_name": "LayoutModel",
      "state": {}
     },
     "95320edfac3a4b639ed68f60f930cca7": {
      "model_module": "@jupyter-widgets/controls",
      "model_module_version": "1.4.0",
      "model_name": "DescriptionStyleModel",
      "state": {
       "description_width": "initial"
      }
     },
     "9551e8b8c3634a32916cb874c9db3e48": {
      "model_module": "@jupyter-widgets/base",
      "model_module_version": "1.1.0",
      "model_name": "LayoutModel",
      "state": {}
     },
     "987c116c5ead4aeaa2f24f7f8e1aab25": {
      "model_module": "qgrid",
      "model_module_version": "1.1.1",
      "model_name": "QgridModel",
      "state": {
       "_columns": {
        "index": {
         "cssClass": "integer first-idx-col idx-col",
         "defaultSortAsc": true,
         "editable": true,
         "field": "index",
         "first_index": true,
         "id": "index",
         "index_display_text": "",
         "is_index": true,
         "level": 0,
         "minWidth": 30,
         "name": "",
         "position": 0,
         "resizable": true,
         "sortable": true,
         "toolTip": "",
         "type": "integer"
        },
        "model": {
         "cssClass": "string",
         "defaultSortAsc": true,
         "editable": true,
         "field": "model",
         "id": "model",
         "minWidth": 30,
         "name": "model",
         "position": 3,
         "resizable": true,
         "sortable": true,
         "toolTip": "",
         "type": "string"
        },
        "producer": {
         "cssClass": "string",
         "defaultSortAsc": true,
         "editable": true,
         "field": "producer",
         "id": "producer",
         "minWidth": 30,
         "name": "producer",
         "position": 2,
         "resizable": true,
         "sortable": true,
         "toolTip": "",
         "type": "string"
        },
        "qgrid_unfiltered_index": {
         "cssClass": "integer",
         "defaultSortAsc": true,
         "editable": true,
         "field": "qgrid_unfiltered_index",
         "id": "qgrid_unfiltered_index",
         "maxWidth": null,
         "minWidth": 30,
         "name": "qgrid_unfiltered_index",
         "position": 1,
         "resizable": true,
         "sortable": true,
         "toolTip": "",
         "type": "integer",
         "width": null
        },
        "resource": {
         "cssClass": "string",
         "defaultSortAsc": true,
         "editable": true,
         "field": "resource",
         "id": "resource",
         "minWidth": 30,
         "name": "resource",
         "position": 6,
         "resizable": true,
         "sortable": true,
         "toolTip": "",
         "type": "string"
        },
        "serial": {
         "cssClass": "string",
         "defaultSortAsc": true,
         "editable": true,
         "field": "serial",
         "id": "serial",
         "minWidth": 30,
         "name": "serial",
         "position": 4,
         "resizable": true,
         "sortable": true,
         "toolTip": "",
         "type": "string"
        },
        "version": {
         "cssClass": "string",
         "defaultSortAsc": true,
         "editable": true,
         "field": "version",
         "id": "version",
         "minWidth": 30,
         "name": "version",
         "position": 5,
         "resizable": true,
         "sortable": true,
         "toolTip": "",
         "type": "string"
        }
       },
       "_df_json": "{\"schema\": {\"fields\":[{\"name\":\"index\",\"type\":\"integer\"},{\"name\":\"qgrid_unfiltered_index\",\"type\":\"integer\"},{\"name\":\"producer\",\"type\":\"string\"},{\"name\":\"model\",\"type\":\"string\"},{\"name\":\"serial\",\"type\":\"string\"},{\"name\":\"version\",\"type\":\"string\"},{\"name\":\"resource\",\"type\":\"string\"}],\"primaryKey\":[\"index\"],\"pandas_version\":\"0.20.0\"}, \"data\": [{\"index\":4,\"qgrid_unfiltered_index\":3,\"producer\":\"CMT\",\"model\":\"S5048\",\"serial\":\"15047071\",\"version\":\"19.2.3\\/2\",\"resource\":\"TCPIP0::3232235988::5025::SOCKET\"},{\"index\":2,\"qgrid_unfiltered_index\":1,\"producer\":\"CMT\",\"model\":\"PLANAR-804\\/1\",\"serial\":\"\",\"version\":\"19.2.3\\/3\",\"resource\":\"TCPIP0::3232235940::5025::SOCKET\"},{\"index\":1,\"qgrid_unfiltered_index\":0,\"producer\":\"Planar\",\"model\":\"Obzor-804\",\"serial\":\"\",\"version\":\"19.1.3\\/1\",\"resource\":\"TCPIP0::3232235862::5025::SOCKET\"},{\"index\":3,\"qgrid_unfiltered_index\":2,\"producer\":\"COPPER MOUNTAIN TECHNOLOGIES\",\"model\":\"\",\"serial\":\"\",\"version\":\"\",\"resource\":\"TCPIP0::3232235969::5025::SOCKET\"}]}",
       "_df_range": [
        0,
        100
       ],
       "_editable_rows": {},
       "_index_col_name": "qgrid_unfiltered_index",
       "_interval_columns": [],
       "_model_module_version": "1.1.1",
       "_multi_index": false,
       "_row_count": 4,
       "_row_styles": {},
       "_sort_ascending": false,
       "_sort_field": "model",
       "_view_module_version": "1.1.1",
       "_viewport_range": [
        0,
        100
       ],
       "grid_options": {
        "autoEdit": false,
        "boldIndex": true,
        "defaultColumnWidth": 150,
        "editable": false,
        "enableColumnReorder": false,
        "enableTextSelectionOnCells": true,
        "explicitInitialization": true,
        "filterable": true,
        "forceFitColumns": true,
        "fullWidthRows": true,
        "highlightSelectedCell": false,
        "highlightSelectedRow": true,
        "maxVisibleRows": 15,
        "minVisibleRows": 8,
        "rowHeight": 28,
        "sortable": true,
        "syncColumnCellResize": true
       },
       "id": "cde8bfd8-729c-43fa-a5ab-d196fd3ca8dc",
       "layout": "IPY_MODEL_f923fa8f42e44e9ebea878640efbc3b3",
       "precision": 5,
       "show_toolbar": false
      }
     },
     "98c6e8cfe38c4723a3e3e6cc7271ae90": {
      "model_module": "@jupyter-widgets/controls",
      "model_module_version": "1.4.0",
      "model_name": "ButtonStyleModel",
      "state": {}
     },
     "9afc9e33eaf540a49a3ca16f901205c2": {
      "model_module": "qgrid",
      "model_module_version": "1.1.1",
      "model_name": "QgridModel",
      "state": {
       "_columns": {
        "index": {
         "cssClass": "integer first-idx-col idx-col first-idx-col idx-col",
         "defaultSortAsc": true,
         "editable": true,
         "field": "index",
         "first_index": true,
         "id": "index",
         "index_display_text": "",
         "is_index": true,
         "level": 0,
         "minWidth": 30,
         "name": "",
         "position": 0,
         "resizable": true,
         "sortable": true,
         "toolTip": "",
         "type": "integer"
        },
        "qgrid_unfiltered_index": {
         "cssClass": "number",
         "defaultSortAsc": true,
         "editable": true,
         "field": "qgrid_unfiltered_index",
         "id": "qgrid_unfiltered_index",
         "maxWidth": null,
         "minWidth": 30,
         "name": "qgrid_unfiltered_index",
         "position": 1,
         "resizable": true,
         "sortable": true,
         "toolTip": "",
         "type": "number",
         "width": null
        }
       },
       "_df_json": "{\"schema\": {\"fields\":[{\"name\":\"index\",\"type\":\"integer\"},{\"name\":\"qgrid_unfiltered_index\",\"type\":\"number\"}],\"primaryKey\":[\"index\"],\"pandas_version\":\"0.20.0\"}, \"data\": []}",
       "_df_range": [
        0,
        100
       ],
       "_editable_rows": {},
       "_index_col_name": "qgrid_unfiltered_index",
       "_interval_columns": [],
       "_model_module_version": "1.1.1",
       "_multi_index": false,
       "_row_count": 0,
       "_row_styles": {},
       "_sort_ascending": true,
       "_sort_field": null,
       "_view_module_version": "1.1.1",
       "_viewport_range": [
        0,
        100
       ],
       "grid_options": {
        "autoEdit": false,
        "boldIndex": true,
        "defaultColumnWidth": 150,
        "editable": true,
        "enableColumnReorder": false,
        "enableTextSelectionOnCells": true,
        "explicitInitialization": true,
        "filterable": true,
        "forceFitColumns": true,
        "fullWidthRows": true,
        "highlightSelectedCell": false,
        "highlightSelectedRow": true,
        "maxVisibleRows": 15,
        "minVisibleRows": 8,
        "rowHeight": 28,
        "sortable": true,
        "syncColumnCellResize": true
       },
       "id": "12bc65a3-fd09-47f4-9180-c42e20b9e429",
       "layout": "IPY_MODEL_77434ca89abe4a488e23616cbf06f20c",
       "precision": 5,
       "show_toolbar": false
      }
     },
     "9bc0a6f87bcc4383a195711c3ec74fd1": {
      "model_module": "@jupyter-widgets/controls",
      "model_module_version": "1.4.0",
      "model_name": "ButtonModel",
      "state": {
       "description": "Choose device",
       "layout": "IPY_MODEL_c6022ea0309845e5b6b88ea9d755517d",
       "style": "IPY_MODEL_0a84c5121bc542fea6eee42693dc2329",
       "tooltip": "Choose selected device"
      }
     },
     "9d7efb2ed71b455a990f882a0a112edd": {
      "model_module": "@jupyter-widgets/base",
      "model_module_version": "1.1.0",
      "model_name": "LayoutModel",
      "state": {}
     },
     "9e7b68cf460242f1bed7ef45dc203eb6": {
      "model_module": "@jupyter-widgets/controls",
      "model_module_version": "1.4.0",
      "model_name": "DescriptionStyleModel",
      "state": {
       "description_width": "initial"
      }
     },
     "9ec1898ba2e0462db1aac2cd3b34c9bc": {
      "model_module": "@jupyter-widgets/controls",
      "model_module_version": "1.4.0",
      "model_name": "LabelModel",
      "state": {
       "layout": "IPY_MODEL_aab2352f67eb4cab908a14df270f1ca8",
       "style": "IPY_MODEL_711ae13fc0e04866801446685f0f8fe0",
       "value": "/24"
      }
     },
     "9f37ef2d70444a9ba00550601ea6dbac": {
      "model_module": "@jupyter-widgets/controls",
      "model_module_version": "1.4.0",
      "model_name": "ButtonModel",
      "state": {
       "description": "Choose device",
       "layout": "IPY_MODEL_d98c5f4953db489e97c270943208d20c",
       "style": "IPY_MODEL_09716626e7dc4827a38e1a1602cd7cb7",
       "tooltip": "Choose selected device"
      }
     },
     "9f395b598fa6484f809e914adde920e5": {
      "model_module": "@jupyter-widgets/controls",
      "model_module_version": "1.4.0",
      "model_name": "HBoxModel",
      "state": {
       "children": [
        "IPY_MODEL_6f0b5d24ba8f4b7cb8f225035880610d",
        "IPY_MODEL_c1bddd07ffd542adb6f4d8b1a9ffe231",
        "IPY_MODEL_01f24a718fa841e0a93eda5e42791287",
        "IPY_MODEL_77ab2382dd0b40ccb54f43d2fec39b6c"
       ],
       "layout": "IPY_MODEL_a9d877fb68e84a0bbc99eb8765978c7a"
      }
     },
     "a1a901ab528b44f08c4fd9892413c73a": {
      "model_module": "@jupyter-widgets/controls",
      "model_module_version": "1.4.0",
      "model_name": "DescriptionStyleModel",
      "state": {
       "description_width": ""
      }
     },
     "a66e1b28b7784a71944b44d87bd4749c": {
      "model_module": "@jupyter-widgets/controls",
      "model_module_version": "1.4.0",
      "model_name": "DescriptionStyleModel",
      "state": {
       "description_width": ""
      }
     },
     "a74c13ffba044f4eb0bc39b999e2895a": {
      "model_module": "@jupyter-widgets/controls",
      "model_module_version": "1.4.0",
      "model_name": "DescriptionStyleModel",
      "state": {
       "description_width": "initial"
      }
     },
     "a9d877fb68e84a0bbc99eb8765978c7a": {
      "model_module": "@jupyter-widgets/base",
      "model_module_version": "1.1.0",
      "model_name": "LayoutModel",
      "state": {}
     },
     "a9dbc24297574757b53d08a8ee0fb014": {
      "model_module": "@jupyter-widgets/base",
      "model_module_version": "1.1.0",
      "model_name": "LayoutModel",
      "state": {
       "flex": "1 1 auto"
      }
     },
     "aab2352f67eb4cab908a14df270f1ca8": {
      "model_module": "@jupyter-widgets/base",
      "model_module_version": "1.1.0",
      "model_name": "LayoutModel",
      "state": {
       "flex": "1 1 auto"
      }
     },
     "ab69e49d4d034e388c4e28011dc4872b": {
      "model_module": "@jupyter-widgets/controls",
      "model_module_version": "1.4.0",
      "model_name": "HTMLModel",
      "state": {
       "layout": "IPY_MODEL_231dc174b12a40f6b0f51525bc5ee276",
       "style": "IPY_MODEL_1a9a9a3c60804f9ba2e0b5221f7eb7b5"
      }
     },
     "ac09bf986e1648f3baf470d6c9bb447a": {
      "model_module": "@jupyter-widgets/base",
      "model_module_version": "1.1.0",
      "model_name": "LayoutModel",
      "state": {
       "flex": "1 1 auto"
      }
     },
     "aeb2c6653f2647e08c0da9c8099d05c2": {
      "model_module": "@jupyter-widgets/controls",
      "model_module_version": "1.4.0",
      "model_name": "ProgressStyleModel",
      "state": {
       "description_width": ""
      }
     },
     "afb678dd5e4a422c84dbd7cd9b8547d2": {
      "model_module": "@jupyter-widgets/controls",
      "model_module_version": "1.4.0",
      "model_name": "HBoxModel",
      "state": {
       "children": [
        "IPY_MODEL_796bde1dae4747bba67419f3b87646be",
        "IPY_MODEL_43f4f3d72cdb4dc4bda375abded05f4c",
        "IPY_MODEL_e8095b28e57b49968f79abeab3a18b24",
        "IPY_MODEL_46364b46166e4d06921f8848e53de5b1"
       ],
       "layout": "IPY_MODEL_b51e26f2d7884af29c4802f6a0d83dbf"
      }
     },
     "b12d320dca644a18b4c8fee97ef23e11": {
      "model_module": "@jupyter-widgets/base",
      "model_module_version": "1.1.0",
      "model_name": "LayoutModel",
      "state": {
       "flex": "0 1 auto"
      }
     },
     "b1c4c3eec2174061946fdf6569de9b45": {
      "model_module": "@jupyter-widgets/controls",
      "model_module_version": "1.4.0",
      "model_name": "ButtonModel",
      "state": {
       "description": "Discover devices",
       "layout": "IPY_MODEL_a9dbc24297574757b53d08a8ee0fb014",
       "style": "IPY_MODEL_139fce60102045ee9e43c2f41416b449",
       "tooltip": "Scan network for available devices"
      }
     },
     "b1cda4201a2e4167b66adc1a5f76b378": {
      "model_module": "@jupyter-widgets/controls",
      "model_module_version": "1.4.0",
      "model_name": "BoxModel",
      "state": {
       "children": [
        "IPY_MODEL_e2e64a6cc37e43638097fbc97eb2dcc6",
        "IPY_MODEL_9f37ef2d70444a9ba00550601ea6dbac"
       ],
       "layout": "IPY_MODEL_ca67966908674bfb950fc683781fdbbc"
      }
     },
     "b39daa0ba8d74c749046da2e591dd242": {
      "model_module": "@jupyter-widgets/controls",
      "model_module_version": "1.4.0",
      "model_name": "DescriptionStyleModel",
      "state": {
       "description_width": ""
      }
     },
     "b47c7265ccb7491f934fe5ef6bd85c61": {
      "model_module": "@jupyter-widgets/controls",
      "model_module_version": "1.4.0",
      "model_name": "ButtonStyleModel",
      "state": {}
     },
     "b48ddf38a29c41b5b492118f7cb3d0e4": {
      "model_module": "@jupyter-widgets/controls",
      "model_module_version": "1.4.0",
      "model_name": "DescriptionStyleModel",
      "state": {
       "description_width": ""
      }
     },
     "b51e26f2d7884af29c4802f6a0d83dbf": {
      "model_module": "@jupyter-widgets/base",
      "model_module_version": "1.1.0",
      "model_name": "LayoutModel",
      "state": {}
     },
     "b563774c122a4fa38d6b3ab52c0b0512": {
      "model_module": "@jupyter-widgets/controls",
      "model_module_version": "1.4.0",
      "model_name": "ButtonModel",
      "state": {
       "description": "Stop",
       "disabled": true,
       "layout": "IPY_MODEL_ac09bf986e1648f3baf470d6c9bb447a",
       "style": "IPY_MODEL_9054d800de1e4a81b672827d8cc19925",
       "tooltip": "Stop discover process"
      }
     },
     "b5e990b28b1d41f89bfb14113d41849b": {
      "model_module": "@jupyter-widgets/base",
      "model_module_version": "1.1.0",
      "model_name": "LayoutModel",
      "state": {
       "flex": "1 1 auto"
      }
     },
     "b643e0592ff6489b9cb65cfc9018285d": {
      "model_module": "qgrid",
      "model_module_version": "1.1.1",
      "model_name": "QgridModel",
      "state": {
       "_columns": {
        "index": {
         "cssClass": "integer first-idx-col idx-col",
         "defaultSortAsc": true,
         "editable": true,
         "field": "index",
         "first_index": true,
         "id": "index",
         "index_display_text": "",
         "is_index": true,
         "level": 0,
         "minWidth": 30,
         "name": "",
         "position": 0,
         "resizable": true,
         "sortable": true,
         "toolTip": "",
         "type": "integer"
        },
        "model": {
         "cssClass": "string",
         "defaultSortAsc": true,
         "editable": true,
         "field": "model",
         "id": "model",
         "minWidth": 30,
         "name": "model",
         "position": 3,
         "resizable": true,
         "sortable": true,
         "toolTip": "",
         "type": "string"
        },
        "producer": {
         "cssClass": "string",
         "defaultSortAsc": true,
         "editable": true,
         "field": "producer",
         "id": "producer",
         "minWidth": 30,
         "name": "producer",
         "position": 2,
         "resizable": true,
         "sortable": true,
         "toolTip": "",
         "type": "string"
        },
        "qgrid_unfiltered_index": {
         "cssClass": "integer",
         "defaultSortAsc": true,
         "editable": true,
         "field": "qgrid_unfiltered_index",
         "id": "qgrid_unfiltered_index",
         "maxWidth": null,
         "minWidth": 30,
         "name": "qgrid_unfiltered_index",
         "position": 1,
         "resizable": true,
         "sortable": true,
         "toolTip": "",
         "type": "integer",
         "width": null
        },
        "resource": {
         "cssClass": "string",
         "defaultSortAsc": true,
         "editable": true,
         "field": "resource",
         "id": "resource",
         "minWidth": 30,
         "name": "resource",
         "position": 6,
         "resizable": true,
         "sortable": true,
         "toolTip": "",
         "type": "string"
        },
        "serial": {
         "cssClass": "string",
         "defaultSortAsc": true,
         "editable": true,
         "field": "serial",
         "id": "serial",
         "minWidth": 30,
         "name": "serial",
         "position": 4,
         "resizable": true,
         "sortable": true,
         "toolTip": "",
         "type": "string"
        },
        "version": {
         "cssClass": "string",
         "defaultSortAsc": true,
         "editable": true,
         "field": "version",
         "id": "version",
         "minWidth": 30,
         "name": "version",
         "position": 5,
         "resizable": true,
         "sortable": true,
         "toolTip": "",
         "type": "string"
        }
       },
       "_df_json": "{\"schema\": {\"fields\":[{\"name\":\"index\",\"type\":\"integer\"},{\"name\":\"qgrid_unfiltered_index\",\"type\":\"integer\"},{\"name\":\"producer\",\"type\":\"string\"},{\"name\":\"model\",\"type\":\"string\"},{\"name\":\"serial\",\"type\":\"string\"},{\"name\":\"version\",\"type\":\"string\"},{\"name\":\"resource\",\"type\":\"string\"}],\"primaryKey\":[\"index\"],\"pandas_version\":\"0.20.0\"}, \"data\": [{\"index\":2,\"qgrid_unfiltered_index\":1,\"producer\":\"CMT\",\"model\":\"PLANAR-804\\/1\",\"serial\":\"\",\"version\":\"19.2.3\\/3\",\"resource\":\"TCPIP0::3232235940::5025::SOCKET\"},{\"index\":4,\"qgrid_unfiltered_index\":3,\"producer\":\"CMT\",\"model\":\"S5048\",\"serial\":\"15047071\",\"version\":\"19.2.3\\/2\",\"resource\":\"TCPIP0::3232235988::5025::SOCKET\"},{\"index\":3,\"qgrid_unfiltered_index\":2,\"producer\":\"COPPER MOUNTAIN TECHNOLOGIES\",\"model\":\"\",\"serial\":\"\",\"version\":\"\",\"resource\":\"TCPIP0::3232235969::5025::SOCKET\"},{\"index\":1,\"qgrid_unfiltered_index\":0,\"producer\":\"Planar\",\"model\":\"Obzor-804\",\"serial\":\"\",\"version\":\"19.1.3\\/1\",\"resource\":\"TCPIP0::3232235862::5025::SOCKET\"}]}",
       "_df_range": [
        0,
        100
       ],
       "_editable_rows": {},
       "_index_col_name": "qgrid_unfiltered_index",
       "_interval_columns": [],
       "_model_module_version": "1.1.1",
       "_multi_index": false,
       "_row_count": 4,
       "_row_styles": {},
       "_sort_ascending": true,
       "_sort_field": "producer",
       "_view_module_version": "1.1.1",
       "_viewport_range": [
        0,
        100
       ],
       "grid_options": {
        "autoEdit": false,
        "boldIndex": true,
        "defaultColumnWidth": 150,
        "editable": false,
        "enableColumnReorder": false,
        "enableTextSelectionOnCells": true,
        "explicitInitialization": true,
        "filterable": true,
        "forceFitColumns": true,
        "fullWidthRows": true,
        "highlightSelectedCell": false,
        "highlightSelectedRow": true,
        "maxVisibleRows": 15,
        "minVisibleRows": 8,
        "rowHeight": 28,
        "sortable": true,
        "syncColumnCellResize": true
       },
       "id": "6639c81b-844a-4055-be90-06708cc68c5d",
       "layout": "IPY_MODEL_b67458bfa4494d6f8e04779ea1272715",
       "precision": 5,
       "show_toolbar": false
      }
     },
     "b67458bfa4494d6f8e04779ea1272715": {
      "model_module": "@jupyter-widgets/base",
      "model_module_version": "1.1.0",
      "model_name": "LayoutModel",
      "state": {}
     },
     "b78a29023af14b12bda518f42312e085": {
      "model_module": "@jupyter-widgets/controls",
      "model_module_version": "1.4.0",
      "model_name": "DescriptionStyleModel",
      "state": {
       "description_width": ""
      }
     },
     "b81f2a1b971840698c8c5f568fca77fb": {
      "model_module": "@jupyter-widgets/controls",
      "model_module_version": "1.4.0",
      "model_name": "IntProgressModel",
      "state": {
       "layout": "IPY_MODEL_c92296e65a934688a7fced31facd647d",
       "max": 0,
       "style": "IPY_MODEL_aeb2c6653f2647e08c0da9c8099d05c2"
      }
     },
     "b8a6a9724b7b450b91aa53b772c5eb3f": {
      "model_module": "@jupyter-widgets/controls",
      "model_module_version": "1.4.0",
      "model_name": "DescriptionStyleModel",
      "state": {
       "description_width": "initial"
      }
     },
     "b8b286ac53804491a005322ca6867e34": {
      "model_module": "@jupyter-widgets/controls",
      "model_module_version": "1.4.0",
      "model_name": "DescriptionStyleModel",
      "state": {
       "description_width": ""
      }
     },
     "b8f4afc124b14e5184a4653758732e46": {
      "model_module": "@jupyter-widgets/base",
      "model_module_version": "1.1.0",
      "model_name": "LayoutModel",
      "state": {
       "flex": "0 1 auto"
      }
     },
     "b8fdc470be514838990e9251f35d1ffd": {
      "model_module": "@jupyter-widgets/base",
      "model_module_version": "1.1.0",
      "model_name": "LayoutModel",
      "state": {}
     },
     "b9003ee688c74939b5d2977af1cd0bb0": {
      "model_module": "@jupyter-widgets/base",
      "model_module_version": "1.1.0",
      "model_name": "LayoutModel",
      "state": {
       "flex": "1 1 auto"
      }
     },
     "ba96c56f83ab42d29210c6fafc87154b": {
      "model_module": "@jupyter-widgets/base",
      "model_module_version": "1.1.0",
      "model_name": "LayoutModel",
      "state": {}
     },
     "baba287802dd4e3d8c6bfaf414ad6d98": {
      "model_module": "@jupyter-widgets/controls",
      "model_module_version": "1.4.0",
      "model_name": "ButtonModel",
      "state": {
       "description": "Discover devices",
       "layout": "IPY_MODEL_c477e205c9cf42a5b88315cf91f37aae",
       "style": "IPY_MODEL_98c6e8cfe38c4723a3e3e6cc7271ae90",
       "tooltip": "Scan network for available devices"
      }
     },
     "bb1d12ed063344108c4562f0514d034c": {
      "model_module": "@jupyter-widgets/controls",
      "model_module_version": "1.4.0",
      "model_name": "LabelModel",
      "state": {
       "layout": "IPY_MODEL_7a966400bdb242b3ab332b519fbc8773",
       "style": "IPY_MODEL_7462df50ac03434f8ec201a02072ce42",
       "value": "/24"
      }
     },
     "be18f6790a9c4666a60149001509e84b": {
      "model_module": "@jupyter-widgets/base",
      "model_module_version": "1.1.0",
      "model_name": "LayoutModel",
      "state": {
       "visibility": "hidden"
      }
     },
     "be257234e7f949ff9203737600b80f59": {
      "model_module": "@jupyter-widgets/base",
      "model_module_version": "1.1.0",
      "model_name": "LayoutModel",
      "state": {
       "flex": "1 1 auto"
      }
     },
     "c00c963981594bd2a9a6edf3c0779dc6": {
      "model_module": "@jupyter-widgets/controls",
      "model_module_version": "1.4.0",
      "model_name": "ButtonStyleModel",
      "state": {}
     },
     "c0567b0a6d1f46db8db0be1b800a1a58": {
      "model_module": "@jupyter-widgets/controls",
      "model_module_version": "1.4.0",
      "model_name": "ButtonStyleModel",
      "state": {}
     },
     "c1bddd07ffd542adb6f4d8b1a9ffe231": {
      "model_module": "@jupyter-widgets/controls",
      "model_module_version": "1.4.0",
      "model_name": "LabelModel",
      "state": {
       "layout": "IPY_MODEL_4507e90f67c44ce7a234ae0ac73cc862",
       "style": "IPY_MODEL_b48ddf38a29c41b5b492118f7cb3d0e4",
       "value": "/24"
      }
     },
     "c1eb67eab33548a9ba7bb98d7261d6af": {
      "model_module": "@jupyter-widgets/controls",
      "model_module_version": "1.4.0",
      "model_name": "HTMLModel",
      "state": {
       "layout": "IPY_MODEL_eee766c7d8ac41dcb8791f944c59d885",
       "style": "IPY_MODEL_a66e1b28b7784a71944b44d87bd4749c"
      }
     },
     "c243ad038f0e4802af0400bef08fe3b3": {
      "model_module": "@jupyter-widgets/controls",
      "model_module_version": "1.4.0",
      "model_name": "TextModel",
      "state": {
       "description": "network address",
       "layout": "IPY_MODEL_16cdaf503b3b4b3c9c8c530a34f96651",
       "placeholder": "192.168.1.0",
       "style": "IPY_MODEL_95320edfac3a4b639ed68f60f930cca7",
       "value": "192.168.1.0"
      }
     },
     "c2bf8c45a4104ced8d848de3f0c3a6f8": {
      "model_module": "@jupyter-widgets/base",
      "model_module_version": "1.1.0",
      "model_name": "LayoutModel",
      "state": {}
     },
     "c477e205c9cf42a5b88315cf91f37aae": {
      "model_module": "@jupyter-widgets/base",
      "model_module_version": "1.1.0",
      "model_name": "LayoutModel",
      "state": {
       "flex": "1 1 auto"
      }
     },
     "c55625176cfa4c3182dfe465653bbdcc": {
      "model_module": "@jupyter-widgets/controls",
      "model_module_version": "1.4.0",
      "model_name": "LabelModel",
      "state": {
       "layout": "IPY_MODEL_ed19d467b04141bfb31a052b5508460c",
       "style": "IPY_MODEL_f8807f6dc3ad40b485472f46b24e27cf",
       "value": "/24"
      }
     },
     "c59c4995845942bb8536570904500e02": {
      "model_module": "@jupyter-widgets/controls",
      "model_module_version": "1.4.0",
      "model_name": "DescriptionStyleModel",
      "state": {
       "description_width": ""
      }
     },
     "c6022ea0309845e5b6b88ea9d755517d": {
      "model_module": "@jupyter-widgets/base",
      "model_module_version": "1.1.0",
      "model_name": "LayoutModel",
      "state": {}
     },
     "c65f23517ff645e9934e09ee19ccdf48": {
      "model_module": "@jupyter-widgets/controls",
      "model_module_version": "1.4.0",
      "model_name": "ButtonModel",
      "state": {
       "description": "Choose device",
       "layout": "IPY_MODEL_4d34e647008546bca82fadde909ebc77",
       "style": "IPY_MODEL_214fdb5bd6b740819b44697fe50611ca",
       "tooltip": "Choose selected device"
      }
     },
     "c76b5440d8f74274888036a3504d5846": {
      "model_module": "@jupyter-widgets/controls",
      "model_module_version": "1.4.0",
      "model_name": "LabelModel",
      "state": {
       "layout": "IPY_MODEL_713140fa18d54b7790256523296b511f",
       "style": "IPY_MODEL_1b4dfe9261f0414aa7cca171cafdcba5",
       "value": "/24"
      }
     },
     "c92296e65a934688a7fced31facd647d": {
      "model_module": "@jupyter-widgets/base",
      "model_module_version": "1.1.0",
      "model_name": "LayoutModel",
      "state": {
       "visibility": "hidden"
      }
     },
     "c9b7efef867e4977818e7bb71848df55": {
      "model_module": "@jupyter-widgets/base",
      "model_module_version": "1.1.0",
      "model_name": "LayoutModel",
      "state": {
       "display": "flex",
       "flex_flow": "row",
       "justify_content": "space-between"
      }
     },
     "c9f7d83e7f62403693ed1bf862b0fee7": {
      "model_module": "@jupyter-widgets/base",
      "model_module_version": "1.1.0",
      "model_name": "LayoutModel",
      "state": {}
     },
     "ca67966908674bfb950fc683781fdbbc": {
      "model_module": "@jupyter-widgets/base",
      "model_module_version": "1.1.0",
      "model_name": "LayoutModel",
      "state": {
       "display": "flex",
       "flex_flow": "row",
       "justify_content": "space-between"
      }
     },
     "cb8a08af6e5545abbf433d8d49b05478": {
      "model_module": "@jupyter-widgets/base",
      "model_module_version": "1.1.0",
      "model_name": "LayoutModel",
      "state": {}
     },
     "cc0c887b4433404883025926d33fe117": {
      "model_module": "@jupyter-widgets/controls",
      "model_module_version": "1.4.0",
      "model_name": "LabelModel",
      "state": {
       "layout": "IPY_MODEL_f9c7c12aa26e4f38bf8ccc45d863108f",
       "style": "IPY_MODEL_f470bfd7b5d74eff87d87af47494d102",
       "value": "/24"
      }
     },
     "ceadabed5a6f4a5d99842a3441e1ffc4": {
      "model_module": "@jupyter-widgets/controls",
      "model_module_version": "1.4.0",
      "model_name": "IntProgressModel",
      "state": {
       "layout": "IPY_MODEL_02b78b67698b428897f15744ea762767",
       "max": 254,
       "style": "IPY_MODEL_33ddb71291584e18a8623b061be94b4b"
      }
     },
     "cf28127253704449995fc1592d3bff95": {
      "model_module": "@jupyter-widgets/controls",
      "model_module_version": "1.4.0",
      "model_name": "IntProgressModel",
      "state": {
       "layout": "IPY_MODEL_35be41f314a04537a55efddf4ee63c0e",
       "max": 0,
       "style": "IPY_MODEL_59d1f100d2774d898d77ec0d7cd8d50a"
      }
     },
     "d15be730d2424a8f87e87be0bb2f6964": {
      "model_module": "@jupyter-widgets/controls",
      "model_module_version": "1.4.0",
      "model_name": "BoxModel",
      "state": {
       "children": [
        "IPY_MODEL_b81f2a1b971840698c8c5f568fca77fb",
        "IPY_MODEL_9bc0a6f87bcc4383a195711c3ec74fd1"
       ],
       "layout": "IPY_MODEL_47d544f20f744845a3c0075711668d10"
      }
     },
     "d1806b8b76bd450aa2e289693bf3ad59": {
      "model_module": "@jupyter-widgets/base",
      "model_module_version": "1.1.0",
      "model_name": "LayoutModel",
      "state": {
       "visibility": "hidden"
      }
     },
     "d2b40a754bc9489ab3248b1f0d1a1f12": {
      "model_module": "@jupyter-widgets/base",
      "model_module_version": "1.1.0",
      "model_name": "LayoutModel",
      "state": {
       "flex": "0 1 auto"
      }
     },
     "d3418098bc7c4025a1bec33b859bb5f5": {
      "model_module": "@jupyter-widgets/controls",
      "model_module_version": "1.4.0",
      "model_name": "LabelModel",
      "state": {
       "layout": "IPY_MODEL_40e017f7a30e43d8a47139901202eca6",
       "style": "IPY_MODEL_c59c4995845942bb8536570904500e02",
       "value": "/24"
      }
     },
     "d416f263d3064bd494014a91433aafd3": {
      "model_module": "@jupyter-widgets/controls",
      "model_module_version": "1.4.0",
      "model_name": "ButtonStyleModel",
      "state": {}
     },
     "d5086df8d5a24117bbfd9f64e18e8307": {
      "model_module": "@jupyter-widgets/base",
      "model_module_version": "1.1.0",
      "model_name": "LayoutModel",
      "state": {}
     },
     "d50f353b458442a8a49786a38d5e6882": {
      "model_module": "@jupyter-widgets/controls",
      "model_module_version": "1.4.0",
      "model_name": "ButtonStyleModel",
      "state": {}
     },
     "d802600257404dc681d8dd56fcc5a250": {
      "model_module": "@jupyter-widgets/controls",
      "model_module_version": "1.4.0",
      "model_name": "ProgressStyleModel",
      "state": {
       "description_width": ""
      }
     },
     "d947e625fe8c4660a85123be710da270": {
      "model_module": "@jupyter-widgets/controls",
      "model_module_version": "1.4.0",
      "model_name": "ButtonModel",
      "state": {
       "description": "Choose device",
       "disabled": true,
       "layout": "IPY_MODEL_2b9c9225adb843b3b0262a521b710551",
       "style": "IPY_MODEL_db768331b4d14083b3a1be04aeca7682",
       "tooltip": "Choose selected device"
      }
     },
     "d98c5f4953db489e97c270943208d20c": {
      "model_module": "@jupyter-widgets/base",
      "model_module_version": "1.1.0",
      "model_name": "LayoutModel",
      "state": {}
     },
     "d9a333bed0f941ea99a669ac305eed2f": {
      "model_module": "@jupyter-widgets/base",
      "model_module_version": "1.1.0",
      "model_name": "LayoutModel",
      "state": {}
     },
     "daa801a4c5c745889f541b1d97104361": {
      "model_module": "@jupyter-widgets/controls",
      "model_module_version": "1.4.0",
      "model_name": "VBoxModel",
      "state": {
       "children": [
        "IPY_MODEL_789e1b41dd764120ab84e91ebaf4cb13",
        "IPY_MODEL_c1eb67eab33548a9ba7bb98d7261d6af",
        "IPY_MODEL_9afc9e33eaf540a49a3ca16f901205c2",
        "IPY_MODEL_839689b0ca744defb96e38156354a2fc"
       ],
       "layout": "IPY_MODEL_b8fdc470be514838990e9251f35d1ffd"
      }
     },
     "dadbf4073c0842288668cc443aadb43b": {
      "model_module": "@jupyter-widgets/base",
      "model_module_version": "1.1.0",
      "model_name": "LayoutModel",
      "state": {
       "flex": "1 1 auto"
      }
     },
     "db768331b4d14083b3a1be04aeca7682": {
      "model_module": "@jupyter-widgets/controls",
      "model_module_version": "1.4.0",
      "model_name": "ButtonStyleModel",
      "state": {}
     },
     "dbbe4ddf597c4cd485bf7cf358036d1c": {
      "model_module": "@jupyter-widgets/controls",
      "model_module_version": "1.4.0",
      "model_name": "ButtonStyleModel",
      "state": {}
     },
     "dc903cdad4f94ec48022432dabb3e143": {
      "model_module": "@jupyter-widgets/base",
      "model_module_version": "1.1.0",
      "model_name": "LayoutModel",
      "state": {
       "flex": "1 1 auto"
      }
     },
     "ddc6bad517644fa89892d3577e4fc68f": {
      "model_module": "@jupyter-widgets/controls",
      "model_module_version": "1.4.0",
      "model_name": "ProgressStyleModel",
      "state": {
       "description_width": ""
      }
     },
     "de91be125938463fb7eff2bf1d8ae4be": {
      "model_module": "@jupyter-widgets/controls",
      "model_module_version": "1.4.0",
      "model_name": "ButtonModel",
      "state": {
       "description": "Stop",
       "disabled": true,
       "layout": "IPY_MODEL_8c68579437ea4e598f39fe15d55b712c",
       "style": "IPY_MODEL_11d46880cf39439ea94b397b254d23c6",
       "tooltip": "Stop discover process"
      }
     },
     "dedc1235da41451eb0c0a40799b5f781": {
      "model_module": "@jupyter-widgets/controls",
      "model_module_version": "1.4.0",
      "model_name": "ButtonModel",
      "state": {
       "description": "Choose device",
       "layout": "IPY_MODEL_4cc3417230884c78a7d3800acbb09771",
       "style": "IPY_MODEL_d416f263d3064bd494014a91433aafd3",
       "tooltip": "Choose selected device"
      }
     },
     "dede8ddc081c4b729a67ab732f595aaf": {
      "model_module": "@jupyter-widgets/controls",
      "model_module_version": "1.4.0",
      "model_name": "IntProgressModel",
      "state": {
       "layout": "IPY_MODEL_522c528d544c4bb787a2fbc9e7f12046",
       "max": 254,
       "style": "IPY_MODEL_f18030f0b9f648d4ac3219ddc2028f6b"
      }
     },
     "def2afa3ee59477d8f8312a516ca4232": {
      "model_module": "@jupyter-widgets/base",
      "model_module_version": "1.1.0",
      "model_name": "LayoutModel",
      "state": {}
     },
     "e223a3a8488b41d99cbbe155c0047faf": {
      "model_module": "@jupyter-widgets/controls",
      "model_module_version": "1.4.0",
      "model_name": "ButtonStyleModel",
      "state": {}
     },
     "e25323bc437943bf9bf48158e301d70a": {
      "model_module": "@jupyter-widgets/controls",
      "model_module_version": "1.4.0",
      "model_name": "HBoxModel",
      "state": {
       "children": [
        "IPY_MODEL_66a2cbb785824be2ab0b913db40e8a9f",
        "IPY_MODEL_8b84a174e3774218ad941f7d03c4c1a2",
        "IPY_MODEL_70f202ac35444623a2f858ba4db361eb",
        "IPY_MODEL_30091146c25e4672acd3bacccbb09eb7"
       ],
       "layout": "IPY_MODEL_23d26b9d14304ace974b4cb5893256eb"
      }
     },
     "e2d8852e96df4c96aec3d5e5076d6c81": {
      "model_module": "@jupyter-widgets/base",
      "model_module_version": "1.1.0",
      "model_name": "LayoutModel",
      "state": {}
     },
     "e2e64a6cc37e43638097fbc97eb2dcc6": {
      "model_module": "@jupyter-widgets/controls",
      "model_module_version": "1.4.0",
      "model_name": "IntProgressModel",
      "state": {
       "layout": "IPY_MODEL_d1806b8b76bd450aa2e289693bf3ad59",
       "max": 0,
       "style": "IPY_MODEL_ddc6bad517644fa89892d3577e4fc68f"
      }
     },
     "e2e8cac1606648f4907857620ee91f27": {
      "model_module": "@jupyter-widgets/base",
      "model_module_version": "1.1.0",
      "model_name": "LayoutModel",
      "state": {
       "flex": "0 1 auto"
      }
     },
     "e4fb9c7e07f94c18b4b9a11d9a2e71eb": {
      "model_module": "@jupyter-widgets/controls",
      "model_module_version": "1.4.0",
      "model_name": "DescriptionStyleModel",
      "state": {
       "description_width": ""
      }
     },
     "e57bf22b2416427e92fbe450fe5ae027": {
      "model_module": "@jupyter-widgets/controls",
      "model_module_version": "1.4.0",
      "model_name": "ButtonStyleModel",
      "state": {}
     },
     "e5dceb0786e5434f9049aa7130dc6837": {
      "model_module": "@jupyter-widgets/base",
      "model_module_version": "1.1.0",
      "model_name": "LayoutModel",
      "state": {
       "flex": "1 1 auto"
      }
     },
     "e752bcc707e04f7d9beb1ef430e0a7eb": {
      "model_module": "@jupyter-widgets/controls",
      "model_module_version": "1.4.0",
      "model_name": "VBoxModel",
      "state": {
       "children": [
        "IPY_MODEL_fbdc580e525247368ce49c5c22c43172",
        "IPY_MODEL_4ef450f124774f1581c3243556c0408c",
        "IPY_MODEL_b643e0592ff6489b9cb65cfc9018285d",
        "IPY_MODEL_622dd1b828764ff8bf7596f19877c303"
       ],
       "layout": "IPY_MODEL_ea0b16abd8ec439bbd39dc2cc62f4f9d"
      }
     },
     "e7a259e2767c470e84ea56cca98d9e7b": {
      "model_module": "@jupyter-widgets/base",
      "model_module_version": "1.1.0",
      "model_name": "LayoutModel",
      "state": {
       "flex": "1 1 auto"
      }
     },
     "e8095b28e57b49968f79abeab3a18b24": {
      "model_module": "@jupyter-widgets/controls",
      "model_module_version": "1.4.0",
      "model_name": "ButtonModel",
      "state": {
       "description": "Discover devices",
       "layout": "IPY_MODEL_b9003ee688c74939b5d2977af1cd0bb0",
       "style": "IPY_MODEL_477e391126c44696a0222fe529318fe4",
       "tooltip": "Scan network for available devices"
      }
     },
     "e828231d7fc34aeaa8cf0969d5309255": {
      "model_module": "@jupyter-widgets/controls",
      "model_module_version": "1.4.0",
      "model_name": "BoxModel",
      "state": {
       "children": [
        "IPY_MODEL_42ea015bb5d346f69d363ac1e70adaa7",
        "IPY_MODEL_01373e63c8d8465e850745261db4da8d"
       ],
       "layout": "IPY_MODEL_57de361e60d3446190224fab84868705"
      }
     },
     "e8cb8dc71bf743cd9b508dcb4847fee4": {
      "model_module": "@jupyter-widgets/base",
      "model_module_version": "1.1.0",
      "model_name": "LayoutModel",
      "state": {
       "flex": "1 1 auto"
      }
     },
     "e927b0bf1ac64f2e91fb79a21d4a3872": {
      "model_module": "@jupyter-widgets/base",
      "model_module_version": "1.1.0",
      "model_name": "LayoutModel",
      "state": {
       "flex": "1 1 auto"
      }
     },
     "e99c61124a3540eda05a11aa1ffdf37c": {
      "model_module": "@jupyter-widgets/base",
      "model_module_version": "1.1.0",
      "model_name": "LayoutModel",
      "state": {}
     },
     "ea0b16abd8ec439bbd39dc2cc62f4f9d": {
      "model_module": "@jupyter-widgets/base",
      "model_module_version": "1.1.0",
      "model_name": "LayoutModel",
      "state": {}
     },
     "ed19d467b04141bfb31a052b5508460c": {
      "model_module": "@jupyter-widgets/base",
      "model_module_version": "1.1.0",
      "model_name": "LayoutModel",
      "state": {
       "flex": "1 1 auto"
      }
     },
     "eee766c7d8ac41dcb8791f944c59d885": {
      "model_module": "@jupyter-widgets/base",
      "model_module_version": "1.1.0",
      "model_name": "LayoutModel",
      "state": {}
     },
     "ef56be14b9df41afb0cad793a46127d6": {
      "model_module": "@jupyter-widgets/controls",
      "model_module_version": "1.4.0",
      "model_name": "DescriptionStyleModel",
      "state": {
       "description_width": ""
      }
     },
     "effd0b3dd0cc4064ae16a15ba4ada391": {
      "model_module": "@jupyter-widgets/controls",
      "model_module_version": "1.4.0",
      "model_name": "ButtonModel",
      "state": {
       "description": "Stop",
       "disabled": true,
       "layout": "IPY_MODEL_f5706233e3744fb0bc0a784d4d2f9439",
       "style": "IPY_MODEL_1d371978962c4de88876dda804d46afb",
       "tooltip": "Stop discover process"
      }
     },
     "f05e2b7c45bb4f6f820c8d3c495e71fb": {
      "model_module": "@jupyter-widgets/controls",
      "model_module_version": "1.4.0",
      "model_name": "DescriptionStyleModel",
      "state": {
       "description_width": ""
      }
     },
     "f0610184dfec4468aa3ceff676e41bb7": {
      "model_module": "@jupyter-widgets/controls",
      "model_module_version": "1.4.0",
      "model_name": "HTMLModel",
      "state": {
       "layout": "IPY_MODEL_c9f7d83e7f62403693ed1bf862b0fee7",
       "style": "IPY_MODEL_ef56be14b9df41afb0cad793a46127d6"
      }
     },
     "f12e10743c684be9aa91530fc4527eb9": {
      "model_module": "@jupyter-widgets/controls",
      "model_module_version": "1.4.0",
      "model_name": "ButtonModel",
      "state": {
       "description": "Discover devices",
       "layout": "IPY_MODEL_5dcb885a516641abaa57b064dab719ec",
       "style": "IPY_MODEL_e57bf22b2416427e92fbe450fe5ae027",
       "tooltip": "Scan network for available devices"
      }
     },
     "f18030f0b9f648d4ac3219ddc2028f6b": {
      "model_module": "@jupyter-widgets/controls",
      "model_module_version": "1.4.0",
      "model_name": "ProgressStyleModel",
      "state": {
       "description_width": ""
      }
     },
     "f26d0d36e8ba495a8e712574543c2d68": {
      "model_module": "@jupyter-widgets/base",
      "model_module_version": "1.1.0",
      "model_name": "LayoutModel",
      "state": {
       "flex": "1 1 auto"
      }
     },
     "f3bd3d12ef494ab08ca9f30cefe06e9c": {
      "model_module": "@jupyter-widgets/base",
      "model_module_version": "1.1.0",
      "model_name": "LayoutModel",
      "state": {}
     },
     "f470bfd7b5d74eff87d87af47494d102": {
      "model_module": "@jupyter-widgets/controls",
      "model_module_version": "1.4.0",
      "model_name": "DescriptionStyleModel",
      "state": {
       "description_width": ""
      }
     },
     "f5706233e3744fb0bc0a784d4d2f9439": {
      "model_module": "@jupyter-widgets/base",
      "model_module_version": "1.1.0",
      "model_name": "LayoutModel",
      "state": {
       "flex": "1 1 auto"
      }
     },
     "f5953c23a0cd429d832e12548fab41fe": {
      "model_module": "@jupyter-widgets/controls",
      "model_module_version": "1.4.0",
      "model_name": "TextModel",
      "state": {
       "description": "network address",
       "layout": "IPY_MODEL_d2b40a754bc9489ab3248b1f0d1a1f12",
       "placeholder": "192.168.1.0",
       "style": "IPY_MODEL_781ff3d762f2409d9a1a8a946baa2c44",
       "value": "192.168.1.0"
      }
     },
     "f63e2ec46b2e469ca887edf6917a6b51": {
      "model_module": "@jupyter-widgets/controls",
      "model_module_version": "1.4.0",
      "model_name": "DescriptionStyleModel",
      "state": {
       "description_width": "initial"
      }
     },
     "f79c786af1824bee819fd01dd6674c21": {
      "model_module": "@jupyter-widgets/base",
      "model_module_version": "1.1.0",
      "model_name": "LayoutModel",
      "state": {
       "visibility": "hidden"
      }
     },
     "f82d34596aaf47e29c74ba2cb5daf7bb": {
      "model_module": "@jupyter-widgets/controls",
      "model_module_version": "1.4.0",
      "model_name": "DescriptionStyleModel",
      "state": {
       "description_width": ""
      }
     },
     "f82f2f2b9c9f40fb9805db6babff6f99": {
      "model_module": "@jupyter-widgets/controls",
      "model_module_version": "1.4.0",
      "model_name": "HBoxModel",
      "state": {
       "children": [
        "IPY_MODEL_f5953c23a0cd429d832e12548fab41fe",
        "IPY_MODEL_c76b5440d8f74274888036a3504d5846",
        "IPY_MODEL_19ba053d79bf4941a07a37cda84e5802",
        "IPY_MODEL_de91be125938463fb7eff2bf1d8ae4be"
       ],
       "layout": "IPY_MODEL_911eb4e14cad4fe48b6d34db153e8989"
      }
     },
     "f84145bde96c4b8a85557fccad9ba2f3": {
      "model_module": "@jupyter-widgets/controls",
      "model_module_version": "1.4.0",
      "model_name": "VBoxModel",
      "state": {
       "children": [
        "IPY_MODEL_515fed821de74db1a2b6e773841fd0d5",
        "IPY_MODEL_6a23981d234c43b3b0712c4fd55797d2",
        "IPY_MODEL_ff328fc05e924dffb3a344bae9f9238d",
        "IPY_MODEL_060e160d9d1a4caa8275d8560406ecb6"
       ],
       "layout": "IPY_MODEL_4118cb2f0f184bc9b9e634d0f61206ec"
      }
     },
     "f8807f6dc3ad40b485472f46b24e27cf": {
      "model_module": "@jupyter-widgets/controls",
      "model_module_version": "1.4.0",
      "model_name": "DescriptionStyleModel",
      "state": {
       "description_width": ""
      }
     },
     "f923fa8f42e44e9ebea878640efbc3b3": {
      "model_module": "@jupyter-widgets/base",
      "model_module_version": "1.1.0",
      "model_name": "LayoutModel",
      "state": {}
     },
     "f948f6abd6de42c98e73be6e9bca017f": {
      "model_module": "@jupyter-widgets/controls",
      "model_module_version": "1.4.0",
      "model_name": "ButtonStyleModel",
      "state": {}
     },
     "f99de6e265d64684aa8fbe3256e05075": {
      "model_module": "qgrid",
      "model_module_version": "1.1.1",
      "model_name": "QgridModel",
      "state": {
       "_columns": {
        "index": {
         "cssClass": "integer first-idx-col idx-col",
         "defaultSortAsc": true,
         "editable": true,
         "field": "index",
         "first_index": true,
         "id": "index",
         "index_display_text": "",
         "is_index": true,
         "level": 0,
         "minWidth": 30,
         "name": "",
         "position": 0,
         "resizable": true,
         "sortable": true,
         "toolTip": "",
         "type": "integer"
        },
        "model": {
         "cssClass": "string",
         "defaultSortAsc": true,
         "editable": true,
         "field": "model",
         "id": "model",
         "minWidth": 30,
         "name": "model",
         "position": 3,
         "resizable": true,
         "sortable": true,
         "toolTip": "",
         "type": "string"
        },
        "producer": {
         "cssClass": "string",
         "defaultSortAsc": true,
         "editable": true,
         "field": "producer",
         "id": "producer",
         "minWidth": 30,
         "name": "producer",
         "position": 2,
         "resizable": true,
         "sortable": true,
         "toolTip": "",
         "type": "string"
        },
        "qgrid_unfiltered_index": {
         "cssClass": "integer",
         "defaultSortAsc": true,
         "editable": true,
         "field": "qgrid_unfiltered_index",
         "id": "qgrid_unfiltered_index",
         "maxWidth": null,
         "minWidth": 30,
         "name": "qgrid_unfiltered_index",
         "position": 1,
         "resizable": true,
         "sortable": true,
         "toolTip": "",
         "type": "integer",
         "width": null
        },
        "resource": {
         "cssClass": "string",
         "defaultSortAsc": true,
         "editable": true,
         "field": "resource",
         "id": "resource",
         "minWidth": 30,
         "name": "resource",
         "position": 6,
         "resizable": true,
         "sortable": true,
         "toolTip": "",
         "type": "string"
        },
        "serial": {
         "cssClass": "string",
         "defaultSortAsc": true,
         "editable": true,
         "field": "serial",
         "id": "serial",
         "minWidth": 30,
         "name": "serial",
         "position": 4,
         "resizable": true,
         "sortable": true,
         "toolTip": "",
         "type": "string"
        },
        "version": {
         "cssClass": "string",
         "defaultSortAsc": true,
         "editable": true,
         "field": "version",
         "id": "version",
         "minWidth": 30,
         "name": "version",
         "position": 5,
         "resizable": true,
         "sortable": true,
         "toolTip": "",
         "type": "string"
        }
       },
       "_df_json": "{\"schema\": {\"fields\":[{\"name\":\"index\",\"type\":\"integer\"},{\"name\":\"qgrid_unfiltered_index\",\"type\":\"integer\"},{\"name\":\"producer\",\"type\":\"string\"},{\"name\":\"model\",\"type\":\"string\"},{\"name\":\"serial\",\"type\":\"string\"},{\"name\":\"version\",\"type\":\"string\"},{\"name\":\"resource\",\"type\":\"string\"}],\"primaryKey\":[\"index\"],\"pandas_version\":\"0.20.0\"}, \"data\": [{\"index\":4,\"qgrid_unfiltered_index\":3,\"producer\":\"CMT\",\"model\":\"S5048\",\"serial\":\"15047071\",\"version\":\"19.2.3\\/2\",\"resource\":\"TCPIP0::3232235988::5025::SOCKET\"},{\"index\":2,\"qgrid_unfiltered_index\":1,\"producer\":\"CMT\",\"model\":\"PLANAR-804\\/1\",\"serial\":\"\",\"version\":\"19.2.3\\/3\",\"resource\":\"TCPIP0::3232235940::5025::SOCKET\"},{\"index\":1,\"qgrid_unfiltered_index\":0,\"producer\":\"Planar\",\"model\":\"Obzor-804\",\"serial\":\"\",\"version\":\"19.1.3\\/1\",\"resource\":\"TCPIP0::3232235862::5025::SOCKET\"},{\"index\":3,\"qgrid_unfiltered_index\":2,\"producer\":\"COPPER MOUNTAIN TECHNOLOGIES\",\"model\":\"\",\"serial\":\"\",\"version\":\"\",\"resource\":\"TCPIP0::3232235969::5025::SOCKET\"}]}",
       "_df_range": [
        0,
        100
       ],
       "_editable_rows": {},
       "_index_col_name": "qgrid_unfiltered_index",
       "_interval_columns": [],
       "_model_module_version": "1.1.1",
       "_multi_index": false,
       "_row_count": 4,
       "_row_styles": {},
       "_sort_ascending": false,
       "_sort_field": "model",
       "_view_module_version": "1.1.1",
       "_viewport_range": [
        0,
        100
       ],
       "grid_options": {
        "autoEdit": false,
        "boldIndex": true,
        "defaultColumnWidth": 150,
        "editable": false,
        "enableColumnReorder": false,
        "enableTextSelectionOnCells": true,
        "explicitInitialization": true,
        "filterable": true,
        "forceFitColumns": true,
        "fullWidthRows": true,
        "highlightSelectedCell": false,
        "highlightSelectedRow": true,
        "maxVisibleRows": 15,
        "minVisibleRows": 8,
        "rowHeight": 28,
        "sortable": true,
        "syncColumnCellResize": true
       },
       "id": "c8b7c1c1-e292-4450-8feb-a27ec272f999",
       "layout": "IPY_MODEL_e99c61124a3540eda05a11aa1ffdf37c",
       "precision": 5,
       "show_toolbar": false
      }
     },
     "f9c7c12aa26e4f38bf8ccc45d863108f": {
      "model_module": "@jupyter-widgets/base",
      "model_module_version": "1.1.0",
      "model_name": "LayoutModel",
      "state": {
       "flex": "1 1 auto"
      }
     },
     "fbdc580e525247368ce49c5c22c43172": {
      "model_module": "@jupyter-widgets/controls",
      "model_module_version": "1.4.0",
      "model_name": "HBoxModel",
      "state": {
       "children": [
        "IPY_MODEL_5eec56d22a8743cd9cf23e9acd0cff3c",
        "IPY_MODEL_cc0c887b4433404883025926d33fe117",
        "IPY_MODEL_17e84e4b284d4b9b939c268bed59c65d",
        "IPY_MODEL_6fe25b185e2346f094d373fdb4986939"
       ],
       "layout": "IPY_MODEL_64574f27d4fe49f4a6c5cdf376251fd2"
      }
     },
     "fd1535eaa14e44db98e9f146209acedf": {
      "model_module": "@jupyter-widgets/controls",
      "model_module_version": "1.4.0",
      "model_name": "DescriptionStyleModel",
      "state": {
       "description_width": ""
      }
     },
     "fdcef34b6a8c4ec09e73b37d6064ca9a": {
      "model_module": "@jupyter-widgets/controls",
      "model_module_version": "1.4.0",
      "model_name": "ButtonModel",
      "state": {
       "description": "Choose device",
       "disabled": true,
       "layout": "IPY_MODEL_6b6592a70fee401986261b3206700d37",
       "style": "IPY_MODEL_61a837358e134eb7b4586d1e60f52c5d",
       "tooltip": "Choose selected device"
      }
     },
     "fe2141fa93884efd9bcdba4dc9a18742": {
      "model_module": "@jupyter-widgets/controls",
      "model_module_version": "1.4.0",
      "model_name": "ProgressStyleModel",
      "state": {
       "description_width": ""
      }
     },
     "fec2900d6bb047a4a03a00f97ef23eb5": {
      "model_module": "@jupyter-widgets/controls",
      "model_module_version": "1.4.0",
      "model_name": "VBoxModel",
      "state": {
       "children": [
        "IPY_MODEL_e25323bc437943bf9bf48158e301d70a",
        "IPY_MODEL_ab69e49d4d034e388c4e28011dc4872b",
        "IPY_MODEL_90bfc5f442104bd18a75d61e97409367",
        "IPY_MODEL_14a280662e584513aafb776bd9502458"
       ],
       "layout": "IPY_MODEL_29491829fedd4f5d8c3c158a5dc927e5"
      }
     },
     "ff2d0b38adf847ee87043a8f37d72e01": {
      "model_module": "@jupyter-widgets/base",
      "model_module_version": "1.1.0",
      "model_name": "LayoutModel",
      "state": {
       "display": "flex",
       "flex_flow": "row",
       "justify_content": "space-between"
      }
     },
     "ff328fc05e924dffb3a344bae9f9238d": {
      "model_module": "qgrid",
      "model_module_version": "1.1.1",
      "model_name": "QgridModel",
      "state": {
       "_columns": {
        "index": {
         "cssClass": "integer first-idx-col idx-col",
         "defaultSortAsc": true,
         "editable": true,
         "field": "index",
         "first_index": true,
         "id": "index",
         "index_display_text": "",
         "is_index": true,
         "level": 0,
         "minWidth": 30,
         "name": "",
         "position": 0,
         "resizable": true,
         "sortable": true,
         "toolTip": "",
         "type": "integer"
        },
        "model": {
         "cssClass": "string",
         "defaultSortAsc": true,
         "editable": true,
         "field": "model",
         "id": "model",
         "minWidth": 30,
         "name": "model",
         "position": 3,
         "resizable": true,
         "sortable": true,
         "toolTip": "",
         "type": "string"
        },
        "producer": {
         "cssClass": "string",
         "defaultSortAsc": true,
         "editable": true,
         "field": "producer",
         "id": "producer",
         "minWidth": 30,
         "name": "producer",
         "position": 2,
         "resizable": true,
         "sortable": true,
         "toolTip": "",
         "type": "string"
        },
        "qgrid_unfiltered_index": {
         "cssClass": "integer",
         "defaultSortAsc": true,
         "editable": true,
         "field": "qgrid_unfiltered_index",
         "id": "qgrid_unfiltered_index",
         "maxWidth": null,
         "minWidth": 30,
         "name": "qgrid_unfiltered_index",
         "position": 1,
         "resizable": true,
         "sortable": true,
         "toolTip": "",
         "type": "integer",
         "width": null
        },
        "resource": {
         "cssClass": "string",
         "defaultSortAsc": true,
         "editable": true,
         "field": "resource",
         "id": "resource",
         "minWidth": 30,
         "name": "resource",
         "position": 6,
         "resizable": true,
         "sortable": true,
         "toolTip": "",
         "type": "string"
        },
        "serial": {
         "cssClass": "string",
         "defaultSortAsc": true,
         "editable": true,
         "field": "serial",
         "id": "serial",
         "minWidth": 30,
         "name": "serial",
         "position": 4,
         "resizable": true,
         "sortable": true,
         "toolTip": "",
         "type": "string"
        },
        "version": {
         "cssClass": "string",
         "defaultSortAsc": true,
         "editable": true,
         "field": "version",
         "id": "version",
         "minWidth": 30,
         "name": "version",
         "position": 5,
         "resizable": true,
         "sortable": true,
         "toolTip": "",
         "type": "string"
        }
       },
       "_df_json": "{\"schema\": {\"fields\":[{\"name\":\"index\",\"type\":\"integer\"},{\"name\":\"qgrid_unfiltered_index\",\"type\":\"integer\"},{\"name\":\"producer\",\"type\":\"string\"},{\"name\":\"model\",\"type\":\"string\"},{\"name\":\"serial\",\"type\":\"string\"},{\"name\":\"version\",\"type\":\"string\"},{\"name\":\"resource\",\"type\":\"string\"}],\"primaryKey\":[\"index\"],\"pandas_version\":\"0.20.0\"}, \"data\": [{\"index\":3,\"qgrid_unfiltered_index\":2,\"producer\":\"COPPER MOUNTAIN TECHNOLOGIES\",\"model\":\"\",\"serial\":\"\",\"version\":\"\",\"resource\":\"TCPIP0::3232235969::5025::SOCKET\"},{\"index\":1,\"qgrid_unfiltered_index\":0,\"producer\":\"Planar\",\"model\":\"Obzor-804\",\"serial\":\"\",\"version\":\"19.1.3\\/1\",\"resource\":\"TCPIP0::3232235862::5025::SOCKET\"},{\"index\":4,\"qgrid_unfiltered_index\":3,\"producer\":\"CMT\",\"model\":\"S5048\",\"serial\":\"15047071\",\"version\":\"19.2.3\\/2\",\"resource\":\"TCPIP0::3232235988::5025::SOCKET\"},{\"index\":2,\"qgrid_unfiltered_index\":1,\"producer\":\"CMT\",\"model\":\"PLANAR-804\\/1\",\"serial\":\"\",\"version\":\"19.2.3\\/3\",\"resource\":\"TCPIP0::3232235940::5025::SOCKET\"}]}",
       "_df_range": [
        0,
        100
       ],
       "_editable_rows": {},
       "_index_col_name": "qgrid_unfiltered_index",
       "_interval_columns": [],
       "_model_module_version": "1.1.1",
       "_multi_index": false,
       "_row_count": 4,
       "_row_styles": {},
       "_sort_ascending": true,
       "_sort_field": "version",
       "_view_module_version": "1.1.1",
       "_viewport_range": [
        0,
        100
       ],
       "grid_options": {
        "autoEdit": false,
        "boldIndex": true,
        "defaultColumnWidth": 150,
        "editable": false,
        "enableColumnReorder": false,
        "enableTextSelectionOnCells": true,
        "explicitInitialization": true,
        "filterable": true,
        "forceFitColumns": true,
        "fullWidthRows": true,
        "highlightSelectedCell": false,
        "highlightSelectedRow": true,
        "maxVisibleRows": 15,
        "minVisibleRows": 8,
        "rowHeight": 28,
        "sortable": true,
        "syncColumnCellResize": true
       },
       "id": "fada298d-6586-4c7e-8c7c-602e9e3d82fb",
       "layout": "IPY_MODEL_141bd5fa7da549e7a69064f43ca14509",
       "precision": 5,
       "show_toolbar": false
      }
     },
     "ff6181ab597e40d3acaca6403e23d2c3": {
      "model_module": "@jupyter-widgets/controls",
      "model_module_version": "1.4.0",
      "model_name": "ButtonStyleModel",
      "state": {}
     },
     "ffc3e62f833f4cecafc14199bb948907": {
      "model_module": "@jupyter-widgets/base",
      "model_module_version": "1.1.0",
      "model_name": "LayoutModel",
      "state": {}
     },
     "fff13cd9858a4d12add43facca4c8f15": {
      "model_module": "@jupyter-widgets/controls",
      "model_module_version": "1.4.0",
      "model_name": "HBoxModel",
      "state": {
       "children": [
        "IPY_MODEL_56d55d3efbb54e39aaed25b76cb0ff37",
        "IPY_MODEL_1d1a5d795d2b4cfc9017216634c1b0fa",
        "IPY_MODEL_f12e10743c684be9aa91530fc4527eb9",
        "IPY_MODEL_b563774c122a4fa38d6b3ab52c0b0512"
       ],
       "layout": "IPY_MODEL_9d7efb2ed71b455a990f882a0a112edd"
      }
     }
    },
    "version_major": 2,
    "version_minor": 0
   }
  }
 },
 "nbformat": 4,
 "nbformat_minor": 2
}
