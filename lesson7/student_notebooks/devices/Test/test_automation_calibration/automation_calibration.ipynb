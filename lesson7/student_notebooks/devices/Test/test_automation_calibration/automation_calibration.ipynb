{
 "cells": [
  {
   "cell_type": "code",
   "execution_count": null,
   "metadata": {},
   "outputs": [],
   "source": [
    "import os,sys,inspect\n",
    "import random\n",
    "from IPython.display import display, Markdown, Latex, Javascript, clear_output\n",
    "import emoji\n",
    "import time\n",
    "import ipywidgets as widgets\n",
    "import ipython_blocking\n",
    "import numpy as np\n",
    "import time\n",
    "from tqdm import tqdm_notebook\n",
    "import functools\n",
    "import configparser\n",
    "import webbrowser\n",
    "import shutil\n",
    "from functools import partial\n",
    "import json\n",
    "\n",
    "parentdir = os.path.abspath('../../../pymodules')\n",
    "\n",
    "sys.path.insert(0,parentdir)\n",
    "#from connect_device import connect\n",
    "from connect_device_v2.vizualizate import vizulizated_finds_devices, advanced_search_device,DeviceBundle\n",
    "from connect_device_v2.save_file import SaveFilesButton\n",
    "from connect_device_v2.connect import connect_to_device\n",
    "from connect_device_v2.find_device import FindDevice\n",
    "import pandas as pd\n",
    "from datetime import datetime\n",
    "button = widgets.Button(\n",
    "                description='Continue',\n",
    "                disabled=False,\n",
    "                button_style='success',  # 'success', 'info', 'warning', 'danger' or ''\n",
    "                tooltip='Click me',\n",
    "                icon='play'        \n",
    "                )\n",
    "testname=\"Тест команд автоматизации для калибровок\"\n",
    "display(Markdown('### 💠 {}'.format(testname)))\n",
    "\n"
   ]
  },
  {
   "cell_type": "code",
   "execution_count": null,
   "metadata": {},
   "outputs": [],
   "source": [
    "from connect_device_v2.find_device import FindDevice,parse_config\n",
    "box = FindDevice()\n",
    "display(box)"
   ]
  },
  {
   "cell_type": "code",
   "execution_count": null,
   "metadata": {},
   "outputs": [],
   "source": [
    "button = box.select_device_continue_button"
   ]
  },
  {
   "cell_type": "code",
   "execution_count": null,
   "metadata": {},
   "outputs": [],
   "source": [
    "%blockrun button"
   ]
  },
  {
   "cell_type": "code",
   "execution_count": null,
   "metadata": {},
   "outputs": [],
   "source": [
    "button1 = box.select_config_continue_button"
   ]
  },
  {
   "cell_type": "code",
   "execution_count": null,
   "metadata": {},
   "outputs": [],
   "source": [
    "%blockrun button1"
   ]
  },
  {
   "cell_type": "code",
   "execution_count": null,
   "metadata": {},
   "outputs": [],
   "source": [
    "inst = box.selected_device"
   ]
  },
  {
   "cell_type": "code",
   "execution_count": null,
   "metadata": {},
   "outputs": [],
   "source": [
    "inst.write(\"SYST:PRES\")"
   ]
  },
  {
   "cell_type": "code",
   "execution_count": null,
   "metadata": {},
   "outputs": [],
   "source": []
  },
  {
   "cell_type": "code",
   "execution_count": null,
   "metadata": {},
   "outputs": [],
   "source": []
  },
  {
   "cell_type": "code",
   "execution_count": null,
   "metadata": {},
   "outputs": [],
   "source": [
    "date=datetime.now()\n",
    "date=date.strftime('%Y-%m-%d %H:%M:%S')\n",
    "device = inst.query(\"*IDN?\")\n",
    "\n",
    "device = device.replace(' ','')\n",
    "device = device.split(',')\n",
    "device_info = {'Время запуска':date,\n",
    "              'device':device[0],\n",
    "              'model':device[1],\n",
    "              'serial':device[2],\n",
    "              'version':device[3]}\n",
    "#inst2 = ng.instance()\n",
    "#путь к файлу с сегментами\n",
    "currentDir=%pwd\n",
    "#resultPath= currentDir +'\\\\frequency_plan.seg'\n",
    "portCount = int(inst.query(\"SERV:PORT:COUN?\"))\n",
    "print(device_info)\n",
    "print(portCount)"
   ]
  },
  {
   "cell_type": "code",
   "execution_count": null,
   "metadata": {},
   "outputs": [],
   "source": [
    "\n"
   ]
  },
  {
   "cell_type": "code",
   "execution_count": null,
   "metadata": {},
   "outputs": [],
   "source": [
    "def check_error():\n",
    "    responce = inst.query('SYST:ERR?')    \n",
    "    if \"No error\" not in responce:        \n",
    "        print(responce)\n",
    "        #pass\n",
    "    else:        \n",
    "        pass\n",
    "        #print('succes')"
   ]
  },
  {
   "cell_type": "code",
   "execution_count": null,
   "metadata": {},
   "outputs": [],
   "source": []
  },
  {
   "cell_type": "code",
   "execution_count": null,
   "metadata": {},
   "outputs": [],
   "source": [
    "def setup_mesuare_parametrs(con):\n",
    "    con.write(f\"SENS:CORR:COLL:CKIT 3\")    \n",
    "    check_error()\n",
    "    for i in range(1,3): \n",
    "        #print(\"SENS:CORR:COLL:CKIT:ORD:SEL 2\")\n",
    "        #con.write(\"SENS:CORR:COLL:CKIT:ORD:SEL 2\")\n",
    "        #check_error()\n",
    "        #print(f\"SENS:CORR:COLL:CKIT:STAN{i}:DEL 0\")\n",
    "        con.write(f\"SENS:CORR:COLL:CKIT:STAN{i}:DEL 0\")\n",
    "        check_error()\n",
    "        con.write(f\"SENS:CORR:COLL:CKIT:STAN{i}:LOSS 0\")\n",
    "        check_error()\n",
    "        con.write(f\"SENS:CORR:COLL:CKIT:STAN{i}:C0 0\")\n",
    "        check_error()\n",
    "        con.write(f\"SENS:CORR:COLL:CKIT:STAN{i}:C1 0\")\n",
    "        check_error()\n",
    "        con.write(f\"SENS:CORR:COLL:CKIT:STAN{i}:C2 0\")\n",
    "        check_error()\n",
    "        con.write(f\"SENS:CORR:COLL:CKIT:STAN{i}:C3 0\")\n",
    "        check_error()"
   ]
  },
  {
   "cell_type": "code",
   "execution_count": null,
   "metadata": {},
   "outputs": [],
   "source": [
    "setup_mesuare_parametrs(inst)"
   ]
  },
  {
   "cell_type": "code",
   "execution_count": null,
   "metadata": {},
   "outputs": [],
   "source": [
    "def kalibration_ro_for_port_list(con,ports_list:list):\n",
    "    #print('port list=',ports_list)\n",
    "    #print('port list=',type(ports_list))\n",
    "    #print(f'SYST:CORR 0')\n",
    "    con.write('SYST:CORR 0') \n",
    "    check_error()\n",
    "    \n",
    "#     con.write(\"SENS:CORR:COLL:CKIT 2\")\n",
    "#     check_error()\n",
    "#     con.write(\"SENS:CORR:COLL:CKIT:ORD:SEL 1\")\n",
    "#     check_error()\n",
    "  \n",
    "    con.write(f\"SENS:CORR:COLL:CKIT 3\")\n",
    "    check_error()\n",
    "    con.write(\"DISP:WIND:TRAC:Y:PDIV 0.05\")\n",
    "    check_error()\n",
    "    con.write(\"SENS:CORR:STAT ON\")\n",
    "    check_error()\n",
    "    # time.sleep(2)\n",
    "    #time.sleep(3) \n",
    "    for port in ports_list:     \n",
    "        #print(f\"SENS1:CORR:COLL:OPEN {port}\")\n",
    "        con.write(f\"SENS1:CORR:COLL:OPEN {port}\")\n",
    "        check_error()\n",
    "        #print(f\"SENS1:CORR:COLL:METH:OPEN {port}\")\n",
    "        con.write(f\"SENS1:CORR:COLL:METH:OPEN {port}\") \n",
    "        check_error()\n",
    "        #print(\"SENS:CORR:COLL:SAVE\")\n",
    "        \n",
    "        con.write(\"SENS:CORR:COLL:SAVE\")         \n",
    "        check_error()\n",
    "        con.write(f\"CALC:PAR1:DEF s{port}{port}\") \n",
    "        #print(\"SENS:CORR:COLL:SAVE\")\n",
    "        #print(con.query(f'SENS:CORR:TYPE?'))\n",
    "        time.sleep(2)\n",
    "        query=str(con.query('SENS:CORR:TYPE?'))\n",
    "        #print ('#####',query)\n",
    "        #query='qwe'\n",
    "        if (\"RESPO\" in query and str(port) in query):\n",
    "            print(f'Calibration RO {port} succes')\n",
    "        else:\n",
    "            print(f'Calibration RO {port} failed')\n",
    "    \n",
    "    \n",
    "    \n",
    "    \n",
    "    con.write(\"SENSe:SWEep:TYPE LINear\")\n",
    "    check_error()\n",
    "    \n",
    "    "
   ]
  },
  {
   "cell_type": "code",
   "execution_count": null,
   "metadata": {},
   "outputs": [],
   "source": []
  },
  {
   "cell_type": "code",
   "execution_count": null,
   "metadata": {},
   "outputs": [],
   "source": [
    "display(Markdown(f'### 💠 Калибровка RO'))\n",
    "for port in range(1,portCount+1):\n",
    "    kalibration_ro_for_port_list(inst,[j for j in range(port,port+1)])\n"
   ]
  },
  {
   "cell_type": "code",
   "execution_count": null,
   "metadata": {},
   "outputs": [],
   "source": [
    "button2 = widgets.Button(\n",
    "                description='Continue',\n",
    "                disabled=False,\n",
    "                button_style='success',  # 'success', 'info', 'warning', 'danger' or ''\n",
    "                tooltip='Click me',\n",
    "                icon='play'        \n",
    "                )\n",
    "display(button2)"
   ]
  },
  {
   "cell_type": "code",
   "execution_count": null,
   "metadata": {},
   "outputs": [],
   "source": [
    "%blockrun button2"
   ]
  },
  {
   "cell_type": "code",
   "execution_count": null,
   "metadata": {},
   "outputs": [],
   "source": [
    "inst.write(\"SYST:PRES\")"
   ]
  },
  {
   "cell_type": "code",
   "execution_count": null,
   "metadata": {},
   "outputs": [],
   "source": [
    "def kalibration_full1_for_port_list(con,ports_list:list):\n",
    "    \n",
    "    con.write(f\"SENS:CORR:COLL:CKIT 2\")\n",
    "    check_error()    \n",
    "    for port in ports_list:     \n",
    "        #print(f\"SENS1:CORR:COLL:OPEN {port}\")\n",
    "        con.write(f\"SENS1:CORR:COLL:OPEN {port}\")\n",
    "        check_error()\n",
    "        #print(f\"SENS1:CORR:COLL:METH:OPEN {port}\")        \n",
    "        con.write(f\"SENS1:CORR:COLL:SHORT {port}\")\n",
    "        check_error()        \n",
    "        con.write(f\"SENS1:CORR:COLL:LOAD {port}\")\n",
    "        check_error()\n",
    "        con.write(f'SENS1:CORR:COLL:METH:SOLT1 {port}')\n",
    "        con.write(\"SENS:CORR:COLL:SAVE\")         \n",
    "        check_error()\n",
    "        con.write(f\"CALC:PAR1:DEF s{port}{port}\") \n",
    "        #print(\"SENS:CORR:COLL:SAVE\")\n",
    "        #print(con.query(f'SENS:CORR:TYPE?'))\n",
    "        query=str(con.query('SENS:CORR:TYPE?'))\n",
    "        print ('#####',query)\n",
    "        if (\"SOLT1\" in query and str(port) in query):\n",
    "            print(f'Calibration SOLT1 {port} succes')\n",
    "        else:\n",
    "            print(f'Calibration SOLT1 {port} failed')\n",
    "    \n",
    "    \n",
    "    \n",
    "    \n",
    "    con.write(\"SENSe:SWEep:TYPE LINear\")\n",
    "    check_error()\n",
    "    \n",
    "#    прерводим прибор в режим внешнего управления и останавливаем развёртку"
   ]
  },
  {
   "cell_type": "code",
   "execution_count": null,
   "metadata": {},
   "outputs": [],
   "source": [
    "display(Markdown(f'### 💠 Калибровка Full1'))\n",
    "for port in range(1,portCount+1):\n",
    "    kalibration_full1_for_port_list(inst,[j for j in range(port,port+1)])"
   ]
  },
  {
   "cell_type": "code",
   "execution_count": null,
   "metadata": {},
   "outputs": [],
   "source": [
    "button3 = widgets.Button(\n",
    "                description='Continue',\n",
    "                disabled=False,\n",
    "                button_style='success',  # 'success', 'info', 'warning', 'danger' or ''\n",
    "                tooltip='Click me',\n",
    "                icon='play'        \n",
    "                )\n",
    "display(button3)"
   ]
  },
  {
   "cell_type": "code",
   "execution_count": null,
   "metadata": {},
   "outputs": [],
   "source": [
    "%blockrun button3"
   ]
  },
  {
   "cell_type": "code",
   "execution_count": null,
   "metadata": {},
   "outputs": [],
   "source": [
    "inst.write(\"SYST:PRES\")"
   ]
  },
  {
   "cell_type": "code",
   "execution_count": null,
   "metadata": {},
   "outputs": [],
   "source": [
    "def kalibration_full2_for_port_list(con,ports_list:list):\n",
    "    print(ports_list)\n",
    "    con.write(f\"SENS:CORR:COLL:CKIT 3\")\n",
    "    check_error()    \n",
    "    for port in ports_list:     \n",
    "        #print(f\"SENS1:CORR:COLL:OPEN {port}\")\n",
    "        con.write(f\"SENS1:CORR:COLL:OPEN {port}\")\n",
    "        check_error()\n",
    "        #print(f\"SENS1:CORR:COLL:METH:OPEN {port}\")        \n",
    "        con.write(f\"SENS1:CORR:COLL:SHORT {port}\")\n",
    "        check_error()        \n",
    "        con.write(f\"SENS1:CORR:COLL:LOAD {port}\")\n",
    "        check_error()\n",
    "    con.write(f\"SENS1:CORR:COLL:THRU 1,2\")\n",
    "    con.write(f\"SENS1:CORR:COLL:THRU 2,1\")\n",
    "    check_error()\n",
    "    con.write(f'SENS1:CORR:COLL:METH:SOLT2 1,2')\n",
    "    con.write(\"SENS:CORR:COLL:SAVE\")         \n",
    "    check_error()\n",
    "    con.write(f\"CALC:PAR1:DEF s{port}{port}\") \n",
    "    #print(\"SENS:CORR:COLL:SAVE\")\n",
    "    #print(con.query(f'SENS:CORR:TYPE?'))\n",
    "    query=str(con.query('SENS:CORR:TYPE?'))\n",
    "    print ('#####',query)\n",
    "    if (\"SOLT1\" in query and str(port) in query):\n",
    "        print(f'Calibration SOLT1 {port} succes')\n",
    "    else:\n",
    "        print(f'Calibration SOLT1 {port} failed')\n",
    "    \n",
    "    \n",
    "    \n",
    "    \n",
    "    con.write(\"SENSe:SWEep:TYPE LINear\")\n",
    "    check_error()\n",
    "    \n",
    "#    прерводим прибор в режим внешнего управления и останавливаем развёртку"
   ]
  },
  {
   "cell_type": "code",
   "execution_count": null,
   "metadata": {},
   "outputs": [],
   "source": [
    "display(Markdown(f'### 💠 Калибровка Full2 1,2 port'))\n",
    "for port in range(1,3):\n",
    "   #print(f\"SENS1:CORR:COLL:OPEN {port}\")\n",
    "    inst.write(f\"SENS1:CORR:COLL:OPEN {port}\")\n",
    "    check_error()\n",
    "    #print(f\"SENS1:CORR:COLL:METH:OPEN {port}\")        \n",
    "    inst.write(f\"SENS1:CORR:COLL:SHORT {port}\")\n",
    "    check_error()        \n",
    "    inst.write(f\"SENS1:CORR:COLL:LOAD {port}\")\n",
    "    check_error()\n",
    "inst.write(f\"SENS1:CORR:COLL:THRU 1,2\")\n",
    "inst.write(f\"SENS1:CORR:COLL:THRU 2,1\")\n",
    "check_error()\n",
    "inst.write(f'SENS1:CORR:COLL:METH:SOLT2 1,2')\n",
    "inst.write(\"SENS:CORR:COLL:SAVE\")         \n",
    "check_error()\n",
    "inst.write(f\"CALC:PAR1:DEF s11\") \n",
    "#print(\"SENS:CORR:COLL:SAVE\")\n",
    "#print(con.query(f'SENS:CORR:TYPE?'))\n",
    "query=str(inst.query('SENS:CORR:TYPE?'))\n",
    "print ('#####',query)\n",
    "if (\"SOLT2\" in query):\n",
    "    print(f'Calibration SOLT2  succes')\n",
    "else:\n",
    "    print(f'Calibration SOLT2  failed')\n",
    "inst.write(\"SENSe:SWEep:TYPE LINear\")\n",
    "check_error()\n"
   ]
  },
  {
   "cell_type": "code",
   "execution_count": null,
   "metadata": {},
   "outputs": [],
   "source": [
    "button4 = widgets.Button(\n",
    "                description='Continue',\n",
    "                disabled=False,\n",
    "                button_style='success',  # 'success', 'info', 'warning', 'danger' or ''\n",
    "                tooltip='Click me',\n",
    "                icon='play'        \n",
    "                )\n",
    "display(button4)"
   ]
  },
  {
   "cell_type": "code",
   "execution_count": null,
   "metadata": {},
   "outputs": [],
   "source": [
    "%blockrun button4"
   ]
  },
  {
   "cell_type": "code",
   "execution_count": null,
   "metadata": {},
   "outputs": [],
   "source": [
    "inst.write(\"SYST:PRES\")"
   ]
  },
  {
   "cell_type": "code",
   "execution_count": null,
   "metadata": {},
   "outputs": [],
   "source": [
    "display(Markdown(f'### 💠 Калибровка Full3 1,2,3 port'))\n",
    "for port in range(1,4):\n",
    "   #print(f\"SENS1:CORR:COLL:OPEN {port}\")\n",
    "    inst.write(f\"SENS1:CORR:COLL:OPEN {port}\")\n",
    "    check_error()\n",
    "    #print(f\"SENS1:CORR:COLL:METH:OPEN {port}\")        \n",
    "    inst.write(f\"SENS1:CORR:COLL:SHORT {port}\")\n",
    "    check_error()        \n",
    "    inst.write(f\"SENS1:CORR:COLL:LOAD {port}\")\n",
    "    check_error()\n",
    "inst.write(f\"SENS1:CORR:COLL:THRU 1,2\")\n",
    "inst.write(f\"SENS1:CORR:COLL:THRU 1,3\")\n",
    "inst.write(f\"SENS1:CORR:COLL:THRU 2,1\")\n",
    "inst.write(f\"SENS1:CORR:COLL:THRU 2,3\")\n",
    "inst.write(f\"SENS1:CORR:COLL:THRU 3,1\")\n",
    "inst.write(f\"SENS1:CORR:COLL:THRU 3,2\")\n",
    "check_error()\n",
    "inst.write(f'SENS1:CORR:COLL:METH:SOLT3 1,2,3')\n",
    "inst.write(\"SENS:CORR:COLL:SAVE\")         \n",
    "check_error()\n",
    "inst.write(f\"CALC:PAR1:DEF s11\") \n",
    "#print(\"SENS:CORR:COLL:SAVE\")\n",
    "#print(con.query(f'SENS:CORR:TYPE?'))\n",
    "query=str(inst.query('SENS:CORR:TYPE?'))\n",
    "print ('#####',query)\n",
    "if (\"SOLTN\" in query):\n",
    "    print(f'Calibration SOLT3  succes')\n",
    "else:\n",
    "    print(f'Calibration SOLT3  failed')\n",
    "inst.write(\"SENSe:SWEep:TYPE LINear\")\n",
    "check_error()\n"
   ]
  },
  {
   "cell_type": "code",
   "execution_count": null,
   "metadata": {},
   "outputs": [],
   "source": [
    "button5 = widgets.Button(\n",
    "                description='Continue',\n",
    "                disabled=False,\n",
    "                button_style='success',  # 'success', 'info', 'warning', 'danger' or ''\n",
    "                tooltip='Click me',\n",
    "                icon='play'        \n",
    "                )\n",
    "display(button5)"
   ]
  },
  {
   "cell_type": "code",
   "execution_count": null,
   "metadata": {},
   "outputs": [],
   "source": [
    "%blockrun button5"
   ]
  },
  {
   "cell_type": "code",
   "execution_count": null,
   "metadata": {},
   "outputs": [],
   "source": [
    "inst.write(\"SYST:PRES\")"
   ]
  },
  {
   "cell_type": "code",
   "execution_count": null,
   "metadata": {},
   "outputs": [],
   "source": [
    "display(Markdown(f'### 💠 Калибровка Full4 1,2,3,4 port'))\n",
    "for port in range(1,5):\n",
    "   #print(f\"SENS1:CORR:COLL:OPEN {port}\")\n",
    "    inst.write(f\"SENS1:CORR:COLL:OPEN {port}\")\n",
    "    check_error()\n",
    "    #print(f\"SENS1:CORR:COLL:METH:OPEN {port}\")        \n",
    "    inst.write(f\"SENS1:CORR:COLL:SHORT {port}\")\n",
    "    check_error()        \n",
    "    inst.write(f\"SENS1:CORR:COLL:LOAD {port}\")\n",
    "    check_error()\n",
    "inst.write(f\"SENS1:CORR:COLL:THRU 1,2\")\n",
    "inst.write(f\"SENS1:CORR:COLL:THRU 1,3\")\n",
    "inst.write(f\"SENS1:CORR:COLL:THRU 1,4\")\n",
    "inst.write(f\"SENS1:CORR:COLL:THRU 2,1\")\n",
    "inst.write(f\"SENS1:CORR:COLL:THRU 2,3\")\n",
    "inst.write(f\"SENS1:CORR:COLL:THRU 2,4\")\n",
    "inst.write(f\"SENS1:CORR:COLL:THRU 3,1\")\n",
    "inst.write(f\"SENS1:CORR:COLL:THRU 3,2\")\n",
    "inst.write(f\"SENS1:CORR:COLL:THRU 3,4\")\n",
    "inst.write(f\"SENS1:CORR:COLL:THRU 4,1\")\n",
    "inst.write(f\"SENS1:CORR:COLL:THRU 4,2\")\n",
    "inst.write(f\"SENS1:CORR:COLL:THRU 4,3\")\n",
    "check_error()\n",
    "inst.write(f'SENS1:CORR:COLL:METH:SOLT4 1,2,3,4')\n",
    "inst.write(\"SENS:CORR:COLL:SAVE\")         \n",
    "check_error()\n",
    "inst.write(f\"CALC:PAR1:DEF s11\") \n",
    "#print(\"SENS:CORR:COLL:SAVE\")\n",
    "#print(con.query(f'SENS:CORR:TYPE?'))\n",
    "query=str(inst.query('SENS:CORR:TYPE?'))\n",
    "print ('#####',query)\n",
    "if (\"SOLTN\" in query):\n",
    "    print(f'Calibration SOLT4  succes')\n",
    "else:\n",
    "    print(f'Calibration SOLT4  failed')\n",
    "inst.write(\"SENSe:SWEep:TYPE LINear\")\n",
    "check_error()"
   ]
  },
  {
   "cell_type": "code",
   "execution_count": null,
   "metadata": {},
   "outputs": [],
   "source": [
    "inst.write(\"SENSe:CORRection:COLLect:CKIT:RESet\")"
   ]
  },
  {
   "cell_type": "code",
   "execution_count": null,
   "metadata": {},
   "outputs": [],
   "source": []
  },
  {
   "cell_type": "code",
   "execution_count": null,
   "metadata": {},
   "outputs": [],
   "source": [
    "\n"
   ]
  }
 ],
 "metadata": {
  "hide_input": false,
  "kernelspec": {
   "display_name": "Python 3",
   "language": "python",
   "name": "python3"
  },
  "language_info": {
   "codemirror_mode": {
    "name": "ipython",
    "version": 3
   },
   "file_extension": ".py",
   "mimetype": "text/x-python",
   "name": "python",
   "nbconvert_exporter": "python",
   "pygments_lexer": "ipython3",
   "version": "3.6.12"
  },
  "toc": {
   "base_numbering": 1,
   "nav_menu": {
    "height": "129px",
    "width": "225px"
   },
   "number_sections": true,
   "sideBar": true,
   "skip_h1_title": false,
   "title_cell": "Table of Contents",
   "title_sidebar": "Содержимое",
   "toc_cell": false,
   "toc_position": {},
   "toc_section_display": true,
   "toc_window_display": true
  },
  "varInspector": {
   "cols": {
    "lenName": 16,
    "lenType": 16,
    "lenVar": 40
   },
   "kernels_config": {
    "python": {
     "delete_cmd_postfix": "",
     "delete_cmd_prefix": "del ",
     "library": "var_list.py",
     "varRefreshCmd": "print(var_dic_list())"
    },
    "r": {
     "delete_cmd_postfix": ") ",
     "delete_cmd_prefix": "rm(",
     "library": "var_list.r",
     "varRefreshCmd": "cat(var_dic_list()) "
    }
   },
   "position": {
    "height": "577.2px",
    "left": "1678px",
    "right": "20px",
    "top": "120px",
    "width": "350px"
   },
   "types_to_exclude": [
    "module",
    "function",
    "builtin_function_or_method",
    "instance",
    "_Feature"
   ],
   "window_display": false
  }
 },
 "nbformat": 4,
 "nbformat_minor": 2
}
