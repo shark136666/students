{
 "cells": [
  {
   "cell_type": "code",
   "execution_count": 1,
   "metadata": {},
   "outputs": [
    {
     "data": {
      "text/markdown": [
       "### 💠 СКО трасс"
      ],
      "text/plain": [
       "<IPython.core.display.Markdown object>"
      ]
     },
     "metadata": {},
     "output_type": "display_data"
    }
   ],
   "source": [
    "import os,sys,inspect\n",
    "from IPython.display import display, Markdown, Latex, Javascript, clear_output\n",
    "import emoji\n",
    "import time\n",
    "import ipywidgets as widgets\n",
    "import ipython_blocking\n",
    "import numpy as np\n",
    "import time\n",
    "from tqdm import tqdm_notebook\n",
    "import functools\n",
    "import configparser\n",
    "import webbrowser\n",
    "import shutil\n",
    "\n",
    "\n",
    "parentdir = os.path.abspath('../../../pymodules')\n",
    "\n",
    "sys.path.insert(0,parentdir)\n",
    "#from connect_device import connect\n",
    "from connect_device_v2.vizualizate import vizulizated_finds_devices, advanced_search_device,DeviceBundle\n",
    "from connect_device_v2.save_file import SaveFilesButton\n",
    "from connect_device_v2.connect import connect_to_device\n",
    "from connect_device_v2.find_device import FindDevice\n",
    "from connect_device_v2.auxiliary_commands import check_error,disable_all_correctors,enable_ifbf_for_all_segment\n",
    "\n",
    "import pandas as pd\n",
    "from datetime import datetime\n",
    "button = widgets.Button(\n",
    "                description='Continue',\n",
    "                disabled=False,\n",
    "                button_style='success',  # 'success', 'info', 'warning', 'danger' or ''\n",
    "                tooltip='Click me',\n",
    "                icon='play'        \n",
    "                )\n",
    "testname=\"СКО трасс\"\n",
    "display(Markdown('### 💠 {}'.format(testname)))\n",
    "\n"
   ]
  },
  {
   "cell_type": "code",
   "execution_count": 2,
   "metadata": {},
   "outputs": [
    {
     "name": "stdout",
     "output_type": "stream",
     "text": [
      "Выбранная конфигурация\n",
      "filter_if:3 k,300 k\n",
      "athenuator:10,30,50\n"
     ]
    },
    {
     "data": {
      "application/vnd.jupyter.widget-view+json": {
       "model_id": "7c9faf6a71a44a99959524337002355c",
       "version_major": 2,
       "version_minor": 0
      },
      "text/plain": [
       "VBox(children=(Button(button_style='info', description='редактировать конфиг', layout=Layout(width='max-conten…"
      ]
     },
     "metadata": {},
     "output_type": "display_data"
    },
    {
     "data": {
      "application/javascript": [
       "Jupyter.notebook.select_next().execute_cells_below()"
      ],
      "text/plain": [
       "<IPython.core.display.Javascript object>"
      ]
     },
     "metadata": {},
     "output_type": "display_data"
    }
   ],
   "source": [
    "from connect_device_v2.find_device import FindDevice,parse_config\n",
    "box = FindDevice()\n",
    "display(box)"
   ]
  },
  {
   "cell_type": "code",
   "execution_count": 11,
   "metadata": {
    "code_folding": [
     8
    ]
   },
   "outputs": [],
   "source": [
    "button = box.select_device_continue_button"
   ]
  },
  {
   "cell_type": "code",
   "execution_count": 12,
   "metadata": {},
   "outputs": [],
   "source": [
    "%blockrun button"
   ]
  },
  {
   "cell_type": "code",
   "execution_count": 13,
   "metadata": {},
   "outputs": [],
   "source": [
    "button1 = box.select_config_continue_button"
   ]
  },
  {
   "cell_type": "code",
   "execution_count": 14,
   "metadata": {},
   "outputs": [],
   "source": [
    "%blockrun button1"
   ]
  },
  {
   "cell_type": "code",
   "execution_count": 15,
   "metadata": {},
   "outputs": [],
   "source": [
    "inst = box.selected_device"
   ]
  },
  {
   "cell_type": "code",
   "execution_count": 16,
   "metadata": {},
   "outputs": [],
   "source": [
    "date=datetime.now()\n",
    "date=date.strftime('%Y-%m-%d %H:%M:%S')\n",
    "device = inst.query(\"*IDN?\")\n",
    "device = device.replace(' ','')\n",
    "device = device.split(',')\n",
    "device_info = {'Время запуска':date,\n",
    "              'device':device[0],\n",
    "              'model':device[1],\n",
    "              'serial':device[2],\n",
    "              'version':device[3]}\n",
    "portCount=int(inst.query(\"SERV:PORT:COUN?\"))\n",
    "traces=[\"T\",\"R\",\"S\"]\n",
    "trace_count = portCount* len(traces)"
   ]
  },
  {
   "cell_type": "code",
   "execution_count": 17,
   "metadata": {},
   "outputs": [],
   "source": [
    "result_config =  box.config"
   ]
  },
  {
   "cell_type": "code",
   "execution_count": 18,
   "metadata": {},
   "outputs": [],
   "source": [
    "# def check_error():\n",
    "#     responce = inst.query('SYST:ERR?')    \n",
    "#     if \"No error\" not in responce:        \n",
    "#         print(responce)\n",
    "#         #pass\n",
    "#     else:        \n",
    "#         pass\n",
    "#         #print('succes')"
   ]
  },
  {
   "cell_type": "code",
   "execution_count": 19,
   "metadata": {},
   "outputs": [],
   "source": [
    "def parse_config(config: dict):\n",
    "    factor_value = {\n",
    "        'k': 10 ** 3,\n",
    "        'm': 10 ** 6,\n",
    "        'g': 10 ** 9\n",
    "    }\n",
    "    new_config = config.copy()\n",
    "    \n",
    "    if_value = config['DEVICE']['filter_if'].split(',') \n",
    "    \n",
    "    new_if_value=''\n",
    "    for i in if_value:\n",
    "        numeric, factor = i.split(' ')\n",
    "        new_if_value += f'{float(numeric) * factor_value[factor.lower()]} ' \n",
    "    new_config['DEVICE']['filter_if']=new_if_value\n",
    "   \n",
    "    return new_config"
   ]
  },
  {
   "cell_type": "code",
   "execution_count": null,
   "metadata": {},
   "outputs": [],
   "source": []
  },
  {
   "cell_type": "code",
   "execution_count": 20,
   "metadata": {},
   "outputs": [],
   "source": [
    "new_config=parse_config(dict(result_config))\n",
    "\n"
   ]
  },
  {
   "cell_type": "code",
   "execution_count": 21,
   "metadata": {},
   "outputs": [],
   "source": [
    "if_filter_value=new_config['DEVICE']['filter_if'].split(' ')[:-1:]\n",
    "athenuator_value = new_config['DEVICE']['athenuator'].split(',')"
   ]
  },
  {
   "cell_type": "code",
   "execution_count": 22,
   "metadata": {},
   "outputs": [],
   "source": [
    "# def enable_ifbf_for_all_segment(inst):\n",
    "#     data = inst.query(f'SENSe1:SEGMent:DATA?').split(',')\n",
    "#     data[2]=0\n",
    "#     str1 = ''.join(str(e)+',' for e in data)\n",
    "#     inst.write(f'SENSe1:SEGMent:DATA {str1[:-1]}')\n",
    "#     #check_error(inst)"
   ]
  },
  {
   "cell_type": "code",
   "execution_count": 23,
   "metadata": {},
   "outputs": [
    {
     "name": "stdout",
     "output_type": "stream",
     "text": [
      "-215, Invalid segment data\n"
     ]
    },
    {
     "data": {
      "text/plain": [
       "(11, <StatusCode.success: 0>)"
      ]
     },
     "execution_count": 23,
     "metadata": {},
     "output_type": "execute_result"
    }
   ],
   "source": [
    "#Сброс по умолчанию и остановка сканирования\n",
    "#inst.write(\"*RST\")\n",
    "inst.write(\"SYST:PRES\")\n",
    "\n",
    "#отключить все корректоры\n",
    "disable_all_correctors(inst)\n",
    "inst.write(\"SERVice:SWEep:FREQuency:FACTory\")\n",
    "check_error(inst)\n",
    "enable_ifbf_for_all_segment(inst)\n",
    "# прерводим прибор в режим внешнего управления и останавливаем развёртку\n",
    "inst.write(\"TRIG:SOUR BUS\")\n",
    "check_error(inst)\n",
    "inst.write(\"INIT:CONT OFF\")\n",
    "check_error(inst)\n",
    "#inst.write(\"DISP:WIND:TRAC:Y:PDIV 0.01\")\n",
    "check_error(inst)\n",
    "\n",
    "# атенюатор SERVice:RFCTL:POWer:STATe 1\n",
    "inst.write(\"SERVice:RFCTL:POWer:STATe 1\")\n",
    "inst.write(f\"SERVice:RFCTL:POWer:ATT 10\")\n",
    "inst.write(f\"SERV:RFCTL:POW:DAC 6554\")\n",
    "check_error(inst)\n",
    "inst.write('CALC:MST 1')\n",
    "######################################################"
   ]
  },
  {
   "cell_type": "code",
   "execution_count": null,
   "metadata": {},
   "outputs": [],
   "source": [
    "\n",
    "\n"
   ]
  },
  {
   "cell_type": "code",
   "execution_count": 24,
   "metadata": {},
   "outputs": [],
   "source": [
    "def finc(traceCategory,trace,filtr,att,port):\n",
    "    inst.write(f\"SENS:BAND {filtr}\")\n",
    "    check_error(inst)\n",
    "    \n",
    "    if (traceCategory != 'S'):        \n",
    "        #print(f\"CALC:PAR1:DEF {trace+str(port)}\")\n",
    "        inst.write(f\"CALC:PAR1:DEF {trace+str(port)}\")\n",
    "        check_error(inst)\n",
    "        \n",
    "        #print(f\"CALC:PAR1:SPOR {port}\")\n",
    "        inst.write(f\"CALC:PAR1:SPOR {port}\")\n",
    "        check_error(inst)\n",
    "    else:\n",
    "        #print(f\"CALC:PAR1:DEF {trace+str(port)*2}\")\n",
    "        inst.write(f\"CALC:PAR1:DEF {trace+str(port)*2}\")\n",
    "        check_error(inst)\n",
    "\n",
    "    #print(f\"CALC:PAR1:SPOR {port}\")\n",
    "    inst.write(f\"CALC:PAR1:SPOR {port}\")\n",
    "    check_error(inst)\n",
    "\n",
    "    #print(\"SERVice:RFCTL:POWer:STATe 1\")\n",
    "    inst.write(\"SERVice:RFCTL:POWer:STATe 1\")\n",
    "    check_error(inst)\n",
    "\n",
    "    #print(f\"SERVice:RFCTL:POWer:ATT {att}\")\n",
    "    inst.write(f\"SERVice:RFCTL:POWer:ATT {att}\")\n",
    "    check_error(inst)\n",
    "\n",
    "    start_scan()\n",
    "    \n",
    "    normalizeited_graf(1)\n",
    "    #сделать измерения\n",
    "    msd = get_msd()\n",
    "    traceName =inst.query(\"CALC:PAR1:DEF?\")\n",
    "    check_error(inst)\n",
    "    att_devices=inst.query_ascii_values(\"SERVice:RFCTL:POWer:ATT?\")\n",
    "    check_error(inst)                            \n",
    "    filtr_devices=inst.query_ascii_values(\"SENS:BAND?\")\n",
    "    check_error(inst)\n",
    "    return traceName,filtr_devices,att_devices,msd"
   ]
  },
  {
   "cell_type": "code",
   "execution_count": 25,
   "metadata": {},
   "outputs": [],
   "source": [
    "# def go_msd(table):\n",
    "#     for trace in traces:\n",
    "#             for port in range(1,portCount+1):\n",
    "#                 for att in athenuator_value:\n",
    "#                     for filtr in if_filter_value:\n",
    "#                         if (trace!=\"S\"):\n",
    "#                             traceCategory=\"TR\"\n",
    "#                             print(f\"SENS:BAND {filtr}\")\n",
    "#                             inst.write(f\"SENS:BAND {filtr}\")\n",
    "#                             check_error()\n",
    "                            \n",
    "#                             print(f\"CALC:PAR1:DEF {trace+str(port)}\")\n",
    "#                             inst.write(f\"CALC:PAR1:DEF {trace+str(port)}\")\n",
    "#                             check_error()\n",
    "                            \n",
    "#                             print(f\"CALC:PAR1:SPOR {port}\")\n",
    "#                             inst.write(f\"CALC:PAR1:SPOR {port}\")\n",
    "#                             check_error()\n",
    "                            \n",
    "#                             print(\"SERVice:RFCTL:POWer:STATe 1\")\n",
    "#                             inst.write(\"SERVice:RFCTL:POWer:STATe 1\")\n",
    "#                             check_error()\n",
    "                            \n",
    "#                             print(f\"SERVice:RFCTL:POWer:ATT {att}\")\n",
    "#                             inst.write(f\"SERVice:RFCTL:POWer:ATT {att}\")\n",
    "#                             check_error()\n",
    "                            \n",
    "#                             start_scan()\n",
    "#                             #time.sleep(1)\n",
    "#                             normalizeited_graf(1)\n",
    "#                             #сделать измерения\n",
    "#                             msd = get_msd()\n",
    "#                             traceName =inst.query(\"CALC:PAR1:DEF?\")\n",
    "#                             check_error()\n",
    "#                             att_devices=inst.query_ascii_values(\"SERVice:RFCTL:POWer:ATT?\")\n",
    "#                             check_error()                            \n",
    "#                             filtr_devices=inst.query_ascii_values(\"SENS:BAND?\")\n",
    "#                             check_error()\n",
    "#                         else:\n",
    "#                             traceCategory=\"S\"\n",
    "#                             inst.write(f\"SENS:BAND {filtr}\")\n",
    "#                             check_error()\n",
    "#                             inst.write(f\"CALC:PAR1:DEF {trace+str(port)*2}\")\n",
    "#                             check_error()\n",
    "#                             #inst.write(f\"CALC:PAR1:SPOR {port}\")\n",
    "#                             inst.write(\"SERVice:RFCTL:POWer:STATe 1\")\n",
    "#                             check_error()\n",
    "#                             inst.write(f\"SERVice:RFCTL:POWer:ATT {att}\")\n",
    "#                             check_error()\n",
    "#                             start_scan()\n",
    "#                             normalizeited_graf(1)\n",
    "#                             #сделать измерения\n",
    "#                             msd = get_msd()\n",
    "#                             traceName =inst.query(\"CALC:PAR1:DEF?\")\n",
    "#                             att_devices=inst.query_ascii_values(\"SERVice:RFCTL:POWer:ATT?\")\n",
    "#                             filtr_devices=inst.query_ascii_values(\"SENS:BAND?\")\n",
    "#                         table.append((traceCategory,traceName,filtr_devices,att_devices,msd))\n",
    "#                         pbar.update()\n",
    "#     pbar.close()\n",
    "#     return(table)\n",
    "#                         #print(trace,port,att,filtr,msd)\n",
    "#                         #time.sleep()\n",
    "\n"
   ]
  },
  {
   "cell_type": "code",
   "execution_count": 26,
   "metadata": {},
   "outputs": [],
   "source": [
    "def go_msd(table):\n",
    "    for trace in traces:\n",
    "            for port in range(1,portCount+1):\n",
    "                for att in athenuator_value:\n",
    "                    for filtr in if_filter_value:\n",
    "                        if (trace!=\"S\"):\n",
    "                            traceCategory=\"TR\"\n",
    "                            traceName,filtr_devices,att_devices,msd = finc(traceCategory,\n",
    "                                                                           trace,\n",
    "                                                                           filtr,\n",
    "                                                                           att,\n",
    "                                                                           port)\n",
    "                        else:\n",
    "                            traceCategory=\"S\"\n",
    "                            traceName,filtr_devices,att_devices,msd = finc(traceCategory,\n",
    "                                                                           trace,\n",
    "                                                                           filtr,\n",
    "                                                                           att,\n",
    "                                                                           port)\n",
    "                        table.append((traceCategory,traceName,filtr_devices,att_devices,msd))\n",
    "                        pbar.update()\n",
    "    pbar.close()\n",
    "    return(table)\n",
    "                        #print(trace,port,att,filtr,msd)\n",
    "                        #time.sleep()"
   ]
  },
  {
   "cell_type": "code",
   "execution_count": 27,
   "metadata": {},
   "outputs": [],
   "source": [
    "def get_msd():\n",
    "    start_scan()        \n",
    "    a=float(inst.query_ascii_values(\"CALC:MST:DATA?\")[1])    \n",
    "    return(a)"
   ]
  },
  {
   "cell_type": "code",
   "execution_count": 28,
   "metadata": {},
   "outputs": [],
   "source": [
    "def start_scan():    \n",
    "    inst.write(\"INIT\")\n",
    "    check_error(inst)\n",
    "    inst.write(\"TRIG:SING\")\n",
    "    # Читаем ошибки и ждём окончания для считывания данных, затем всё то же самое для порта 2\n",
    "    #print('OPC',inst.query(\"*OPC?\"))   \n",
    "    inst.query(\"*OPC?\")\n",
    "    check_error(inst)"
   ]
  },
  {
   "cell_type": "code",
   "execution_count": null,
   "metadata": {},
   "outputs": [],
   "source": []
  },
  {
   "cell_type": "code",
   "execution_count": 29,
   "metadata": {},
   "outputs": [],
   "source": [
    "def normalizeited_graf(n_graf):\n",
    "    inst.write(f\"CALC:PAR{n_graf}:SEL\")\n",
    "    check_error(inst)\n",
    "    inst.write(\"CALC:MATH:MEM\")\n",
    "    check_error(inst)\n",
    "    inst.write(\"CALC:MATH:FUNC DIVide\")\n",
    "    check_error(inst)\n",
    "    #inst.write(f\"DISP:WIND:TRAC{n_graf}:MEM 0\")\n",
    "    #check_error()"
   ]
  },
  {
   "cell_type": "code",
   "execution_count": 30,
   "metadata": {},
   "outputs": [
    {
     "data": {
      "application/vnd.jupyter.widget-view+json": {
       "model_id": "ff01b477bef84819a4d35a4d9028fdcf",
       "version_major": 2,
       "version_minor": 0
      },
      "text/plain": [
       "HBox(children=(IntProgress(value=0, max=288), HTML(value='')))"
      ]
     },
     "metadata": {},
     "output_type": "display_data"
    },
    {
     "name": "stdout",
     "output_type": "stream",
     "text": [
      "\n"
     ]
    }
   ],
   "source": [
    "\n",
    "inst.timeout=30000\n",
    "pbar = tqdm_notebook(total=trace_count*len(athenuator_value)*len(if_filter_value))\n",
    "table=[]\n",
    "result= go_msd(table)\n"
   ]
  },
  {
   "cell_type": "code",
   "execution_count": null,
   "metadata": {},
   "outputs": [],
   "source": []
  },
  {
   "cell_type": "code",
   "execution_count": 31,
   "metadata": {},
   "outputs": [],
   "source": [
    "def table_generator(table):\n",
    "    columns=[\"Канал\",\"ПЧ, Гц\",\"Аттенюатор, дБ\",\"Измерение, дБ\",\"Максимум, дБ\",\"Допуск, дБ\"]\n",
    "    html_table='<table border=\"1\" ><tr>'\n",
    "    for i in columns:        \n",
    "        html_table+=f\"<td>{i}</td>\"\n",
    "    html_table+=\"</tr>\"\n",
    "    counter=0\n",
    "    for i in table:        \n",
    "        html_table+=f\"<tr><td>{i[1]}</td>\"\n",
    "        #print(\"i=\",i[0], 'counter=', counter)\n",
    "        if (i[0] == \"TR\" and counter == 0):\n",
    "            #print(\"Зашли в tr\")\n",
    "            index=table.index(i)\n",
    "            msd=max_msd(table,index,index+(portCount*2))\n",
    "            td_background=\"\"\n",
    "            if(msd>addict):\n",
    "                 td_background=\"bgcolor=\\\"#ffdd00\\\"\"\n",
    "            html_table += f\"<td rowspan={portCount*2}>{i[2]}</td> \\\n",
    "                          <td rowspan={portCount*2}>{i[3]}</td> \\\n",
    "                          <td>{i[4]}</td> \\\n",
    "                          <td rowspan={portCount*2} {td_background}>{msd}</td> \\\n",
    "                          <td rowspan={portCount*2} contenteditable='true' {td_background}>{addict}</td>\"\n",
    "            counter += 1\n",
    "            continue\n",
    "        if (i[0] == \"S\" and counter == portCount*2):\n",
    "            #print(\"Зашли в s\")\n",
    "            index=table.index(i)\n",
    "            msd=max_msd(table,index,index+(portCount))\n",
    "            if(msd>addict):\n",
    "                 td_background=\"bgcolor=\\\"#ffdd00\\\"\"\n",
    "            html_table += f\"<td rowspan={portCount}>{i[2]}</td> \\\n",
    "                          <td rowspan={portCount}>{i[3]}</td> \\\n",
    "                          <td >{i[4]}</td> \\\n",
    "                          <td rowspan={portCount} {td_background}>{msd}</td> \\\n",
    "                          <td rowspan={portCount} contenteditable='true' {td_background}>{addict}</td>\"\n",
    "            counter +=1\n",
    "            \n",
    "            continue\n",
    "        else:\n",
    "            #print(\" Зашли в qwe\")\n",
    "            html_table += f\"<td >{i[4]}</td>\"                          \n",
    "            counter+=1\n",
    "            if(i[0]==\"S\" and counter == portCount*len(traces)): counter=0\n",
    "            continue\n",
    "        html_table += \"</tr>\"       \n",
    "\n",
    "    \n",
    "    html_table += \"</table>\"\n",
    "    \n",
    "    return(html_table)"
   ]
  },
  {
   "cell_type": "code",
   "execution_count": 32,
   "metadata": {},
   "outputs": [],
   "source": [
    "def max_msd(table,index_start,index_stop):\n",
    "    arr=[]\n",
    "    for i in table[index_start:index_stop]:\n",
    "        arr.append(i[4])\n",
    "    return(max(arr))"
   ]
  },
  {
   "cell_type": "code",
   "execution_count": null,
   "metadata": {},
   "outputs": [],
   "source": [
    "mark=Markdown('### 💠 Укажите допуск Дб')\n",
    "text=widgets.Text(\n",
    "        value='',\n",
    "        placeholder='Допуск',\n",
    "        description='Допуск',\n",
    "        disabled=False)\n",
    "button = widgets.Button(\n",
    "    description='Continue',\n",
    "    disabled=False,\n",
    "    button_style='success',  # 'success', 'info', 'warning', 'danger' or ''\n",
    "    tooltip='Click me',\n",
    "    icon='play'        \n",
    "    )\n",
    "display(mark,text,button)"
   ]
  },
  {
   "cell_type": "code",
   "execution_count": null,
   "metadata": {},
   "outputs": [],
   "source": [
    "%blockrun button"
   ]
  },
  {
   "cell_type": "code",
   "execution_count": null,
   "metadata": {},
   "outputs": [],
   "source": [
    "from IPython.core.display import display, HTML\n",
    "addict=float(text.value.replace(',','.'))\n",
    "html_data = table_generator((sorted(result, key=lambda point: (point[2], point[3]))))\n",
    "display(HTML(html_data))"
   ]
  },
  {
   "cell_type": "code",
   "execution_count": null,
   "metadata": {},
   "outputs": [],
   "source": [
    "file_data = html_data\n",
    "my_button = SaveFilesButton(file_data)\n",
    "my_button # This will display the button in the context of Jupyter Notebook"
   ]
  },
  {
   "cell_type": "code",
   "execution_count": null,
   "metadata": {},
   "outputs": [],
   "source": []
  },
  {
   "cell_type": "code",
   "execution_count": null,
   "metadata": {},
   "outputs": [],
   "source": []
  },
  {
   "cell_type": "code",
   "execution_count": null,
   "metadata": {},
   "outputs": [],
   "source": []
  },
  {
   "cell_type": "code",
   "execution_count": null,
   "metadata": {},
   "outputs": [],
   "source": []
  },
  {
   "cell_type": "code",
   "execution_count": null,
   "metadata": {},
   "outputs": [],
   "source": []
  },
  {
   "cell_type": "code",
   "execution_count": null,
   "metadata": {},
   "outputs": [],
   "source": []
  },
  {
   "cell_type": "code",
   "execution_count": null,
   "metadata": {},
   "outputs": [],
   "source": []
  },
  {
   "cell_type": "code",
   "execution_count": null,
   "metadata": {},
   "outputs": [],
   "source": []
  },
  {
   "cell_type": "code",
   "execution_count": null,
   "metadata": {},
   "outputs": [],
   "source": []
  },
  {
   "cell_type": "code",
   "execution_count": null,
   "metadata": {},
   "outputs": [],
   "source": []
  },
  {
   "cell_type": "code",
   "execution_count": null,
   "metadata": {},
   "outputs": [],
   "source": []
  }
 ],
 "metadata": {
  "hide_input": false,
  "kernelspec": {
   "display_name": "Python 3",
   "language": "python",
   "name": "python3"
  },
  "language_info": {
   "codemirror_mode": {
    "name": "ipython",
    "version": 3
   },
   "file_extension": ".py",
   "mimetype": "text/x-python",
   "name": "python",
   "nbconvert_exporter": "python",
   "pygments_lexer": "ipython3",
   "version": "3.7.3"
  },
  "toc": {
   "base_numbering": 1,
   "nav_menu": {
    "height": "129px",
    "width": "225px"
   },
   "number_sections": true,
   "sideBar": true,
   "skip_h1_title": false,
   "title_cell": "Table of Contents",
   "title_sidebar": "Содержимое",
   "toc_cell": false,
   "toc_position": {},
   "toc_section_display": true,
   "toc_window_display": true
  },
  "varInspector": {
   "cols": {
    "lenName": 16,
    "lenType": 16,
    "lenVar": 40
   },
   "kernels_config": {
    "python": {
     "delete_cmd_postfix": "",
     "delete_cmd_prefix": "del ",
     "library": "var_list.py",
     "varRefreshCmd": "print(var_dic_list())"
    },
    "r": {
     "delete_cmd_postfix": ") ",
     "delete_cmd_prefix": "rm(",
     "library": "var_list.r",
     "varRefreshCmd": "cat(var_dic_list()) "
    }
   },
   "position": {
    "height": "577.2px",
    "left": "1678px",
    "right": "20px",
    "top": "120px",
    "width": "350px"
   },
   "types_to_exclude": [
    "module",
    "function",
    "builtin_function_or_method",
    "instance",
    "_Feature"
   ],
   "window_display": false
  }
 },
 "nbformat": 4,
 "nbformat_minor": 2
}
