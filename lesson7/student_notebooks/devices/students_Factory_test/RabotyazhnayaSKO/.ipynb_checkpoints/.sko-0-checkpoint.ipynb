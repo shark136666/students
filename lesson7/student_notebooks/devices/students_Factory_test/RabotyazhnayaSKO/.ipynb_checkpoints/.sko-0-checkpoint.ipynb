{
 "cells": [
  {
   "cell_type": "code",
   "execution_count": 6,
   "metadata": {},
   "outputs": [
    {
     "data": {
      "text/markdown": [
       "### ░░░▄▀▀▀▄░ГУСЬ░\n",
       "\n",
       "▄███▀░◐░░░▌░░░░░░░\n",
       "\n",
       "░░░░▌░░░░░▐░░░░░░░\n",
       "\n",
       "░░░░▐░░░░░▐░░░░░░░\n",
       "\n",
       "░░░░▌░░░░░▐▄▄░░░░░\n",
       "\n",
       "░░░░▌░░░░▄▀▒▒▀▀▀▀▄\n",
       "\n",
       "░░░▐░░░░▐▒▒▒▒▒▒▒▒▀▀▄\n",
       "\n",
       "░░░▐░░░░▐▄▒▒▒▒▒▒▒▒▒▒▀▄\n",
       "\n",
       "░░░░▀▄░░░░▀▄▒▒▒▒▒▒▒▒▒▒▀▄\n",
       "\n",
       "░░░░░░▀▄▄▄▄▄█▄▄▄▄▄▄▄▄▄▄▄▀▄\n",
       "\n",
       "░░░░░░░░░░░▌▌░▌▌░░░░░\n",
       "\n",
       "░░░░░░░░░░░▌▌░▌▌░░░░░\n",
       "\n",
       "░░░░░░░░░▄▄▌▌▄▌▌░░░░░ "
      ],
      "text/plain": [
       "<IPython.core.display.Markdown object>"
      ]
     },
     "metadata": {},
     "output_type": "display_data"
    },
    {
     "data": {
      "text/plain": [
       "'Тест неравномерности АЧХ'"
      ]
     },
     "metadata": {},
     "output_type": "display_data"
    }
   ],
   "source": [
    "import os,sys,inspect\n",
    "from IPython.display import display, Markdown, Latex, Javascript, clear_output\n",
    "import emoji\n",
    "import time\n",
    "import ipywidgets as widgets\n",
    "import ipython_blocking\n",
    "import numpy as np\n",
    "import time\n",
    "from tqdm import tqdm_notebook\n",
    "import functools\n",
    "import configparser\n",
    "import webbrowser\n",
    "import shutil\n",
    "\n",
    "parentdir = os.path.abspath('../../../pymodules')\n",
    "\n",
    "sys.path.insert(0,parentdir)\n",
    "#from connect_device import connect\n",
    "from connect_device_v2.vizualizate import vizulizated_finds_devices, advanced_search_device,DeviceBundle\n",
    "from connect_device_v2.save_file import SaveFilesButton\n",
    "from connect_device_v2.connect import connect_to_device\n",
    "from connect_device_v2.find_device import FindDevice\n",
    "from connect_device_v2.auxiliary_commands import check_error,disable_all_correctors,enable_ifbf_for_all_segment\n",
    "import pandas as pd\n",
    "from datetime import datetime\n",
    "button = widgets.Button(\n",
    "                description='Continue',\n",
    "                disabled=False,\n",
    "                button_style='success',  # 'success', 'info', 'warning', 'danger' or ''\n",
    "                tooltip='Click me',\n",
    "                icon='play'        \n",
    "                )\n",
    "testname=\"Тест СКО\"\n",
    "display(Markdown('''### ░░░▄▀▀▀▄░ГУСЬ░\n",
    "\n",
    "▄███▀░◐░░░▌░░░░░░░\n",
    "\n",
    "░░░░▌░░░░░▐░░░░░░░\n",
    "\n",
    "░░░░▐░░░░░▐░░░░░░░\n",
    "\n",
    "░░░░▌░░░░░▐▄▄░░░░░\n",
    "\n",
    "░░░░▌░░░░▄▀▒▒▀▀▀▀▄\n",
    "\n",
    "░░░▐░░░░▐▒▒▒▒▒▒▒▒▀▀▄\n",
    "\n",
    "░░░▐░░░░▐▄▒▒▒▒▒▒▒▒▒▒▀▄\n",
    "\n",
    "░░░░▀▄░░░░▀▄▒▒▒▒▒▒▒▒▒▒▀▄\n",
    "\n",
    "░░░░░░▀▄▄▄▄▄█▄▄▄▄▄▄▄▄▄▄▄▀▄\n",
    "\n",
    "░░░░░░░░░░░▌▌░▌▌░░░░░\n",
    "\n",
    "░░░░░░░░░░░▌▌░▌▌░░░░░\n",
    "\n",
    "░░░░░░░░░▄▄▌▌▄▌▌░░░░░ '''))\n",
    "display(f'{testname}')"
   ]
  },
  {
   "cell_type": "code",
   "execution_count": null,
   "metadata": {
    "scrolled": true
   },
   "outputs": [],
   "source": [
    "from connect_device_v2.find_device import FindDevice\n",
    "box = FindDevice()\n",
    "display(box)\n"
   ]
  },
  {
   "cell_type": "code",
   "execution_count": 10,
   "metadata": {},
   "outputs": [],
   "source": [
    "button = box.select_device_continue_button"
   ]
  },
  {
   "cell_type": "code",
   "execution_count": null,
   "metadata": {},
   "outputs": [],
   "source": [
    "get_ipython().run_line_magic('blockrun', 'button')"
   ]
  },
  {
   "cell_type": "code",
   "execution_count": null,
   "metadata": {},
   "outputs": [],
   "source": [
    "button1 = box.select_config_continue_button"
   ]
  },
  {
   "cell_type": "code",
   "execution_count": null,
   "metadata": {},
   "outputs": [],
   "source": [
    "get_ipython().run_line_magic('blockrun', 'button1')"
   ]
  },
  {
   "cell_type": "code",
   "execution_count": null,
   "metadata": {},
   "outputs": [],
   "source": [
    "inst = box.selected_device"
   ]
  },
  {
   "cell_type": "code",
   "execution_count": null,
   "metadata": {},
   "outputs": [],
   "source": [
    "inst.write(\"SYST:PRES\")"
   ]
  },
  {
   "cell_type": "code",
   "execution_count": null,
   "metadata": {},
   "outputs": [],
   "source": [
    "# date=datetime.now()\n",
    "# date=date.strftime('%Y-%m-%d %H:%M:%S')\n",
    "# device = inst.query(\"*IDN?\")\n",
    "# device = device.replace(' ','')\n",
    "# device = device.split(',')\n",
    "# device_info = {'Время запуска':date,\n",
    "#               'device':device[0],\n",
    "#               'model':device[1],\n",
    "#               'serial':device[2],\n",
    "#               'version':device[3]}\n",
    "# #inst2 = ng.instance()\n",
    "# #путь к файлу с сегментами\n",
    "# currentDir = get_ipython().run_line_magic('pwd', '')\n",
    "# #resultPath= currentDir +'\\\\frequency_plan.seg'\n",
    "# portCount=int(inst.query(\"SERV:PORT:COUN?\"))\n",
    "# traces=[\"S\",\"R\",\"T\"]\n",
    "# traces_count = portCount* len(traces)"
   ]
  },
  {
   "cell_type": "code",
   "execution_count": null,
   "metadata": {},
   "outputs": [],
   "source": [
    "result_config =  box.config"
   ]
  },
  {
   "cell_type": "code",
   "execution_count": null,
   "metadata": {},
   "outputs": [],
   "source": [
    "def command_wrapper(f):\n",
    "    def wrapped(inst, command):\n",
    "        # print('До функции')\n",
    "        # try:\n",
    "        #     if key == \"debug\":\n",
    "        #         print(command)\n",
    "        # except:\n",
    "        #     pass\n",
    "        response = f(inst, command)\n",
    "        # print('После функции')\n",
    "        error = inst.query('SYST:ERR?')\n",
    "        # if error != '0, No error':\n",
    "        #     print(error)\n",
    "        #     print(command)\n",
    "        return response\n",
    "\n",
    "    # print('декорируем', f)\n",
    "    return wrapped\n",
    "\n",
    "\n",
    "@command_wrapper\n",
    "def query(inst, command):\n",
    "    result = inst.query(command)\n",
    "    return result\n",
    "\n",
    "\n",
    "@command_wrapper\n",
    "def write(inst, command):\n",
    "    inst.write(command)"
   ]
  },
  {
   "cell_type": "code",
   "execution_count": null,
   "metadata": {},
   "outputs": [],
   "source": [
    "def HZ_convert(pref, hertz):\n",
    "    try:\n",
    "        hertz = int(hertz)\n",
    "    except ValueError:\n",
    "        return -1\n",
    "    if pref == \"k\":\n",
    "        return hertz * 1000\n",
    "    if pref == \"M\":\n",
    "        return hertz * 1000000\n",
    "    if pref == \"G\":\n",
    "        return hertz * 1000000000\n",
    "    return -1\n",
    "\n",
    "\n",
    "# функция однократного россчерка\n",
    "def one_scan(ch_num):\n",
    "    CMT.write('TRIG:SOUR BUS')  # устанавливаем источник триггера на шину\n",
    "    CMT.write(f\"INIT{ch_num}:CONT OFF\")  # включаем повторный режим запуска триггера\n",
    "    # переходим в состояние ожидания триггера\n",
    "    CMT.write('INIT')\n",
    "    CMT.write('TRIG:SING')  # выполняем россчерк\n",
    "    CMT.query('*OPC?')"
   ]
  },
  {
   "cell_type": "code",
   "execution_count": null,
   "metadata": {},
   "outputs": [],
   "source": [
    "def sko_algorithm(trace_count, bwid, att):\n",
    "    math_stat = []\n",
    "\n",
    "    # Устанавливаем фильтр ПЧ 300 или 3 кГц\n",
    "    write(CMT, f'SENS1:BWID {HZ_convert(\"k\", f\"{bwid}\")}')\n",
    "\n",
    "    # вкл. Аттенюатор 10, 30 или 50 дБ\n",
    "    write(CMT, 'SERVice:RFCTL:POWer:STATe 1')\n",
    "    write(CMT, f'SERVice:RFCTL:POWer:ATT {att}')\n",
    "\n",
    "    # Частотный план\n",
    "    write(CMT, 'SERVice:SWEep:FREQuency:FACTory')\n",
    "\n",
    "    # Код ЦАП.  АЧХ\n",
    "    write(CMT, 'SERV:RFCTL:POW:DAC 6554')\n",
    "\n",
    "    # Создание трасс и росчерк\n",
    "    write(CMT, f'CALC1:PAR:COUN 1')\n",
    "    for i in range(trace_count*3):\n",
    "        params = ['S', 'T', 'R']\n",
    "        # T, R\n",
    "        if i%3 != 0:\n",
    "            write(CMT, f'CALC1:PAR1:DEF {params[i % 3]}{(i // 3) + 1}')\n",
    "            # установка порта-источника\n",
    "            write(CMT, f'CALC1:PAR1:SPOR {(i//3) + 1}')\n",
    "        # S\n",
    "        else:\n",
    "            write(CMT, f'CALC1:PAR1:DEF {params[i%3]}{(i // 3) + 1}{(i // 3) + 1}')\n",
    "        one_scan(1)\n",
    "\n",
    "        # Сохранение текущего измерения в памяти и Data/mem\n",
    "        write(CMT, f'CALC1:PAR1:SEL')\n",
    "        write(CMT, f'CALC1:MATH:MEM')\n",
    "        write(CMT, f'CALC1:MATH:FUNC DIV')\n",
    "        one_scan(1)\n",
    "\n",
    "        # запись СКО\n",
    "        write(CMT, f'CALC1:MST ON')\n",
    "        math_stat.append(query(CMT, f'CALC1:MST:DATA?').split(','))\n",
    "    return math_stat"
   ]
  },
  {
   "cell_type": "code",
   "execution_count": null,
   "metadata": {},
   "outputs": [],
   "source": [
    "def math_stat_foo(mass, iff):\n",
    "    trace_num = query(CMT, \"SERV:PORT:COUN?\")\n",
    "    math_stats = []\n",
    "    # mass = [10,30,50, 100]\n",
    "    # iff = [300,3, 2]\n",
    "    for i in mass:      # Алгоритм для ПЧ 300 и 3 кГц, аттенюатора 10, 30, 50 дБ\n",
    "        for j in iff:\n",
    "            math_stat = sko_algorithm(trace_num, j, i)\n",
    "            math_stats.append(math_stat)\n",
    "\n",
    "\n",
    "    math_result = []    # Для совмещения массивов S11 + S22 + S33, T11 + T22.....\n",
    "    if trace_num != 1:\n",
    "        for j in range(len(mass)*len(iff)):\n",
    "            math1 = [] # S\n",
    "            math2 = [] # T\n",
    "            math3 = [] # R\n",
    "            for i in range(trace_num):\n",
    "                math1 += math_stats[j][i*3]\n",
    "                math2 += math_stats[j][(i*3) + 1]\n",
    "                math3 += math_stats[j][(i*3) + 2]\n",
    "            arr = [math1, math2, math3]\n",
    "            math_result.append(arr)\n",
    "    else:\n",
    "        math_result = math_stats\n",
    "    return math_result"
   ]
  },
  {
   "cell_type": "code",
   "execution_count": null,
   "metadata": {},
   "outputs": [],
   "source": [
    "def list_to_dict(arr, ports, param):    # Перевод arr в dict\n",
    "    dict = {'max_value':0}\n",
    "    params = []\n",
    "    for i in range(ports):\n",
    "        params.append(arr[1+(i*3)])\n",
    "        dict.update({f'{param}{i+1}{i+1}': params[i]})\n",
    "    dict['max_value'] = max(params)\n",
    "    return dict"
   ]
  },
  {
   "cell_type": "code",
   "execution_count": null,
   "metadata": {},
   "outputs": [],
   "source": [
    "def masth2json(mass, iff, trace_num, math_result, json=json):\n",
    "    result = {\"atthenuator\":{}}\n",
    "    count = 0 # от 0 до 5\n",
    "    for i in mass:\n",
    "        result[\"atthenuator\"][f'{i}'] = {'IF':{}}\n",
    "        for j in iff:\n",
    "            value_otn = list_to_dict(math_result[count][0], trace_num, 'S')\n",
    "            value_t = list_to_dict(math_result[count][1], trace_num, 'T')\n",
    "            value_r = list_to_dict(math_result[count][2], trace_num, 'R')\n",
    "            count += 1\n",
    "            value_abs = value_r | value_t\n",
    "            result[\"atthenuator\"][f'{i}']['IF'][f'{j}']={'trace':{\"absolute\":{},\"otnosit\":{}}}\n",
    "            result[\"atthenuator\"][f'{i}'][\"IF\"][f'{j}'][\"trace\"][\"absolute\"].update(value_abs)\n",
    "            result[\"atthenuator\"][f'{i}'][\"IF\"][f'{j}'][\"trace\"][\"otnosit\"].update(value_otn)\n",
    "\n",
    "    json_data=json.dumps(result, indent=4)\n",
    "    print(json_data)\n",
    "    json = open('sko_result.json', 'w')\n",
    "    json.write(json_data)\n",
    "    json.close()"
   ]
  },
  {
   "cell_type": "code",
   "execution_count": null,
   "metadata": {},
   "outputs": [],
   "source": [
    "def get_iff(iff_list):\n",
    "    iff = []\n",
    "    arr = iff_list.split(',')\n",
    "    for i in range(len(arr)):\n",
    "        arr1 = arr[i].split(' ')\n",
    "        num = arr1[0]\n",
    "        pref = arr1[1]\n",
    "        iff.append(HZ_convert(pref, num))"
   ]
  },
  {
   "cell_type": "code",
   "execution_count": null,
   "metadata": {},
   "outputs": [],
   "source": [
    "config = box.config\n",
    "iff = get_iff(config['DEVICE']['filter_IF'])\n",
    "mass = (config['DEVICE']['athenuator']).split(',')\n",
    "trace_num = query(inst, 'SERV:PORT:COUN?')\n",
    "math_result = math_stat_foo(mass, iff)\n",
    "math2json(mass, iff, trace_num, math_result, json=json)"
   ]
  },
  {
   "cell_type": "code",
   "execution_count": null,
   "metadata": {},
   "outputs": [],
   "source": []
  },
  {
   "cell_type": "code",
   "execution_count": null,
   "metadata": {},
   "outputs": [],
   "source": []
  }
 ],
 "metadata": {
  "kernelspec": {
   "display_name": "Python 3",
   "language": "python",
   "name": "python3"
  },
  "language_info": {
   "codemirror_mode": {
    "name": "ipython",
    "version": 3
   },
   "file_extension": ".py",
   "mimetype": "text/x-python",
   "name": "python",
   "nbconvert_exporter": "python",
   "pygments_lexer": "ipython3",
   "version": "3.7.3"
  }
 },
 "nbformat": 4,
 "nbformat_minor": 5
}
