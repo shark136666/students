{
 "cells": [
  {
   "cell_type": "code",
   "execution_count": 1,
   "metadata": {},
   "outputs": [
    {
     "data": {
      "text/markdown": [
       "### ░░░▄▀▀▀▄░ГУСЬ░\n",
       "\n",
       "▄███▀░◐░░░▌░░░░░░░\n",
       "\n",
       "░░░░▌░░░░░▐░░░░░░░\n",
       "\n",
       "░░░░▐░░░░░▐░░░░░░░\n",
       "\n",
       "░░░░▌░░░░░▐▄▄░░░░░\n",
       "\n",
       "░░░░▌░░░░▄▀▒▒▀▀▀▀▄\n",
       "\n",
       "░░░▐░░░░▐▒▒▒▒▒▒▒▒▀▀▄\n",
       "\n",
       "░░░▐░░░░▐▄▒▒▒▒▒▒▒▒▒▒▀▄\n",
       "\n",
       "░░░░▀▄░░░░▀▄▒▒▒▒▒▒▒▒▒▒▀▄\n",
       "\n",
       "░░░░░░▀▄▄▄▄▄█▄▄▄▄▄▄▄▄▄▄▄▀▄\n",
       "\n",
       "░░░░░░░░░░░▌▌░▌▌░░░░░\n",
       "\n",
       "░░░░░░░░░░░▌▌░▌▌░░░░░\n",
       "\n",
       "░░░░░░░░░▄▄▌▌▄▌▌░░░░░ "
      ],
      "text/plain": [
       "<IPython.core.display.Markdown object>"
      ]
     },
     "metadata": {},
     "output_type": "display_data"
    },
    {
     "data": {
      "text/plain": [
       "'Тест СКО'"
      ]
     },
     "metadata": {},
     "output_type": "display_data"
    }
   ],
   "source": [
    "import os,sys,inspect\n",
    "from IPython.display import display, Markdown, Latex, Javascript, clear_output\n",
    "import emoji\n",
    "import time\n",
    "import ipywidgets as widgets\n",
    "import ipython_blocking\n",
    "import numpy as np\n",
    "import time\n",
    "from tqdm import tqdm_notebook\n",
    "import functools\n",
    "import configparser\n",
    "import webbrowser\n",
    "import shutil\n",
    "import json\n",
    "\n",
    "parentdir = os.path.abspath('../../../pymodules')\n",
    "\n",
    "sys.path.insert(0,parentdir)\n",
    "#from connect_device import connect\n",
    "from connect_device_v2.vizualizate import vizulizated_finds_devices, advanced_search_device,DeviceBundle\n",
    "from connect_device_v2.save_file import SaveFilesButton\n",
    "from connect_device_v2.connect import connect_to_device\n",
    "from connect_device_v2.find_device import FindDevice\n",
    "from connect_device_v2.auxiliary_commands import check_error,disable_all_correctors,enable_ifbf_for_all_segment\n",
    "import pandas as pd\n",
    "from datetime import datetime\n",
    "button = widgets.Button(\n",
    "                description='Continue',\n",
    "                disabled=False,\n",
    "                button_style='success',  # 'success', 'info', 'warning', 'danger' or ''\n",
    "                tooltip='Click me',\n",
    "                icon='play'        \n",
    "                )\n",
    "testname=\"Тест СКО\"\n",
    "display(Markdown('''### ░░░▄▀▀▀▄░ГУСЬ░\n",
    "\n",
    "▄███▀░◐░░░▌░░░░░░░\n",
    "\n",
    "░░░░▌░░░░░▐░░░░░░░\n",
    "\n",
    "░░░░▐░░░░░▐░░░░░░░\n",
    "\n",
    "░░░░▌░░░░░▐▄▄░░░░░\n",
    "\n",
    "░░░░▌░░░░▄▀▒▒▀▀▀▀▄\n",
    "\n",
    "░░░▐░░░░▐▒▒▒▒▒▒▒▒▀▀▄\n",
    "\n",
    "░░░▐░░░░▐▄▒▒▒▒▒▒▒▒▒▒▀▄\n",
    "\n",
    "░░░░▀▄░░░░▀▄▒▒▒▒▒▒▒▒▒▒▀▄\n",
    "\n",
    "░░░░░░▀▄▄▄▄▄█▄▄▄▄▄▄▄▄▄▄▄▀▄\n",
    "\n",
    "░░░░░░░░░░░▌▌░▌▌░░░░░\n",
    "\n",
    "░░░░░░░░░░░▌▌░▌▌░░░░░\n",
    "\n",
    "░░░░░░░░░▄▄▌▌▄▌▌░░░░░ '''))\n",
    "display(f'{testname}')"
   ]
  },
  {
   "cell_type": "code",
   "execution_count": 2,
   "metadata": {
    "scrolled": true
   },
   "outputs": [
    {
     "data": {
      "application/vnd.jupyter.widget-view+json": {
       "model_id": "09261d4586024531b4163edea9ffd359",
       "version_major": 2,
       "version_minor": 0
      },
      "text/plain": [
       "FindDevice(children=(Dropdown(description='Выберите гуся:', layout=Layout(width='max-content'), options={' SN5…"
      ]
     },
     "metadata": {},
     "output_type": "display_data"
    }
   ],
   "source": [
    "from connect_device_v2.find_device import FindDevice\n",
    "box = FindDevice()\n",
    "display(box)\n"
   ]
  },
  {
   "cell_type": "code",
   "execution_count": 3,
   "metadata": {},
   "outputs": [],
   "source": [
    "button = box.select_device_continue_button"
   ]
  },
  {
   "cell_type": "code",
   "execution_count": null,
   "metadata": {},
   "outputs": [],
   "source": [
    "get_ipython().run_line_magic('blockrun', 'button')"
   ]
  },
  {
   "cell_type": "code",
   "execution_count": null,
   "metadata": {},
   "outputs": [],
   "source": [
    "button1 = box.select_config_continue_button"
   ]
  },
  {
   "cell_type": "code",
   "execution_count": null,
   "metadata": {},
   "outputs": [],
   "source": [
    "get_ipython().run_line_magic('blockrun', 'button1')"
   ]
  },
  {
   "cell_type": "code",
   "execution_count": null,
   "metadata": {},
   "outputs": [],
   "source": [
    "inst = box.selected_device"
   ]
  },
  {
   "cell_type": "code",
   "execution_count": null,
   "metadata": {},
   "outputs": [],
   "source": [
    "inst.write(\"SYST:PRES\")"
   ]
  },
  {
   "cell_type": "code",
   "execution_count": null,
   "metadata": {},
   "outputs": [],
   "source": [
    "result_config =  box.config"
   ]
  },
  {
   "cell_type": "code",
   "execution_count": null,
   "metadata": {},
   "outputs": [],
   "source": [
    "def HZ_convert(pref, hertz):\n",
    "    try:\n",
    "        hertz = int(hertz)\n",
    "    except ValueError:\n",
    "        return -1\n",
    "    if pref == \"k\":\n",
    "        return hertz * 1000\n",
    "    if pref == \"M\":\n",
    "        return hertz * 1000000\n",
    "    if pref == \"G\":\n",
    "        return hertz * 1000000000\n",
    "    return -1\n",
    "\n",
    "\n",
    "# функция однократного россчерка\n",
    "def one_scan(ch_num):\n",
    "    inst.write('TRIG:SOUR BUS')  # устанавливаем источник триггера на шину\n",
    "    inst.write(f\"INIT{ch_num}:CONT OFF\")  # включаем повторный режим запуска триггера\n",
    "    # переходим в состояние ожидания триггера\n",
    "    inst.write('INIT')\n",
    "    inst.write('TRIG:SING')  # выполняем россчерк\n",
    "    inst.query('*OPC?')"
   ]
  },
  {
   "cell_type": "code",
   "execution_count": null,
   "metadata": {},
   "outputs": [],
   "source": [
    "def sko_algorithm(bwid, att, sko_data): # Прогонка по одному набору IF - ATT\n",
    "    trace_count = int(inst.query(\"SERV:PORT:COUN?\"))\n",
    "    \n",
    "    # Устанавливаем фильтр ПЧ 300 или 3 кГц\n",
    "    inst.write(f'SENS1:BWID {f\"{bwid}\"}')\n",
    "\n",
    "    # вкл. Аттенюатор 10, 30 или 50 дБ\n",
    "    inst.write('SERVice:RFCTL:POWer:STATe 1')\n",
    "    inst.write(f'SERVice:RFCTL:POWer:ATT {att}')\n",
    "\n",
    "    # Частотный план\n",
    "    inst.write('SERVice:SWEep:FREQuency:FACTory')\n",
    "    if (f'{att}' not in sko_data['atthenuator']):\n",
    "        sko_data['atthenuator'].update({f'{att}':{'IF':{}}})\n",
    "    sko_data['atthenuator'][f'{att}']['IF'].update({f'{bwid}' : {'trace':{}}})\n",
    "    \n",
    "\n",
    "    sko_data['atthenuator'][f'{att}']['IF'][f'{bwid}']['trace'].update({'otnosit' : {'max_value':0}})\n",
    "    sko_data['atthenuator'][f'{att}']['IF'][f'{bwid}']['trace'].update({'absolute' : {'max_value':0}})          \n",
    "\n",
    "    for i in range(1, trace_count+1): # Установка трасс\n",
    "        inst.write('CALC1:PAR:COUN 3')\n",
    "        inst.write(f'CALC1:PAR1:DEF S{i}{i}') #S\n",
    "        inst.write(f'CALC1:PAR2:DEF R{i}')\n",
    "        inst.write(f'CALC1:PAR2:SPOR {i}') # R\n",
    "        inst.write(f'CALC1:PAR3:DEF T{i}')\n",
    "        inst.write(f'CALC1:PAR3:SPOR {i}') # T\n",
    "        one_scan(1)\n",
    "        for k in range(1, 4): # нормализация\n",
    "            inst.write(f'CALC:PAR{k}:SEL')\n",
    "            inst.write('CALC:MATH:MEM')\n",
    "            inst.write('CALC:MATH:FUNC DIV')\n",
    "        one_scan(1)\n",
    "\n",
    "        for k in range(1,4): # запись SKO\n",
    "            inst.write(f'CALC:PAR{k}:SEL')\n",
    "            inst.write('CALC1:MST ON')\n",
    "            mst_data = inst.query(f'CALC1:MST:DATA?').split(',')\n",
    "#             print(f'this is data {mst_data}')\n",
    "            # format(float(mst_data[1]), '.8f')\n",
    "            if k == 1:\n",
    "               sko_data['atthenuator'][f'{att}']['IF'][f'{bwid}']['trace']['otnosit'][f'S{i}{i}'] = float(mst_data[1])\n",
    "#                print('S')\n",
    "            elif k == 2:\n",
    "               sko_data['atthenuator'][f'{att}']['IF'][f'{bwid}']['trace']['absolute'][f'R{i}{i}'] = float(mst_data[1])\n",
    "#                print('R')\n",
    "            else:\n",
    "               sko_data['atthenuator'][f'{att}']['IF'][f'{bwid}']['trace']['absolute'][f'T{i}{i}'] = float(mst_data[1])\n",
    "        pbar.update()\n",
    "    sko_data['atthenuator'][f'{att}']['IF'][f'{bwid}']['trace']['otnosit']['max_value'] = max(sko_data['atthenuator'][f'{att}']['IF'][f'{bwid}']['trace']['otnosit'].values())\n",
    "    sko_data['atthenuator'][f'{att}']['IF'][f'{bwid}']['trace']['absolute']['max_value'] = max(sko_data['atthenuator'][f'{att}']['IF'][f'{bwid}']['trace']['absolute'].values())\n",
    "    \n",
    "    return(sko_data)"
   ]
  },
  {
   "cell_type": "code",
   "execution_count": null,
   "metadata": {},
   "outputs": [],
   "source": [
    "def sko_test(bwids, attitudes): # Прогонка по всем параметрам\n",
    "    result = {'atthenuator':{}}\n",
    "    for att in attitudes:\n",
    "        for bwid in bwids:\n",
    "            result = sko_algorithm(int(bwid), int(att), result)\n",
    "    return result\n",
    "    "
   ]
  },
  {
   "cell_type": "code",
   "execution_count": null,
   "metadata": {},
   "outputs": [],
   "source": [
    "def get_iff(iff_list):\n",
    "    iff = []\n",
    "    arr = iff_list.split(',')\n",
    "    for i in range(len(arr)):\n",
    "        arr1 = arr[i].split(' ')\n",
    "        num = arr1[0]\n",
    "        pref = arr1[1]\n",
    "        iff.append(HZ_convert(pref, num))\n",
    "    return iff"
   ]
  },
  {
   "cell_type": "code",
   "execution_count": null,
   "metadata": {},
   "outputs": [],
   "source": [
    "config = box.config\n",
    "iff = get_iff(config['DEVICE']['filter_IF'])\n",
    "mass = (config['DEVICE']['athenuator']).split(',')\n",
    "trace_count = int(inst.query('SERV:PORT:COUN?'))\n",
    "pbar = tqdm_notebook(total=trace_count*len(mass)*len(iff))\n",
    "result = sko_test(iff, mass)"
   ]
  },
  {
   "cell_type": "code",
   "execution_count": null,
   "metadata": {},
   "outputs": [],
   "source": [
    "def html_table(data, acces):\n",
    "    htmlstr = '''<html>\n",
    "        <style>\n",
    "        table, th, td {\n",
    "          border:1px solid black;\n",
    "        }\n",
    "        </style>\n",
    "        <body>\n",
    "            <table style=\"width:100%; margin-left:auto;margin-right:auto;\">\n",
    "                <tr>\n",
    "                    <th>\n",
    "                        Канал\n",
    "                    </th>\n",
    "                    <th>\n",
    "                        ПЧ, Гц\n",
    "                    </th>\n",
    "                    <th>\n",
    "                        Аттюнеатор, дБ\n",
    "                    </th>\n",
    "                    <th>\n",
    "                        Измерение, дБ\n",
    "                    </th>\n",
    "                    <th>\n",
    "                        Максимум, дБ\n",
    "                    </th>\n",
    "                    <th>\n",
    "                        Допуск, дБ\n",
    "                    </th>\n",
    "                </tr>\n",
    "            '''\n",
    "    for i in data[\"atthenuator\"]:\n",
    "        for j in data[\"atthenuator\"][i][\"IF\"]:   # 300/3\n",
    "            for k in data[\"atthenuator\"][i][\"IF\"][j][\"trace\"]:  # abs/otn\n",
    "                count = 0\n",
    "                channel_arr = []\n",
    "                channel_arr_sko = []\n",
    "                for g in data[\"atthenuator\"][i][\"IF\"][j][\"trace\"][k]:   # T, R, S, max_value\n",
    "                    max_value = format(float(data[\"atthenuator\"][i][\"IF\"][j][\"trace\"][k][\"max_value\"]), '.8f')\n",
    "                    if count != 0:  # т.к. 0 индекс max value\n",
    "                        channel_arr_sko.append(format(float(data[\"atthenuator\"][i][\"IF\"][j][\"trace\"][k][g]), '.8f'))  # запись СКО\n",
    "                        channel_arr.append(g)\n",
    "                    count += 1\n",
    "                    if count == (len(data[\"atthenuator\"][i][\"IF\"][j][\"trace\"][k])):     # если достали все данные одного прохода\n",
    "                        # print(data[\"atthenuator\"][i][\"IF\"][j][\"trace\"][k])\n",
    "                        # print(len(data[\"atthenuator\"][i][\"IF\"][j][\"trace\"][k]))\n",
    "#                         acces = 0\n",
    "#                         if k == \"otnosit\":\n",
    "#                             acces = access_otn\n",
    "#                         else:\n",
    "#                             acces = access_abs\n",
    "                        trace_num = len(channel_arr)\n",
    "\n",
    "                        if float(channel_arr_sko[0]) > float(acces):    # запись строчек\n",
    "                            htmlstr += f'''<tr><td>{channel_arr[0]}</td><td rowspan = {trace_num}>{j} </td><td rowspan = {trace_num}>{i}</td><td style=\"background-color:#FFFF00\">{channel_arr_sko[0]}</td><td rowspan = {trace_num}>{max_value}</td><td rowspan = {trace_num}>{acces}</td></tr>'''\n",
    "                        else:\n",
    "                            htmlstr += f'''<tr><td >{channel_arr[0]}</td><td rowspan = {trace_num}>{j}</td><td rowspan = {trace_num}>{i}</td><td>{channel_arr_sko[0]}</td><td rowspan = {trace_num}>{max_value}</td><td rowspan = {trace_num}>{acces}</td></tr>'''\n",
    "                        for traces in range(1, trace_num):\n",
    "                            if float(channel_arr_sko[traces]) > float(acces):  # запись строчечк\n",
    "                                htmlstr += f'''<tr><td>{channel_arr[traces]}</td><td style=\"background-color:#FFFF00\">{channel_arr_sko[traces]}</td></tr>'''\n",
    "                            else:\n",
    "                                htmlstr += f'''<tr><td>{channel_arr[traces]}</td><td>{channel_arr_sko[traces]}</td></tr>'''\n",
    "\n",
    "                        # if float(max_value) > float(acces):    # запись строчечк\n",
    "                        #     htmlstr += f'''<tr><td>{channel_arr}</td><td>{j}</td><td>{i}</td><td style=\"background-color:#FFFF00\">{channel_arr_sko}</td><td>{max_value}</td><td>{acces}</td></tr>'''\n",
    "                        # else:\n",
    "                        #     htmlstr += f'''<tr><td>{channel_arr}</td><td>{j}</td><td>{i}</td><td>{channel_arr_sko}</td><td>{max_value}</td><td>{acces}</td></tr>'''\n",
    "\n",
    "    htmlstr += '''</table>\n",
    "        </body>\n",
    "    </html>'''\n",
    "    return htmlstr"
   ]
  },
  {
   "cell_type": "code",
   "execution_count": null,
   "metadata": {},
   "outputs": [],
   "source": [
    "mark=Markdown('### 🦢Укажите допуск Дб')\n",
    "text=widgets.Text(\n",
    "        value='',\n",
    "        placeholder='Допуск',\n",
    "        description='Допуск',\n",
    "        disabled=False)\n",
    "button = widgets.Button(\n",
    "    description='Continue',\n",
    "    disabled=False,\n",
    "    button_style='success',  # 'success', 'info', 'warning', 'danger' or ''\n",
    "    tooltip='Click me',\n",
    "    icon='play'        \n",
    "    )\n",
    "display(mark,text,button)\n"
   ]
  },
  {
   "cell_type": "code",
   "execution_count": null,
   "metadata": {},
   "outputs": [],
   "source": [
    "%blockrun button"
   ]
  },
  {
   "cell_type": "code",
   "execution_count": null,
   "metadata": {},
   "outputs": [],
   "source": [
    "\n",
    "from IPython.core.display import display, HTML\n",
    "file_data = html_table(result, float(text.value))\n",
    "html_table=file_data\n",
    "\n",
    "\n",
    "display(HTML(html_table))\n",
    "my_button = SaveFilesButton(file_data)\n",
    "my_button # This will display the button in the context of Jupyter Notebook"
   ]
  },
  {
   "cell_type": "code",
   "execution_count": null,
   "metadata": {},
   "outputs": [],
   "source": []
  },
  {
   "cell_type": "code",
   "execution_count": null,
   "metadata": {},
   "outputs": [],
   "source": []
  },
  {
   "cell_type": "code",
   "execution_count": null,
   "metadata": {},
   "outputs": [],
   "source": []
  },
  {
   "cell_type": "code",
   "execution_count": null,
   "metadata": {},
   "outputs": [],
   "source": []
  }
 ],
 "metadata": {
  "kernelspec": {
   "display_name": "Python 3",
   "language": "python",
   "name": "python3"
  },
  "language_info": {
   "codemirror_mode": {
    "name": "ipython",
    "version": 3
   },
   "file_extension": ".py",
   "mimetype": "text/x-python",
   "name": "python",
   "nbconvert_exporter": "python",
   "pygments_lexer": "ipython3",
   "version": "3.7.3"
  }
 },
 "nbformat": 4,
 "nbformat_minor": 5
}
