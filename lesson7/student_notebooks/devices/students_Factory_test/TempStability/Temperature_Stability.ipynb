{
 "cells": [
  {
   "cell_type": "code",
   "execution_count": null,
   "metadata": {
    "code_folding": [
     14
    ]
   },
   "outputs": [],
   "source": [
    "import os,sys,inspect\n",
    "from IPython.display import display, Markdown, Latex, Javascript, clear_output\n",
    "import emoji\n",
    "import time\n",
    "import ipywidgets as widgets\n",
    "import ipython_blocking\n",
    "import numpy as np\n",
    "import time\n",
    "from tqdm import tqdm_notebook\n",
    "import functools\n",
    "import configparser\n",
    "import webbrowser\n",
    "import shutil\n",
    "import time\n",
    "\n",
    "\n",
    "parentdir = os.path.abspath('../../../pymodules')\n",
    "\n",
    "sys.path.insert(0,parentdir)\n",
    "#from connect_device import connect\n",
    "from connect_device_v2.vizualizate import vizulizated_finds_devices, advanced_search_device,DeviceBundle\n",
    "from connect_device_v2.save_file import SaveFilesButton\n",
    "from connect_device_v2.connect import connect_to_device\n",
    "from connect_device_v2.find_device import FindDevice\n",
    "from connect_device_v2.auxiliary_commands import check_error,disable_all_correctors,enable_ifbf_for_all_segment\n",
    "\n",
    "import pandas as pd\n",
    "from datetime import datetime\n",
    "button = widgets.Button(\n",
    "                description='Continue',\n",
    "                disabled=False,\n",
    "                button_style='success',  # 'success', 'info', 'warning', 'danger' or ''\n",
    "                tooltip='Click me',\n",
    "                icon='play'        \n",
    "                )\n",
    "testname=\"Температурная стабильность\"\n",
    "display(Markdown('### 💠 {}'.format(testname)))\n",
    "\n"
   ]
  },
  {
   "cell_type": "code",
   "execution_count": null,
   "metadata": {},
   "outputs": [],
   "source": [
    "from connect_device_v2.find_device import FindDevice,parse_config\n",
    "box = FindDevice()\n",
    "display(box)"
   ]
  },
  {
   "cell_type": "code",
   "execution_count": null,
   "metadata": {
    "code_folding": [
     8
    ]
   },
   "outputs": [],
   "source": [
    "button = box.select_device_continue_button"
   ]
  },
  {
   "cell_type": "code",
   "execution_count": null,
   "metadata": {},
   "outputs": [],
   "source": [
    "%blockrun button"
   ]
  },
  {
   "cell_type": "code",
   "execution_count": null,
   "metadata": {},
   "outputs": [],
   "source": [
    "button1 = box.select_config_continue_button"
   ]
  },
  {
   "cell_type": "code",
   "execution_count": null,
   "metadata": {},
   "outputs": [],
   "source": [
    "%blockrun button1"
   ]
  },
  {
   "cell_type": "code",
   "execution_count": null,
   "metadata": {},
   "outputs": [],
   "source": [
    "inst = box.selected_device"
   ]
  },
  {
   "cell_type": "code",
   "execution_count": null,
   "metadata": {},
   "outputs": [],
   "source": [
    "config =  parse_config(dict(box.config))\n",
    "device = config['DEVICE']\n",
    "test_time = float(device['time'])\n",
    "step_time = float(device['step_time'])\n",
    "ambient_temperature = device['ambient_temperature']\n",
    "marker_range = ((config['RANGE']['start_stop'].replace(\" \", \"\")).split(','))\n",
    "start = []\n",
    "stop = []\n",
    "for freq in marker_range:\n",
    "    start.append((freq.split('-'))[0])\n",
    "    stop.append((freq.split('-'))[1])\n",
    "segments = '5,0,0,1,1,0,18,300000,382643,13,0,0,382645,1e+06,19,0,0,1.1e+06,3.2e+06,11,0,0,3.3e+06,1e+07,11,0,0,1e+07,8.46475e+07,26,0,0,8.46475e+07,1.46285e+08,15,0,0,1.46285e+08,3.1567e+08,30,0,0,3.1567e+08,5.16284e+08,25,0,0,5.16284e+08,6.42568e+08,25,0,0,6.42568e+08,1.09653e+09,25,0,0,1.09653e+09,1.18333e+09,21,0,0,1.18333e+09,1.19871e+09,3,0,0,1.19871e+09,1.775e+09,21,0,0,1.775e+09,1.99871e+09,21,0,0,1.99871e+09,3.19871e+09,41,0,0,3.19871e+09,3.55e+09,21,0,0,3.55e+09,5.49871e+09,97,0,0,5.49871e+09,9e+09,175,0,0'\n",
    "port_count = int(inst.query(\"SERV:PORT:COUN?\"))"
   ]
  },
  {
   "cell_type": "code",
   "execution_count": null,
   "metadata": {},
   "outputs": [],
   "source": [
    "date=datetime.now()\n",
    "date=date.strftime('%Y-%m-%d %H:%M:%S')\n",
    "device = inst.query(\"*IDN?\")\n",
    "device = device.replace(' ','')\n",
    "device = device.split(',')\n",
    "device_info = {'Время запуска':date,\n",
    "              'device':device[0],\n",
    "              'model':device[1],\n",
    "              'serial':device[2],\n",
    "              'version':device[3]}"
   ]
  },
  {
   "cell_type": "code",
   "execution_count": null,
   "metadata": {},
   "outputs": [],
   "source": [
    "def trace_setting():\n",
    "    inst.write(f\"CALC:PAR:COUN {port_count}\")\n",
    "    for i in range(1,port_count+1):        \n",
    "        inst.write(f\"CALC:PAR{i}:DEF S{i}{i}\")\n",
    "        inst.write(f\"CALC1:PAR{i}:SEL\")\n",
    "        inst.write(f\"CALC:MARK{len(start)+1} 1\")\n",
    "        for marker in range(len(start)):\n",
    "            inst.write(f\"CALC:MARK{marker+1}:X {float(start[marker])*10**6}\")\n",
    "            check_error(inst)\n",
    "        inst.write(f\"CALC:MARK{len(start)+1}:X {float(stop[-1])*10**6}\")\n",
    "        check_error(inst)\n",
    "        inst.write(\"CALC:MST 1\")\n",
    "        check_error(inst)\n",
    "        inst.write(\"CALC:MST:DOM 1\")\n",
    "        check_error(inst)"
   ]
  },
  {
   "cell_type": "code",
   "execution_count": null,
   "metadata": {},
   "outputs": [],
   "source": [
    "def get_start():\n",
    "    inst.write(\"SYST:PRES\")\n",
    "    inst.write(\"TRIG:SOUR BUS\")\n",
    "    check_error(inst)\n",
    "    inst.write(\"INIT:CONT OFF\")\n",
    "    check_error(inst)\n",
    "    trace_setting()\n",
    "    inst.write(\"SENS:BAND 100\")\n",
    "    check_error(inst)\n",
    "    inst.write(\"SENS:SWE:TYPE SEGM\")\n",
    "    check_error(inst)\n",
    "    inst.write(f\"SENS:SEGM:DATA {segments}\")\n",
    "    check_error(inst)\n",
    "    inst.write(f\"SERVice:RFCTL:POWer:STATe 1\")\n",
    "    inst.write(f\"SERVice:RFCTL:POWer:ATT 10\")\n",
    "    inst.write(f\"SERV:RFCTL:POW:DAC 6554\")\n",
    "    disable_all_correctors(inst)\n",
    "    check_error(inst)\n",
    "    inst.timeout=150000\n"
   ]
  },
  {
   "cell_type": "code",
   "execution_count": null,
   "metadata": {},
   "outputs": [],
   "source": [
    "def normalizeited_graf(trace_number):\n",
    "    inst.write(f\"CALC:PAR{trace_number}:SEL\")\n",
    "    check_error(inst)\n",
    "    inst.write(\"CALC:MATH:MEM\")\n",
    "    check_error(inst)\n",
    "    inst.write(\"CALC:MATH:FUNC DIVide\")\n",
    "    #inst.write(\"DISP:WIND:TRAC{}:MEM 0\".format(n_graf))"
   ]
  },
  {
   "cell_type": "code",
   "execution_count": null,
   "metadata": {},
   "outputs": [],
   "source": [
    "def start_scan():     \n",
    "    inst.write(\"INIT\")\n",
    "    check_error(inst)\n",
    "    inst.write(\"TRIG:SING\")\n",
    "    inst.query(\"*OPC?\")\n",
    "    check_error(inst)"
   ]
  },
  {
   "cell_type": "code",
   "execution_count": null,
   "metadata": {},
   "outputs": [],
   "source": [
    "def get_markers_values(port,freq,data):\n",
    "    inst.write(f\"CALC1:PAR{port}:SEL\")\n",
    "    inst.write(f\"CALC:MST:DOM:STAR {freq+1}\")\n",
    "    check_error(inst)\n",
    "    inst.write(f\"CALC:MST:DOM:STOP {freq+2}\")\n",
    "    check_error(inst)\n",
    "    new = float(inst.query(\"CALC:MST:DATA?\").split(',')[2])\n",
    "    if new > float(data):\n",
    "        return new\n",
    "    else:\n",
    "        return data"
   ]
  },
  {
   "cell_type": "code",
   "execution_count": null,
   "metadata": {},
   "outputs": [],
   "source": [
    "def toFixed(numObj, digits=0):\n",
    "        return f\"{numObj:.{digits}f}\""
   ]
  },
  {
   "cell_type": "code",
   "execution_count": null,
   "metadata": {},
   "outputs": [],
   "source": [
    "def test_step(step_time, step):\n",
    "    temp_start = float(inst.query(\"SYST:TEMP:SENSor?\").split('/')[0])\n",
    "    result = {}\n",
    "    result[f'{step}'] = {}\n",
    "    start_time = time.time()\n",
    "    start_scan()\n",
    "    max_pp = []\n",
    "    for i in range (1,port_count+1):\n",
    "        normalizeited_graf(i)\n",
    "        max_pp.append(int(0))\n",
    "    for freq in range(len(start)):   \n",
    "        result[f'{step}'][f'{start[freq]} - {stop[freq]}']={}\n",
    "    while(time.time() - start_time < step_time*60):\n",
    "        start_scan()\n",
    "        for port in range(1,port_count+1):\n",
    "            for freq in range(len(start)):\n",
    "                max_pp[port-1] = get_markers_values(port,freq,max_pp[port-1])\n",
    "                result[f'{step}'][f'{start[freq]} - {stop[freq]}'][f'S{port}{port}']= {'maximum': toFixed(max_pp[port-1], 4)}\n",
    "    temp_stop = float(inst.query(\"SYST:TEMP:SENSor?\").split('/')[0])\n",
    "    temp_difference = temp_stop-temp_start\n",
    "    for port in range(1,port_count+1):\n",
    "            for freq in range(len(start)):\n",
    "                drift = float(result[f'{step}'][f'{start[freq]} - {stop[freq]}'][f'S{port}{port}']['maximum'])\n",
    "                if temp_stop != temp_start:\n",
    "                    result[f'{step}'][f'{start[freq]} - {stop[freq]}'][f'S{port}{port}']['temp_stab'] =  toFixed(drift/temp_difference, 4)\n",
    "                else:\n",
    "                    result[f'{step}'][f'{start[freq]} - {stop[freq]}'][f'S{port}{port}']['temp_stab'] = 0\n",
    "    return result, temp_stop"
   ]
  },
  {
   "cell_type": "code",
   "execution_count": null,
   "metadata": {},
   "outputs": [],
   "source": [
    "def temp_stability():\n",
    "    get_start()\n",
    "    start_time = time.time()\n",
    "    result_table = []\n",
    "    temperature_table = []\n",
    "    pbar = tqdm_notebook(total=test_time*60)\n",
    "    oldprogress=(time.time()-start_time)\n",
    "\n",
    "    while(time.time() - start_time < test_time*60):\n",
    "        step = ((time.time() - start_time) // 60)\n",
    "        result, temperature = test_step(step_time,step)\n",
    "        result_table.append(result)\n",
    "        temperature_table.append(temperature)\n",
    "        progress=(time.time()-start_time)    \n",
    "        pbar.update(progress-oldprogress)\n",
    "        oldprogress=progress\n",
    "    full_time = (time.time() - start_time) // 60\n",
    "    return result_table, temperature_table, full_time"
   ]
  },
  {
   "cell_type": "code",
   "execution_count": null,
   "metadata": {},
   "outputs": [],
   "source": [
    "result_table, temperature_table, full_time = temp_stability()"
   ]
  },
  {
   "cell_type": "code",
   "execution_count": null,
   "metadata": {},
   "outputs": [],
   "source": [
    "def table_generator(table, temperature_table):\n",
    "    step_time = []\n",
    "    for i in table:\n",
    "        for step in i.keys():\n",
    "            step_time.append(step)\n",
    "    range_marker = []\n",
    "    for i in table[0]:\n",
    "        for a in table[0][f'{i}']:\n",
    "            range_marker.append(a)\n",
    "            \n",
    "    html_table=''\n",
    "    colums_name=['Время','Темп.']\n",
    "    for i in table[0].keys():\n",
    "        for marker in table[0][f'{i}']:\n",
    "            for trace in table[0][f'{i}'][f'{marker}']:\n",
    "                colums_name.append(f\"{trace} Дрейф, дБ\")\n",
    "                colums_name.append(f\"{trace} Темп. стаб., дБ/град\")\n",
    "            break\n",
    "            \n",
    "    for marker in range_marker:\n",
    "        html_table+='<table border=\"0\"><tr>&nbsp</tr><tr></table>'\n",
    "        html_table+='<table border=\"1\">'              \n",
    "        html_table+= f'<tr><td colspan=\"4\">Диапазон {marker}, МГц</td></tr><tr>'\n",
    "        for colums in colums_name:\n",
    "            html_table+=f'<td>{colums}</td>'\n",
    "        for index,step in enumerate(step_time):\n",
    "            html_table+=f\"</tr><tr><td>{step}</td>\"\n",
    "            html_table+=f'<td>{temperature_table[index]}</td>'\n",
    "            for s in table[index].keys():\n",
    "                for trace in table[index][f'{s}'][f'{marker}']:\n",
    "                    html_table+=f\"<td>{table[index][f'{s}'][f'{marker}'][f'{trace}']['maximum']}</td>\"\n",
    "                    html_table+=f\"<td>{table[index][f'{s}'][f'{marker}'][f'{trace}']['temp_stab']}</td>\"\n",
    "        html_table+='</table>'                        \n",
    "    return(html_table)"
   ]
  },
  {
   "cell_type": "code",
   "execution_count": null,
   "metadata": {},
   "outputs": [],
   "source": [
    "def html_header(data, time):\n",
    "    html_table='<table border=\"1\"><tr>'\n",
    "    for key in data:\n",
    "        html_table+=f'<td>{key}</td>'\n",
    "    html_table+=f'</tr>'\n",
    "    html_table+=f'<tr>'\n",
    "    for key in data:\n",
    "        html_table+=f'<td>{data[key]}</td>'\n",
    "    html_table+=f'</tr>'\n",
    "    html_table+=f'<tr><td>Общее время теста:</td><td>{time}</td></tr>'\n",
    "    html_table+=f'<tr><td>температура среды</td><td>{ambient_temperature}</td></tr></table>'\n",
    "    return html_table"
   ]
  },
  {
   "cell_type": "code",
   "execution_count": null,
   "metadata": {},
   "outputs": [],
   "source": [
    "from IPython.display import display, HTML\n",
    "html_table=table_generator(result_table, temperature_table)\n",
    "header = html_header(device_info, full_time)\n",
    "display(HTML(header),HTML(html_table))\n",
    "\n"
   ]
  },
  {
   "cell_type": "code",
   "execution_count": null,
   "metadata": {},
   "outputs": [],
   "source": [
    "file_data = html_header(device_info, full_time)\n",
    "file_data += table_generator(result_table,temperature_table)\n",
    "my_button = SaveFilesButton(file_data)\n",
    "my_button # This will display the button in the context of Jupyter Notebook"
   ]
  },
  {
   "cell_type": "code",
   "execution_count": null,
   "metadata": {},
   "outputs": [],
   "source": []
  }
 ],
 "metadata": {
  "hide_input": false,
  "kernelspec": {
   "display_name": "Python 3",
   "language": "python",
   "name": "python3"
  },
  "language_info": {
   "codemirror_mode": {
    "name": "ipython",
    "version": 3
   },
   "file_extension": ".py",
   "mimetype": "text/x-python",
   "name": "python",
   "nbconvert_exporter": "python",
   "pygments_lexer": "ipython3",
   "version": "3.7.3"
  },
  "toc": {
   "base_numbering": 1,
   "nav_menu": {
    "height": "129px",
    "width": "225px"
   },
   "number_sections": true,
   "sideBar": true,
   "skip_h1_title": false,
   "title_cell": "Table of Contents",
   "title_sidebar": "Содержимое",
   "toc_cell": false,
   "toc_position": {},
   "toc_section_display": true,
   "toc_window_display": true
  },
  "varInspector": {
   "cols": {
    "lenName": 16,
    "lenType": 16,
    "lenVar": 40
   },
   "kernels_config": {
    "python": {
     "delete_cmd_postfix": "",
     "delete_cmd_prefix": "del ",
     "library": "var_list.py",
     "varRefreshCmd": "print(var_dic_list())"
    },
    "r": {
     "delete_cmd_postfix": ") ",
     "delete_cmd_prefix": "rm(",
     "library": "var_list.r",
     "varRefreshCmd": "cat(var_dic_list()) "
    }
   },
   "position": {
    "height": "577.2px",
    "left": "1678px",
    "right": "20px",
    "top": "120px",
    "width": "350px"
   },
   "types_to_exclude": [
    "module",
    "function",
    "builtin_function_or_method",
    "instance",
    "_Feature"
   ],
   "window_display": false
  }
 },
 "nbformat": 4,
 "nbformat_minor": 2
}
