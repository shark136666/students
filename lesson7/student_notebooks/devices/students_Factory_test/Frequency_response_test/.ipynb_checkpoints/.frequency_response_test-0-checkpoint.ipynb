{
 "cells": [
  {
   "cell_type": "code",
   "execution_count": null,
   "metadata": {},
   "outputs": [],
   "source": [
    "import os,sys,inspect\n",
    "from IPython.display import display, Markdown, Latex, Javascript, clear_output\n",
    "import emoji\n",
    "import time\n",
    "import ipywidgets as widgets\n",
    "import ipython_blocking\n",
    "import numpy as np\n",
    "import time\n",
    "from tqdm import tqdm_notebook\n",
    "import functools\n",
    "import configparser\n",
    "import webbrowser\n",
    "import shutil\n",
    "\n",
    "parentdir = os.path.abspath('../../../pymodules')\n",
    "\n",
    "sys.path.insert(0,parentdir)\n",
    "#from connect_device import connect\n",
    "from connect_device_v2.vizualizate import vizulizated_finds_devices, advanced_search_device,DeviceBundle\n",
    "from connect_device_v2.save_file import SaveFilesButton\n",
    "from connect_device_v2.connect import connect_to_device\n",
    "from connect_device_v2.find_device import FindDevice\n",
    "from connect_device_v2.auxiliary_commands import check_error,disable_all_correctors,enable_ifbf_for_all_segment\n",
    "import pandas as pd\n",
    "from datetime import datetime\n",
    "button = widgets.Button(\n",
    "                description='Continue',\n",
    "                disabled=False,\n",
    "                button_style='success',  # 'success', 'info', 'warning', 'danger' or ''\n",
    "                tooltip='Click me',\n",
    "                icon='play'        \n",
    "                )\n",
    "testname=\"Тест неравномерности АЧХ\"\n",
    "display(Markdown('### 💠 {}'.format(testname)))\n",
    "\n"
   ]
  },
  {
   "cell_type": "code",
   "execution_count": null,
   "metadata": {},
   "outputs": [],
   "source": [
    "from connect_device_v2.find_device import FindDevice\n",
    "box = FindDevice()\n",
    "display(box)"
   ]
  },
  {
   "cell_type": "code",
   "execution_count": null,
   "metadata": {},
   "outputs": [],
   "source": [
    "button = box.select_device_continue_button"
   ]
  },
  {
   "cell_type": "code",
   "execution_count": null,
   "metadata": {},
   "outputs": [],
   "source": [
    "%blockrun button"
   ]
  },
  {
   "cell_type": "code",
   "execution_count": null,
   "metadata": {},
   "outputs": [],
   "source": [
    "button1 = box.select_config_continue_button"
   ]
  },
  {
   "cell_type": "code",
   "execution_count": null,
   "metadata": {},
   "outputs": [],
   "source": [
    "%blockrun button1"
   ]
  },
  {
   "cell_type": "code",
   "execution_count": null,
   "metadata": {},
   "outputs": [],
   "source": [
    "inst = box.selected_device"
   ]
  },
  {
   "cell_type": "code",
   "execution_count": null,
   "metadata": {},
   "outputs": [],
   "source": [
    "inst.write(\"SYST:PRES\")"
   ]
  },
  {
   "cell_type": "code",
   "execution_count": null,
   "metadata": {},
   "outputs": [],
   "source": [
    "date=datetime.now()\n",
    "date=date.strftime('%Y-%m-%d %H:%M:%S')\n",
    "device = inst.query(\"*IDN?\")\n",
    "device = device.replace(' ','')\n",
    "device = device.split(',')\n",
    "device_info = {'Время запуска':date,\n",
    "              'device':device[0],\n",
    "              'model':device[1],\n",
    "              'serial':device[2],\n",
    "              'version':device[3]}\n",
    "#inst2 = ng.instance()\n",
    "#путь к файлу с сегментами\n",
    "currentDir=%pwd\n",
    "#resultPath= currentDir +'\\\\frequency_plan.seg'\n",
    "portCount=int(inst.query(\"SERV:PORT:COUN?\"))\n",
    "traces=[\"S\",\"R\",\"T\"]\n",
    "traces_count = portCount* len(traces)"
   ]
  },
  {
   "cell_type": "code",
   "execution_count": null,
   "metadata": {},
   "outputs": [],
   "source": [
    "def parse_config(config: dict):\n",
    "    factor_value = {\n",
    "        'k': 10 ** 3,\n",
    "        'm': 10 ** 6,\n",
    "        'g': 10 ** 9\n",
    "    }\n",
    "    new_config = config.copy()\n",
    "    for i in config['RANGE']:\n",
    "        value = config['RANGE'][i]\n",
    "        try:\n",
    "            numeric, factor = value.split(' ')\n",
    "            new_value = float(numeric) * factor_value[factor.lower()]\n",
    "            # print(new_value)\n",
    "            new_config['RANGE'][i] = str(new_value)\n",
    "        except:\n",
    "            pass\n",
    "    return new_config"
   ]
  },
  {
   "cell_type": "code",
   "execution_count": null,
   "metadata": {},
   "outputs": [],
   "source": []
  },
  {
   "cell_type": "code",
   "execution_count": null,
   "metadata": {},
   "outputs": [],
   "source": [
    "result_config =  box.config\n"
   ]
  },
  {
   "cell_type": "code",
   "execution_count": null,
   "metadata": {},
   "outputs": [],
   "source": [
    "def generate_admitance_table(config):\n",
    "    admittance_table = {}\n",
    "    range_count = len(config['ADMITANCE'])/2\n",
    "    range_num = 1\n",
    "    markers = []\n",
    "    for key in config['ADMITANCE']:\n",
    "\n",
    "        if markers == (key.split('_')[1::]):\n",
    "            pass      \n",
    "\n",
    "        else:\n",
    "            markers = (key.split('_')[1::])\n",
    "\n",
    "            try:\n",
    "\n",
    "                next_marker = config['ADMITANCE'][f'TR_{markers[0]}_{int(markers[1])}']\n",
    "\n",
    "                admittance_table[range_num]={\n",
    "                'start':config['RANGE'][f'marker_{markers[0]}'],\n",
    "                'stop':config['RANGE'][f'marker_{markers[1]}'],\n",
    "                'admitance_s':config['ADMITANCE'][key],\n",
    "                'admitance_tr':next_marker,          \n",
    "                }\n",
    "                range_num+=1\n",
    "            except:\n",
    "                pass\n",
    "    return admittance_table"
   ]
  },
  {
   "cell_type": "code",
   "execution_count": null,
   "metadata": {},
   "outputs": [],
   "source": [
    "admittance_table = generate_admitance_table(result_config)\n",
    "\n",
    "range_count = len(result_config['RANGE'])-1\n",
    "\n"
   ]
  },
  {
   "cell_type": "code",
   "execution_count": null,
   "metadata": {},
   "outputs": [],
   "source": []
  },
  {
   "cell_type": "code",
   "execution_count": null,
   "metadata": {},
   "outputs": [],
   "source": [
    "admittance_table2 = generate_admitance_table(parse_config(dict(result_config)))"
   ]
  },
  {
   "cell_type": "code",
   "execution_count": null,
   "metadata": {},
   "outputs": [],
   "source": []
  },
  {
   "cell_type": "code",
   "execution_count": null,
   "metadata": {},
   "outputs": [],
   "source": []
  },
  {
   "cell_type": "code",
   "execution_count": null,
   "metadata": {},
   "outputs": [],
   "source": [
    "markers_table = {}\n",
    "for key in result_config['RANGE']:\n",
    "    if 'marker' in key:\n",
    "        marker_number = key.split('_',3)[1::]\n",
    "        #print(marker_number)\n",
    "        markers_table[marker_number[0]]=result_config['RANGE'][key]"
   ]
  },
  {
   "cell_type": "code",
   "execution_count": null,
   "metadata": {},
   "outputs": [],
   "source": [
    "# def check_error():\n",
    "#     responce = inst.query('SYST:ERR?')    \n",
    "#     if \"No error\" not in responce:        \n",
    "#         print(responce)\n",
    "#         #pass\n",
    "#     else:        \n",
    "#         pass\n",
    "#         #print('succes')"
   ]
  },
  {
   "cell_type": "code",
   "execution_count": null,
   "metadata": {
    "scrolled": true
   },
   "outputs": [],
   "source": [
    "filter_IF=result_config['DEVICE']['filter_IF']\n",
    "athenuator=result_config['DEVICE']['athenuator']\n",
    "#Сброс по умолчанию и остановка сканирования\n",
    "#inst.write(\"*RST\")\n",
    "inst.write(\"SYST:PRES\")\n",
    "inst.write(\"INIT:CONT 0\")\n",
    "inst.write(\"SERVice:SWEep:FREQuency:FACTory\")\n",
    "enable_ifbf_for_all_segment(inst)\n",
    "# Фильтр ПЧ 1 КГц \n",
    "inst.write(f\"SENS:BAND {filter_IF}\")\n",
    "\n",
    "\n",
    "#Частотный план\n",
    "#inst.write(\"SENS:SWE:TYPE SEGMent\")\n",
    "\n",
    "#inst.write(\"MMEMory:LOAD:SEGM {}\".format(resultPath))\n",
    "\n",
    "\n",
    "\n",
    "# атенюатор SERVice:RFCTL:POWer:STATe 1\n",
    "inst.write(f\"SERVice:RFCTL:POWer:STATe {athenuator}\")\n",
    "inst.write(f\"SERVice:RFCTL:POWer:ATT 10\")\n",
    "inst.write(f\"SERV:RFCTL:POW:DAC 6554\")\n",
    "\n",
    "#Отключение всех коррекций\n",
    "disable_all_correctors(inst)\n",
    "print()\n",
    "#inst.write('CALC:PAR:COUN {}'.format(range_count))\n",
    "\n",
    "\n",
    "######################################################"
   ]
  },
  {
   "cell_type": "code",
   "execution_count": null,
   "metadata": {},
   "outputs": [],
   "source": [
    "trace_param = []\n",
    "for port in range(1,portCount+1):\n",
    "    for trace in traces:    \n",
    "        if trace is not 'S':\n",
    "            trace_param.append(f'{trace}{port}')\n",
    "        else : \n",
    "            trace_param.append(f'{trace}{port}{port}')\n",
    "        "
   ]
  },
  {
   "cell_type": "code",
   "execution_count": null,
   "metadata": {},
   "outputs": [],
   "source": []
  },
  {
   "cell_type": "code",
   "execution_count": null,
   "metadata": {},
   "outputs": [],
   "source": []
  },
  {
   "cell_type": "code",
   "execution_count": null,
   "metadata": {},
   "outputs": [],
   "source": [
    "def setup_markers(markers_table):\n",
    "    #print(f\"CALC:MARK:COUN {len(markers_table)+1}\")\n",
    "    inst.write(f\"CALC:MARK:COUN {len(markers_table)+1}\")  \n",
    "    #check_error()\n",
    "    #inst.write(\"CALC:MARK:COUP 0\") # выключить свзяность\n",
    "    #print(f\"CALC:MARK{len(markers_table)+1} 1\")\n",
    "    #inst.write(f\"CALC:MARK{len(markers_table)+1} 1\")\n",
    "    #check_error()\n",
    "    for key in markers_table:        \n",
    "        inst.write(\"CALC:PAR1:SEL\")\n",
    "        #check_error()\n",
    "        \n",
    "        marker_value_start = markers_table[key]['start']\n",
    "        marker_value_stop = markers_table[key]['stop']        \n",
    "        \n",
    "        #print(f\"CALC:MARK{key}:X {marker_value_start}\")\n",
    "        inst.write(f\"CALC:MARK{key}:X {marker_value_start}\")\n",
    "        #check_error()        \n",
    "        inst.write(f\"CALC:MARK{key+1}:X {marker_value_stop}\")\n",
    "        #check_error()\n",
    "                \n",
    "                "
   ]
  },
  {
   "cell_type": "code",
   "execution_count": null,
   "metadata": {},
   "outputs": [],
   "source": []
  },
  {
   "cell_type": "code",
   "execution_count": null,
   "metadata": {},
   "outputs": [],
   "source": []
  },
  {
   "cell_type": "code",
   "execution_count": null,
   "metadata": {},
   "outputs": [],
   "source": [
    "def setup_trace(trace):\n",
    "    #print(f\"CALC:PAR:DEF {trace}\")\n",
    "    inst.write(f\"CALC:PAR:DEF {trace}\")    \n",
    "    #check_error()\n",
    "    #print('CALC:MST 1')\n",
    "    inst.write('CALC:MST 1')    \n",
    "    #check_error()\n",
    "    #print('CALC:MST:DOM 1')\n",
    "    inst.write('CALC:MST:DOM 1')\n",
    "    #check_error()\n",
    "    \n",
    "    "
   ]
  },
  {
   "cell_type": "code",
   "execution_count": null,
   "metadata": {},
   "outputs": [],
   "source": [
    "def run_scan():\n",
    "    inst.write(\"INIT\")\n",
    "    while(True):\n",
    "        status=inst.query(\"TRIG:STAT?\")\n",
    "        if (status!=\"HOLD\"):\n",
    "            time.sleep(1)\n",
    "            \n",
    "        else :\n",
    "            #print(\"scan {} successful\".format(traceName))\n",
    "            break\n",
    "    "
   ]
  },
  {
   "cell_type": "code",
   "execution_count": null,
   "metadata": {},
   "outputs": [],
   "source": [
    "\n",
    "def get_freq_responce(markers_table):\n",
    "    result_table = []\n",
    "    result_string = ()\n",
    "    #marker_value1 = table_markers[i-1].value\n",
    "    #marker_value2 = table_markers[i].value\n",
    "    #inst.write(\"CALC:PAR{}:SEL\".format(i))\n",
    "    \n",
    "    #inst.write('CALC:MST:DOM 1')\n",
    "    i=0\n",
    "    for key in markers_table:\n",
    "        \n",
    "        marker_num = key\n",
    "        \n",
    "        inst.write(f'CALC:MST:DOM:STOP {marker_num+1}')        \n",
    "        inst.write(f'CALC:MST:DOM:START {marker_num}')\n",
    "        \n",
    "        inst.write(f'CALC:MST:DOM 1')\n",
    "        result = inst.query_ascii_values('CALC:MST:DATA? ')[2]        \n",
    "        result = round(result,4)        \n",
    "        \n",
    "        trace_name =inst.query(\"CALC:PAR:DEF?\")\n",
    "        \n",
    "        if 'S' in trace_name:            \n",
    "            class_trace = 'S'    \n",
    "            result_string = (result,\n",
    "                             0,\n",
    "                             markers_table[key]['admitance_s'],                            )\n",
    "            \n",
    "            result_table.append(list(result_string))\n",
    "        else:\n",
    "            class_trace = 'TR'\n",
    "            result_string = (result,\n",
    "                             0,\n",
    "                             markers_table[key]['admitance_tr'],\n",
    "                            )\n",
    "            result_table.append(list(result_string))\n",
    "    return((class_trace,trace_name,result_table))\n",
    "    #return((trace_name,result_table))\n",
    "    "
   ]
  },
  {
   "cell_type": "code",
   "execution_count": null,
   "metadata": {},
   "outputs": [],
   "source": []
  },
  {
   "cell_type": "code",
   "execution_count": null,
   "metadata": {},
   "outputs": [],
   "source": []
  },
  {
   "cell_type": "code",
   "execution_count": null,
   "metadata": {},
   "outputs": [],
   "source": [
    "result_table = []\n",
    "setup_markers(admittance_table2)\n",
    "pbar = tqdm_notebook(total=portCount*len(traces))\n",
    "for trace in trace_param:    \n",
    "    setup_trace(trace)  \n",
    "    #time.sleep(0.5)\n",
    "    run_scan()    \n",
    "    a=get_freq_responce(admittance_table)\n",
    "    result_table.append(a)\n",
    "    pbar.update(1)\n"
   ]
  },
  {
   "cell_type": "code",
   "execution_count": null,
   "metadata": {},
   "outputs": [],
   "source": []
  },
  {
   "cell_type": "code",
   "execution_count": null,
   "metadata": {},
   "outputs": [],
   "source": []
  },
  {
   "cell_type": "code",
   "execution_count": null,
   "metadata": {},
   "outputs": [],
   "source": [
    "table=sorted(result_table,key=lambda result_table: result_table[0])\n"
   ]
  },
  {
   "cell_type": "code",
   "execution_count": null,
   "metadata": {},
   "outputs": [],
   "source": []
  },
  {
   "cell_type": "code",
   "execution_count": null,
   "metadata": {},
   "outputs": [],
   "source": [
    "def get_max(table):\n",
    "    #print(table)\n",
    "    range_num=0\n",
    "    \n",
    "    result=[]\n",
    "    name = ''\n",
    "    while (range_num<range_count):        \n",
    "        temp=[]\n",
    "        values=[]\n",
    "        for i in table:\n",
    "            name = i[1][0]            \n",
    "            temp.append(i[2][range_num][0])       \n",
    "        \n",
    "       \n",
    "        values.append(max(temp))\n",
    "        result.append(values)\n",
    "        \n",
    "        range_num+=1\n",
    "    return (name,result)\n"
   ]
  },
  {
   "cell_type": "code",
   "execution_count": null,
   "metadata": {},
   "outputs": [],
   "source": []
  },
  {
   "cell_type": "code",
   "execution_count": null,
   "metadata": {},
   "outputs": [],
   "source": [
    "temp_s=[]\n",
    "temp_tr = []\n",
    "for i in table:\n",
    "    if 'S' in i[0]:\n",
    "        temp_s.append(i)\n",
    "    else:\n",
    "        temp_tr.append(i)\n",
    "temp_s1=get_max(temp_s)\n",
    "temp_tr1=get_max(temp_tr)\n"
   ]
  },
  {
   "cell_type": "code",
   "execution_count": null,
   "metadata": {},
   "outputs": [],
   "source": []
  },
  {
   "cell_type": "code",
   "execution_count": null,
   "metadata": {},
   "outputs": [],
   "source": []
  },
  {
   "cell_type": "code",
   "execution_count": null,
   "metadata": {},
   "outputs": [],
   "source": [
    "\n",
    "for i in table:\n",
    "    \n",
    "    if 'S' in i[0]:\n",
    "        range_number=0\n",
    "        \n",
    "        while(range_number<range_count):\n",
    "            if (i[2][range_number][0]<temp_s1[1][range_number][0]):\n",
    "                #print(i[1][range_number][1])\n",
    "                i[2][range_number][1]=0\n",
    "            else:\n",
    "                #print(i[1])\n",
    "                #print(range_number)\n",
    "                #print('else' ,temp_s1[1][range_number][0])\n",
    "                i[2][range_number][1]=temp_s1[1][range_number][0]\n",
    "            range_number+=1\n",
    "    else:\n",
    "        range_number=0\n",
    "       \n",
    "        while(range_number<range_count):\n",
    "            if (i[2][range_number][0]<temp_tr1[1][range_number][0]):\n",
    "                #print(i[1][range_number][1])\n",
    "                i[2][range_number][1]=0\n",
    "            else:\n",
    "                #print(i[1])\n",
    "                #print(range_number)\n",
    "                #print('else' ,temp_s1[1][range_number][0])\n",
    "                i[2][range_number][1]=temp_tr1[1][range_number][0]\n",
    "            range_number+=1\n",
    "        \n",
    "        \n",
    "            "
   ]
  },
  {
   "cell_type": "code",
   "execution_count": null,
   "metadata": {},
   "outputs": [],
   "source": []
  },
  {
   "cell_type": "code",
   "execution_count": null,
   "metadata": {},
   "outputs": [],
   "source": [
    "def table_generator(table):\n",
    "    html_table='<table border=\"1\">\\\n",
    "    <tr>\\\n",
    "        <td>Диапазон</td>'\n",
    "    td_background=\"bgcolor=\\\"#ffdd00\\\"\"    \n",
    "    for key in admittance_table:\n",
    "        start=admittance_table[key]['start']\n",
    "        stop=admittance_table[key]['stop']\n",
    "        \n",
    "        html_table += f\"<td colspan=3>{start} - {stop}</td>\" \n",
    "    html_table += \"</tr>\"\n",
    "        #######\n",
    "    html_table += \"<tr><td>Трассы</td>\"\n",
    "    for i in range (int(range_count)):\n",
    "        html_table += \"<td>Нер-ть,дБ</td> \\\n",
    "                        <td>Макс.дБ</td> \\\n",
    "                        <td>Допуск,дБ</td> \"\n",
    "    html_table += \"</tr>\"\n",
    "    for i in table:\n",
    "        html_table += \"<tr>\"\n",
    "        html_table += f'<td>{i[1]}</td>'\n",
    "        for j in i[2::]:\n",
    "            for k in j:\n",
    "                html_table += f'<td>{k[0]}</td>'  \n",
    "                #print(k)\n",
    "                if k[1]>float(k[2]):                    \n",
    "                    html_table +=f'<td {td_background}>{k[1]}</td>'\n",
    "                    html_table +=f'<td {td_background}>{k[2]}</td>'\n",
    "                    continue\n",
    "                if (k[1]!=0):\n",
    "                    html_table +=f'<td >{k[1]}</td>'\n",
    "                    html_table +=f'<td >{k[2]}</td>'\n",
    "                    continue\n",
    "                else:\n",
    "                    html_table +=f'<td>-</td>'\n",
    "                    html_table +=f'<td>{k[2]}</td>'\n",
    "                    \n",
    "            \n",
    "        \n",
    "   \n",
    "            \n",
    "        html_table +='</tr>'\n",
    "    html_table += \"</table>\"\n",
    "    return html_table"
   ]
  },
  {
   "cell_type": "code",
   "execution_count": null,
   "metadata": {},
   "outputs": [],
   "source": [
    "def html_header(data):\n",
    "    html_table='<table border=\"1\"><tr>'\n",
    "    for key in data:\n",
    "        html_table+=f'<td>{key}</td>'\n",
    "    html_table+=f'</tr>'\n",
    "    html_table+=f'<tr>'\n",
    "    for key in data:\n",
    "        html_table+=f'<td>{data[key]}</td>'\n",
    "    html_table+=f'</tr>'    \n",
    "    return html_table"
   ]
  },
  {
   "cell_type": "code",
   "execution_count": null,
   "metadata": {
    "scrolled": true
   },
   "outputs": [],
   "source": [
    "from IPython.core.display import display, HTML\n",
    "html_table=table_generator(table)\n",
    "header = html_header(device_info)\n",
    "\n",
    "\n",
    "display(HTML(header),HTML(html_table))"
   ]
  },
  {
   "cell_type": "code",
   "execution_count": null,
   "metadata": {},
   "outputs": [],
   "source": [
    "#with open() as f:\n",
    "#    f.write(header+html_table)"
   ]
  },
  {
   "cell_type": "code",
   "execution_count": null,
   "metadata": {},
   "outputs": [],
   "source": [
    "file_data = header+html_table\n",
    "my_button = SaveFilesButton(file_data)\n",
    "my_button # This will display the button in the context of Jupyter Notebook"
   ]
  },
  {
   "cell_type": "code",
   "execution_count": null,
   "metadata": {},
   "outputs": [],
   "source": []
  }
 ],
 "metadata": {
  "hide_input": false,
  "kernelspec": {
   "display_name": "Python 3",
   "language": "python",
   "name": "python3"
  },
  "language_info": {
   "codemirror_mode": {
    "name": "ipython",
    "version": 3
   },
   "file_extension": ".py",
   "mimetype": "text/x-python",
   "name": "python",
   "nbconvert_exporter": "python",
   "pygments_lexer": "ipython3",
   "version": "3.6.12"
  },
  "toc": {
   "base_numbering": 1,
   "nav_menu": {
    "height": "129px",
    "width": "225px"
   },
   "number_sections": true,
   "sideBar": true,
   "skip_h1_title": false,
   "title_cell": "Table of Contents",
   "title_sidebar": "Содержимое",
   "toc_cell": false,
   "toc_position": {},
   "toc_section_display": true,
   "toc_window_display": true
  },
  "varInspector": {
   "cols": {
    "lenName": 16,
    "lenType": 16,
    "lenVar": 40
   },
   "kernels_config": {
    "python": {
     "delete_cmd_postfix": "",
     "delete_cmd_prefix": "del ",
     "library": "var_list.py",
     "varRefreshCmd": "print(var_dic_list())"
    },
    "r": {
     "delete_cmd_postfix": ") ",
     "delete_cmd_prefix": "rm(",
     "library": "var_list.r",
     "varRefreshCmd": "cat(var_dic_list()) "
    }
   },
   "position": {
    "height": "577.2px",
    "left": "1678px",
    "right": "20px",
    "top": "120px",
    "width": "350px"
   },
   "types_to_exclude": [
    "module",
    "function",
    "builtin_function_or_method",
    "instance",
    "_Feature"
   ],
   "window_display": false
  }
 },
 "nbformat": 4,
 "nbformat_minor": 2
}
