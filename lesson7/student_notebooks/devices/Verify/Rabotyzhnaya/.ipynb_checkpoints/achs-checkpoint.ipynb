{
 "cells": [
  {
   "cell_type": "code",
   "execution_count": 1,
   "id": "fcf7c87d",
   "metadata": {},
   "outputs": [
    {
     "name": "stdout",
     "output_type": "stream",
     "text": [
      "hyu\n"
     ]
    }
   ],
   "source": [
    "print('hyu')"
   ]
  },
  {
   "cell_type": "code",
   "execution_count": null,
   "id": "b20575c5",
   "metadata": {},
   "outputs": [],
   "source": [
    "print(\"Misha huy sosi\")"
   ]
  }
 ],
 "metadata": {
  "kernelspec": {
   "display_name": "Python 3 (ipykernel)",
   "language": "python",
   "name": "python3"
  },
  "language_info": {
   "codemirror_mode": {
    "name": "ipython",
    "version": 3
   },
   "file_extension": ".py",
   "mimetype": "text/x-python",
   "name": "python",
   "nbconvert_exporter": "python",
   "pygments_lexer": "ipython3",
   "version": "3.10.5"
  }
 },
 "nbformat": 4,
 "nbformat_minor": 5
}
