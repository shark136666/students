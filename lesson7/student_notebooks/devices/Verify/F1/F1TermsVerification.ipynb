{
 "cells": [
  {
   "cell_type": "code",
   "execution_count": 1,
   "metadata": {
    "code_folding": [
     14
    ]
   },
   "outputs": [
    {
     "data": {
      "text/markdown": [
       "### 💠 F1 Terms Verification"
      ],
      "text/plain": [
       "<IPython.core.display.Markdown object>"
      ]
     },
     "metadata": {},
     "output_type": "display_data"
    },
    {
     "data": {
      "application/vnd.jupyter.widget-view+json": {
       "model_id": "d9ed56f1483a4064bbd51714116630bc",
       "version_major": 2,
       "version_minor": 0
      },
      "text/plain": [
       "Button(button_style='success', description='Run', icon='play', style=ButtonStyle(), tooltip='Click me')"
      ]
     },
     "metadata": {},
     "output_type": "display_data"
    }
   ],
   "source": [
    "from IPython.display import display, Markdown, Latex, Javascript\n",
    "import emoji\n",
    "import time\n",
    "import ipywidgets as widgets\n",
    "import ipython_blocking\n",
    "\n",
    "\n",
    "display(Markdown('### 💠 F1 Terms Verification'))\n",
    "#display(Markdown('> *' + time.ctime() +\n",
    "#                 '* <br>Connect Power Meter to `Port 1` and press *Run* 💡 ![](gif/714.gif)'))\n",
    "\n",
    "button = widgets.Button(\n",
    "    description='Run',\n",
    "    disabled=False,\n",
    "    button_style='success',  # 'success', 'info', 'warning', 'danger' or ''\n",
    "    tooltip='Click me',\n",
    "    icon='play'\n",
    ")\n",
    "button"
   ]
  },
  {
   "cell_type": "code",
   "execution_count": null,
   "metadata": {},
   "outputs": [],
   "source": [
    "%blockrun button"
   ]
  },
  {
   "cell_type": "code",
   "execution_count": 2,
   "metadata": {
    "code_folding": [
     8
    ]
   },
   "outputs": [
    {
     "data": {
      "text/markdown": [
       "> *Tue Feb 16 17:18:53 2021* <br>🔌 Connecting to the device, please wating... ![](gif/714.gif)"
      ],
      "text/plain": [
       "<IPython.core.display.Markdown object>"
      ]
     },
     "metadata": {},
     "output_type": "display_data"
    },
    {
     "data": {
      "application/vnd.jupyter.widget-view+json": {
       "model_id": "cfdbe1e77bb74f0f9910fdfdb9a34c19",
       "version_major": 2,
       "version_minor": 0
      },
      "text/plain": [
       "HBox(children=(VBox(children=(Label(value='Legacy device', layout=Layout(width='auto')), Text(value='192.168.1…"
      ]
     },
     "metadata": {},
     "output_type": "display_data"
    }
   ],
   "source": [
    "button.layout.visibility = 'hidden'\n",
    "display(Markdown('> *' + time.ctime() + '* <br>🔌 Connecting to the device, please wating... ![](gif/714.gif)'))\n",
    "\n",
    "import visa\n",
    "import matplotlib\n",
    "import matplotlib.pyplot as plt\n",
    "import numpy as np\n",
    "\n",
    "class DeviceBundle(object):\n",
    "    def __init__(self, name, rm, default_ip):    \n",
    "        self.name = name\n",
    "        self.rm = rm\n",
    "        self.default_ip = default_ip\n",
    "        self.inst = None\n",
    "        auto_layout = widgets.Layout( width='auto', layout='align_self:center', )\n",
    "        self.descr = widgets.Label(value=name, layout=auto_layout)\n",
    "        self.ip = widgets.Text(\n",
    "            value= default_ip,\n",
    "            description = 'IP Address',\n",
    "            disabled = False,\n",
    "        )\n",
    "        self.button = widgets.Button(\n",
    "            description='Connect',\n",
    "            disabled=False,\n",
    "            button_style='',  # 'success', 'info', 'warning', 'danger' or ''\n",
    "            tooltip='Click me',\n",
    "            icon='gear',\n",
    "            layout = auto_layout\n",
    "        )     \n",
    "        self.p = widgets.Text(\n",
    "            value='',\n",
    "            placeholder='<empty>',\n",
    "            description='Producer:',\n",
    "            disabled=True\n",
    "        )\n",
    "        self.m = widgets.Text(\n",
    "            value='',\n",
    "            placeholder='<empty>',\n",
    "            description='Model:',\n",
    "            disabled=True\n",
    "        )\n",
    "        self.s = widgets.Text(\n",
    "            value='',\n",
    "            placeholder='<empty>',\n",
    "            description='Serial:',\n",
    "            disabled=True\n",
    "        )\n",
    "        self.v = widgets.Text(\n",
    "            value='',\n",
    "            placeholder='<empty>',\n",
    "            description='Version:',\n",
    "            disabled=True\n",
    "        )\n",
    "        self.button.on_click(self.on_connect)\n",
    "        self.__box = widgets.VBox([self.descr, self.ip, self.p, self.m, self.s, self.v, self.button])\n",
    "    \n",
    "    def on_connect(self, b):\n",
    "        addr, port = self.ip.value.split(\":\", 2)\n",
    "        self.inst = self.rm.open_resource('TCPIP0::'+ addr + '::' + port + '::SOCKET')\n",
    "        self.inst.write_termination = '\\n'\n",
    "        self.inst.read_termination = '\\n'\n",
    "        self.inst.timeout = 5000\n",
    "        ans = self.inst.query(\"*IDN?\")\n",
    "        self.p.value, self.m.value, self.s.value, self.v.value = ans.split(', ', 3)\n",
    "        \n",
    "    def instance(self):\n",
    "        return self.inst\n",
    "    \n",
    "    def box(self):\n",
    "        return self.__box\n",
    "    \n",
    "rm = visa.ResourceManager()\n",
    "\n",
    "legacy = DeviceBundle('Legacy device', rm, '192.168.1.212:5025')\n",
    "ng = DeviceBundle('Nextgen device', rm, '192.168.1.85:5025')\n",
    "\n",
    "widgets.HBox([legacy.box(), ng.box()])"
   ]
  },
  {
   "cell_type": "code",
   "execution_count": null,
   "metadata": {},
   "outputs": [],
   "source": [
    "inst1 = legacy.instance() \n",
    "print(inst1)"
   ]
  },
  {
   "cell_type": "code",
   "execution_count": null,
   "metadata": {},
   "outputs": [],
   "source": [
    "display(Markdown('### 💠 Connect to the devices and continue'))\n",
    "button2 = widgets.Button(\n",
    "    description='Continue',\n",
    "    disabled=False,\n",
    "    button_style='success',  # 'success', 'info', 'warning', 'danger' or ''\n",
    "    tooltip='Click me',\n",
    "    icon='gear'\n",
    ")\n",
    "button2"
   ]
  },
  {
   "cell_type": "code",
   "execution_count": null,
   "metadata": {},
   "outputs": [],
   "source": [
    "%blockrun button2"
   ]
  },
  {
   "cell_type": "code",
   "execution_count": null,
   "metadata": {},
   "outputs": [],
   "source": [
    "import numpy as np\n",
    "import time\n",
    "from tqdm import tqdm_notebook\n",
    "\n",
    "inst = legacy.instance()\n",
    "inst2 = ng.instance()\n",
    "\n",
    "# inst.write(\"SYST:PRES\")\n",
    "# inst.write(\"*CLS\")\n",
    "# inst.write(\"SENS:FREQ:STAR 1 MHz\")\n",
    "# inst.write(\"SENS:CORR:CLE\")\n",
    "# inst.write(\"SENS:CORR:COLL:CLE\")\n",
    "## inst.write(\"TRIG:SOUR INT\")\n",
    "## inst.write(\"TRIG:SOUR BUS\")\n",
    "## inst.query(\"TRIG:SOUR?\")\n",
    "\n",
    "#inst.write(\"SENS:CORR:TRIG:FREE ON\")\n",
    "#inst.query(\"SENS:CORR:TRIG:FREE?\")\n",
    "#inst.query(\"SYST:ERR?\")"
   ]
  },
  {
   "cell_type": "code",
   "execution_count": null,
   "metadata": {},
   "outputs": [],
   "source": [
    "# inst.write(\"SENS:CORR:COLL:METH:SOLT1 1\")\n",
    "# inst.query(\"SYST:ERR?\")\n",
    "\n",
    "\n",
    "# values = inst.query_ascii_values('CURV?', container=numpy.array)\n",
    "# for i in tqdm_notebook(range(100)):\n",
    "#     inst.write(\"TRIG:SING\")\n",
    "#     inst.query(\"*OPC?\")\n",
    "#     RawData = inst.query_ascii_values('SENSe1:DATA:RAWData? S11', container=np.array, converter='e')\n",
    "#     ComplexRawData = RawData.astype(np.float32).view(np.complex64)\n",
    "#     plt.plot(ComplexRawData.real,ComplexRawData.imag, '-')\n",
    "#     CorrectedData = inst.query_ascii_values('SENSe1:DATA:CORRData? S11', container=np.array, converter='e')\n",
    "#     ComplexCorrectedData = CorrectedData.astype(np.float32).view(np.complex64)\n",
    "#     plt.plot(ComplexCorrectedData.real,ComplexCorrectedData.imag, '-')\n",
    "#     #time.sleep(0.1)"
   ]
  },
  {
   "cell_type": "code",
   "execution_count": null,
   "metadata": {},
   "outputs": [],
   "source": [
    "# read data from file\n",
    "load_r = np.loadtxt('LOAD1.txt', dtype=complex, converters={0: lambda s: complex(s.decode().replace('+-', '-'))})#.view(np.complex64)\n",
    "open_r = np.loadtxt('OPEN1.txt', dtype=complex, converters={0: lambda s: complex(s.decode().replace('+-', '-'))})#.view(np.complex64)\n",
    "short_r = np.loadtxt('SHORT1.txt', dtype=complex, converters={0: lambda s: complex(s.decode().replace('+-', '-'))})#.view(np.complex64)\n",
    "\n",
    "fig3, axs3 = plt.subplots(1, 3)\n",
    "axs3[0].plot(load_r.real,load_r.imag, '-')\n",
    "axs3[0].set_aspect('equal')\n",
    "axs3[0].set_title('load from file', fontsize=10)\n",
    "axs3[1].plot(open_r.real,open_r.imag, '-')\n",
    "axs3[1].set_aspect('equal', 'box')\n",
    "axs3[1].set_title('open from file', fontsize=10)\n",
    "axs3[2].plot(short_r.real,short_r.imag, '-')\n",
    "axs3[2].set_aspect('equal', 'box')\n",
    "axs3[2].set_title('short from file', fontsize=10)\n",
    "\n",
    "fig3.tight_layout()\n",
    "\n",
    "plt.show()"
   ]
  },
  {
   "cell_type": "code",
   "execution_count": null,
   "metadata": {},
   "outputs": [],
   "source": [
    "display(Markdown('### 💠 F1 Terms Verification'))\n",
    "#display(Markdown('> *' + time.ctime() +\n",
    "#                 '* <br>Connect Power Meter to `Port 1` and press *Run* 💡 ![](gif/714.gif)'))\n",
    "\n",
    "port_wgt = widgets.Dropdown(options=['1', '2'], description='Port')\n",
    "button_wgt = widgets.Button(\n",
    "    description='Continue',\n",
    "    disabled=False,\n",
    "    button_style='',  # 'success', 'info', 'warning', 'danger' or ''\n",
    "    tooltip='Click me',\n",
    "    icon='play'\n",
    ")\n",
    "box = widgets.VBox(children=[port_wgt, button_wgt])\n",
    "box"
   ]
  },
  {
   "cell_type": "code",
   "execution_count": null,
   "metadata": {},
   "outputs": [],
   "source": [
    "%blockrun button_wgt"
   ]
  },
  {
   "cell_type": "code",
   "execution_count": null,
   "metadata": {},
   "outputs": [],
   "source": [
    "cal_port = port_wgt.value\n",
    "\n",
    "inst.write(\"SENS:FREQ:STAR 1 MHz\")\n",
    "inst.write(\"SENS:FREQ:STOP 4.8 GHz\")\n",
    "inst.write(\"SENS:CORR:COLL:METH:SOLT1 \" + cal_port)\n",
    "\n",
    "inst2.write(\"SENS:FREQ:STAR 1 MHz\")\n",
    "inst2.write(\"SENS:FREQ:STOP 4.8 GHz\")\n",
    "inst2.write(\"SENS:CORR:COLL:METH:SOLT1 \" + cal_port)\n",
    "\n",
    "display(Markdown('### 💠 Stimulus configured press to continue'))\n",
    "button3 = widgets.Button(\n",
    "    description='Continue',\n",
    "    disabled=False,\n",
    "    button_style='success',  # 'success', 'info', 'warning', 'danger' or ''\n",
    "    tooltip='Click me',\n",
    "    icon='gear'\n",
    ")\n",
    "button3"
   ]
  },
  {
   "cell_type": "code",
   "execution_count": null,
   "metadata": {},
   "outputs": [],
   "source": [
    "%blockrun button3"
   ]
  },
  {
   "cell_type": "code",
   "execution_count": null,
   "metadata": {},
   "outputs": [],
   "source": [
    "# загрузить данные мер в приложение и применить калибровку \n",
    "def push_to_device(inst, port, open_data, short_data, load_data):\n",
    "#     inst.write(\"SENS:CORR:COLL:METH:SOLT1 1\")\n",
    "#     inst.query(\"SYST:ERR?\")\n",
    "    inst.write_ascii_values('SENS:CORR:COLL:DATA:LOAD ' + port + ',', load_data.view(np.float64).tolist(), converter='e')\n",
    "    #inst2.query(\"*OPC?\")\n",
    "    inst.query(\"SYST:ERR?\")\n",
    "\n",
    "    inst.write_ascii_values('SENS:CORR:COLL:DATA:OPEN ' + port + ',', open_data.view(np.float64).tolist(), converter='e')\n",
    "    #inst2.query(\"*OPC?\")\n",
    "    inst.query(\"SYST:ERR?\")\n",
    "\n",
    "    inst.write_ascii_values('SENS:CORR:COLL:DATA:SHOR ' + port + ',', short_data.view(np.float64).tolist(), converter='e')\n",
    "    #inst2.query(\"*OPC?\")\n",
    "    inst.query(\"SYST:ERR?\")\n",
    "    # применить калибровку\n",
    "    \n",
    "\n",
    "push_to_device(inst, cal_port, open_r, short_r, load_r)"
   ]
  },
  {
   "cell_type": "code",
   "execution_count": null,
   "metadata": {},
   "outputs": [],
   "source": [
    "push_to_device(inst2, cal_port, open_r, short_r, load_r)"
   ]
  },
  {
   "cell_type": "code",
   "execution_count": null,
   "metadata": {},
   "outputs": [],
   "source": [
    "inst.write(\"SENS:CORR:COLL:SAVE\")\n",
    "inst2.write(\"SENS:CORR:COLL:SAVE\")"
   ]
  },
  {
   "cell_type": "code",
   "execution_count": null,
   "metadata": {},
   "outputs": [],
   "source": [
    "# применить калибровку и построить графики термов\n",
    "def pull_terms(inst, port):\n",
    "    er = inst.query_ascii_values('SENS:CORR:COEF? ER,' +  port + ',' + port, container=np.array, converter='e')\n",
    "    complex_er = er.astype(np.float32).view(np.complex64)\n",
    "\n",
    "    ed = inst.query_ascii_values('SENS:CORR:COEF? ED,' +  port + ',' + port, container=np.array, converter='e')\n",
    "    complex_ed = ed.astype(np.float32).view(np.complex64)\n",
    "\n",
    "    es = inst.query_ascii_values('SENS:CORR:COEF? ES,' +  port + ',' + port, container=np.array, converter='e')\n",
    "    complex_es = es.astype(np.float32).view(np.complex64)\n",
    "    return complex_er, complex_ed, complex_es\n",
    "\n",
    "er, ed, es = pull_terms(inst, cal_port)\n",
    "er2, ed2, es2 = pull_terms(inst2, cal_port)"
   ]
  },
  {
   "cell_type": "code",
   "execution_count": null,
   "metadata": {
    "scrolled": false
   },
   "outputs": [],
   "source": [
    "d_er = er - er2\n",
    "d_ed = ed - ed2\n",
    "d_es = es - es2\n",
    "\n",
    "# # create array of all unique x values\n",
    "# x_all = er.real + er2.real\n",
    "# x_all = np.unique(np.array(x_all))\n",
    "\n",
    "# # interpolate y values on new xarray\n",
    "# y_all = np.empty((len(x_all), 2))\n",
    "# for i,x,y in zip(range(2), [er.real,er2.real], [er.imag, er2.imag]):\n",
    "#     y_all[:,i] = np.interp(x_all, x, y)\n",
    "\n",
    "# # find out min and max values    \n",
    "# ymin = y_all.min(axis=1)\n",
    "# ymax = y_all.max(axis=1)\n",
    "\n",
    "\n",
    "fig4, axs4 = plt.subplots(3, 3, figsize=(15,15))\n",
    "axs4[0,0].plot(er.real,er.imag, '-')\n",
    "#axs4[0,0].plot(er2.real,er2.imag, '-')\n",
    "axs4[0,0].set_aspect('equal')\n",
    "axs4[0,0].set_title('Legacy ER', fontsize=10)\n",
    "#axs4[0,0].fill_between(x_all, ymin, ymax, alpha=0.6)\n",
    "\n",
    "axs4[1,0].plot(er2.real,er2.imag, '-')\n",
    "axs4[1,0].set_aspect('equal')\n",
    "axs4[1,0].set_title('NextGen ER', fontsize=10)\n",
    "\n",
    "axs4[0,1].plot(ed.real,ed.imag, '-')\n",
    "axs4[0,1].set_aspect('equal', 'box')\n",
    "axs4[0,1].set_title('Legacy ED', fontsize=10)\n",
    "axs4[1,1].plot(ed2.real,ed2.imag, '-')\n",
    "axs4[1,1].set_aspect('equal', 'box')\n",
    "axs4[1,1].set_title('Legacy ED', fontsize=10)\n",
    "\n",
    "axs4[0,2].plot(es.real,es.imag, '-')\n",
    "axs4[0,2].set_aspect('equal', 'box')\n",
    "axs4[0,2].set_title('NextGen ES', fontsize=10)\n",
    "axs4[1,2].plot(es2.real,es2.imag, '-')\n",
    "axs4[1,2].set_aspect('equal', 'box')\n",
    "axs4[1,2].set_title('NextGen ES', fontsize=10)\n",
    "\n",
    "axs4[2,0].plot(d_er.real, d_er.imag, '-')\n",
    "axs4[2,0].set_aspect('equal')\n",
    "axs4[2,0].set_title('ER Discrepancy', fontsize=10)\n",
    "axs4[2,1].plot(d_ed.real, d_ed.imag, '-')\n",
    "axs4[2,1].set_aspect('equal', 'box')\n",
    "axs4[2,1].set_title('ED Discrepancy', fontsize=10)\n",
    "axs4[2,2].plot(d_es.real, d_es.imag, '-')\n",
    "axs4[2,2].set_aspect('equal', 'box')\n",
    "axs4[2,2].set_title('ES Discrepancy', fontsize=10)\n",
    "\n",
    "fig4.tight_layout()\n",
    "\n",
    "plt.show()"
   ]
  },
  {
   "cell_type": "code",
   "execution_count": null,
   "metadata": {},
   "outputs": [],
   "source": []
  }
 ],
 "metadata": {
  "hide_input": false,
  "kernelspec": {
   "display_name": "Python 3",
   "language": "python",
   "name": "python3"
  },
  "language_info": {
   "codemirror_mode": {
    "name": "ipython",
    "version": 3
   },
   "file_extension": ".py",
   "mimetype": "text/x-python",
   "name": "python",
   "nbconvert_exporter": "python",
   "pygments_lexer": "ipython3",
   "version": "3.6.12"
  },
  "toc": {
   "base_numbering": 1,
   "nav_menu": {
    "height": "129px",
    "width": "225px"
   },
   "number_sections": true,
   "sideBar": true,
   "skip_h1_title": false,
   "title_cell": "Table of Contents",
   "title_sidebar": "Содержимое",
   "toc_cell": false,
   "toc_position": {},
   "toc_section_display": true,
   "toc_window_display": true
  },
  "varInspector": {
   "cols": {
    "lenName": 16,
    "lenType": 16,
    "lenVar": 40
   },
   "kernels_config": {
    "python": {
     "delete_cmd_postfix": "",
     "delete_cmd_prefix": "del ",
     "library": "var_list.py",
     "varRefreshCmd": "print(var_dic_list())"
    },
    "r": {
     "delete_cmd_postfix": ") ",
     "delete_cmd_prefix": "rm(",
     "library": "var_list.r",
     "varRefreshCmd": "cat(var_dic_list()) "
    }
   },
   "position": {
    "height": "577.2px",
    "left": "1678px",
    "right": "20px",
    "top": "120px",
    "width": "350px"
   },
   "types_to_exclude": [
    "module",
    "function",
    "builtin_function_or_method",
    "instance",
    "_Feature"
   ],
   "window_display": false
  }
 },
 "nbformat": 4,
 "nbformat_minor": 2
}
