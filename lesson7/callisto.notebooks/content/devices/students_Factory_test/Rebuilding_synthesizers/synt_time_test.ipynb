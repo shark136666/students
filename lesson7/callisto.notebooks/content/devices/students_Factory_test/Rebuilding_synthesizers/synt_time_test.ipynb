{
 "cells": [
  {
   "cell_type": "code",
   "execution_count": null,
   "metadata": {},
   "outputs": [],
   "source": [
    "import os,sys,inspect\n",
    "from IPython.display import display, Markdown, Latex, Javascript, clear_output\n",
    "import emoji\n",
    "import time\n",
    "import ipywidgets as widgets\n",
    "import ipython_blocking\n",
    "import numpy as np\n",
    "import time\n",
    "from tqdm import tqdm_notebook\n",
    "import functools\n",
    "import configparser\n",
    "import webbrowser\n",
    "import shutil\n",
    "\n",
    "parentdir = os.path.abspath('../../../pymodules')\n",
    "\n",
    "sys.path.insert(0,parentdir)\n",
    "#from connect_device import connect\n",
    "from connect_device_v2.vizualizate import vizulizated_finds_devices, advanced_search_device,DeviceBundle\n",
    "from connect_device_v2.save_file import SaveFilesButton\n",
    "from connect_device_v2.connect import connect_to_device\n",
    "from connect_device_v2.find_device import FindDevice\n",
    "from connect_device_v2.auxiliary_commands import check_error\n",
    "import pandas as pd\n",
    "from datetime import datetime\n",
    "button = widgets.Button(\n",
    "                description='Continue',\n",
    "                disabled=False,\n",
    "                button_style='success',  # 'success', 'info', 'warning', 'danger' or ''\n",
    "                tooltip='Click me',\n",
    "                icon='play'        \n",
    "                )\n",
    "testname=\"Время перестройки синтезаторов\"\n",
    "display(Markdown('### 💠 {}'.format(testname)))\n",
    "\n"
   ]
  },
  {
   "cell_type": "code",
   "execution_count": null,
   "metadata": {
    "scrolled": false
   },
   "outputs": [],
   "source": [
    "from connect_device_v2.find_device import FindDevice\n",
    "box = FindDevice()\n",
    "display(box)"
   ]
  },
  {
   "cell_type": "code",
   "execution_count": null,
   "metadata": {},
   "outputs": [],
   "source": [
    "button = box.select_device_continue_button"
   ]
  },
  {
   "cell_type": "code",
   "execution_count": null,
   "metadata": {},
   "outputs": [],
   "source": [
    "%blockrun button"
   ]
  },
  {
   "cell_type": "code",
   "execution_count": null,
   "metadata": {},
   "outputs": [],
   "source": [
    "button1 = box.select_config_continue_button"
   ]
  },
  {
   "cell_type": "code",
   "execution_count": null,
   "metadata": {},
   "outputs": [],
   "source": [
    "%blockrun button1"
   ]
  },
  {
   "cell_type": "code",
   "execution_count": null,
   "metadata": {},
   "outputs": [],
   "source": [
    "inst = box.selected_device"
   ]
  },
  {
   "cell_type": "code",
   "execution_count": null,
   "metadata": {},
   "outputs": [],
   "source": [
    "config =  box.config\n",
    "device = config['DEVICE']\n",
    "points = int(device['points'])\n",
    "ifbw = int(device['filter_IF'])\n",
    "band = int(device['band'])\n",
    "synt_delay = float(device[\"syntDelay\"])\n",
    "att = int(device['athenuator'])\n",
    "center = (device['center_point'].replace(\" \", \"\")).split(',')\n",
    "factor = float(device['factor'])\n",
    "portCount= int(device['portCount'])"
   ]
  },
  {
   "cell_type": "code",
   "execution_count": null,
   "metadata": {},
   "outputs": [],
   "source": [
    "date=datetime.now()\n",
    "date=date.strftime('%Y-%m-%d %H:%M:%S')\n",
    "device = inst.query(\"*IDN?\")\n",
    "device = device.replace(' ','')\n",
    "device = device.split(',')\n",
    "device_info = {'Время запуска':date,\n",
    "              'device':device[0],\n",
    "              'model':device[1],\n",
    "              'serial':device[2],\n",
    "              'version':device[3]}"
   ]
  },
  {
   "cell_type": "code",
   "execution_count": null,
   "metadata": {},
   "outputs": [],
   "source": [
    "def get_setup():\n",
    "    inst.write(\"SYST:PRES\")\n",
    "    inst.write(\"TRIG:SOUR BUS\")\n",
    "    check_error(inst)\n",
    "    inst.write(\"INIT:CONT OFF\")\n",
    "    check_error(inst)\n",
    "    inst.write(\"SENS:AVER ON\")\n",
    "    check_error(inst)\n",
    "    inst.write(\"SENS:AVER:COUN 10\")\n",
    "    check_error(inst)\n",
    "    inst.write(f\"SENS:BAND {ifbw*10**6}\")\n",
    "    check_error(inst)\n",
    "    inst.write(f\"SENS:SWE:POIN {points}\")\n",
    "    check_error(inst)\n",
    "    inst.write(f\"SENS:FREQ:SPAN {int(band)*10**6}\")\n",
    "    check_error(inst)\n",
    "    inst.write(\"SERV:RFCTL:POW:STAT 1\")\n",
    "    check_error(inst)\n",
    "    inst.write(f\"SERVice:RFCTL:POWer:ATT {att}\")\n",
    "    check_error(inst)\n",
    "    inst.write(\"SERV:RFCTL:POW:DAC 6554\")\n",
    "    check_error(inst)    \n",
    "    inst.write(\"CALC:MST 1\")\n",
    "    check_error(inst)\n"
   ]
  },
  {
   "cell_type": "code",
   "execution_count": null,
   "metadata": {},
   "outputs": [],
   "source": [
    "def scan():\n",
    "    inst.write(\"INIT\")\n",
    "    check_error(inst)\n",
    "    inst.write(\"TRIG:SING\")\n",
    "    check_error(inst)\n",
    "    inst.query(\"*OPC?\")\n",
    "    check_error(inst)"
   ]
  },
  {
   "cell_type": "code",
   "execution_count": null,
   "metadata": {},
   "outputs": [],
   "source": [
    "def get_value(pbar):\n",
    "    result={}\n",
    "    max_time = 0\n",
    "    for freq in center: \n",
    "        result[freq]={}\n",
    "        inst.write(f\"SENS:FREQ:CENT {int(freq)*10**6}\")       \n",
    "        check_error(inst)        \n",
    "        first_sko = 0\n",
    "        time_synt = 0\n",
    "        for delay in np.arange (synt_delay, -0.5, -0.5):\n",
    "            if time_synt != 0:\n",
    "                result[freq][f'{delay}']= \"-\"                \n",
    "            else:\n",
    "                inst.write(f\"SERVice:SYNThesizer:DELay:VALue {delay*10e-07}\")\n",
    "                check_error(inst)\n",
    "                for i in range (10):\n",
    "                    scan()\n",
    "                normalizeited_graf(1)\n",
    "                for i in range (10):\n",
    "                    scan()\n",
    "                scan()\n",
    "                sko = float((inst.query(\"CALC:MST:DATA?\").split(\",\")[1]))   \n",
    "                check_error(inst)\n",
    "                if delay == synt_delay:\n",
    "                    first_sko = sko \n",
    "                elif sko / first_sko >= factor:\n",
    "                    time_synt = (delay+0.5)\n",
    "                result[freq][str(delay)] = sko\n",
    "                first_sko = sko\n",
    "        pbar.update(100/(len(center)*portCount))\n",
    "        if time_synt == 0:\n",
    "            result[freq]['time_synt'] =  \"-\"\n",
    "        else:\n",
    "            result[freq]['time_synt'] =  time_synt\n",
    "            if time_synt > max_time:\n",
    "                max_time = time_synt\n",
    "        result['maximum'] =  max_time\n",
    "    \n",
    "    return result"
   ]
  },
  {
   "cell_type": "code",
   "execution_count": null,
   "metadata": {},
   "outputs": [],
   "source": [
    "def get_measurement():\n",
    "    pbar = tqdm_notebook(total=100)\n",
    "    result={}\n",
    "    for n in range(1,portCount+1):\n",
    "        inst.write(f\"CALC:PAR:DEF S{n}{n}\")\n",
    "        trace = inst.query(\"CALC:PAR:DEF?\")\n",
    "        result[f'{trace}']= get_value(pbar)\n",
    "    return result\n",
    "            "
   ]
  },
  {
   "cell_type": "code",
   "execution_count": null,
   "metadata": {},
   "outputs": [],
   "source": [
    "def normalizeited_graf(n_graf):\n",
    "    inst.write(f\"CALC:PAR{n_graf}:SEL\")\n",
    "    check_error(inst)\n",
    "    inst.write(\"CALC:MATH:MEM\")\n",
    "    check_error(inst)\n",
    "    inst.write(\"CALC:MATH:FUNC DIVide\")\n",
    "    check_error(inst)"
   ]
  },
  {
   "cell_type": "code",
   "execution_count": null,
   "metadata": {},
   "outputs": [],
   "source": [
    "get_setup()"
   ]
  },
  {
   "cell_type": "code",
   "execution_count": null,
   "metadata": {},
   "outputs": [],
   "source": [
    "table = get_measurement()"
   ]
  },
  {
   "cell_type": "code",
   "execution_count": null,
   "metadata": {
    "scrolled": false
   },
   "outputs": [],
   "source": [
    "def table_generator(table):\n",
    "    html_table='<table border=\"1\" ><tr>' \n",
    "    html_table+=\"<td rowspan = '2'>Задержка, мкс</td>\"\n",
    "    for trace in table:        \n",
    "            html_table+=f\"<td colspan='{len(center)}'>СКО {trace} в полосе 100 МГц центральная частота, МГц</td>\"\n",
    "    html_table+= \"</tr><tr>\"\n",
    "    for trace in table:\n",
    "        for freq in table[trace]:\n",
    "            if not freq.isdigit():\n",
    "                continue\n",
    "            html_table+=f\"<td>{freq}</td>\"\n",
    "\n",
    "\n",
    "    for delay in np.arange (synt_delay, -0.5, -0.5):\n",
    "        html_table+= f\"</tr><tr><td>{delay}</td>\"   \n",
    "        for trace in table.keys():\n",
    "            for freq in table[trace]: \n",
    "                if not freq.isdigit():\n",
    "                    continue        \n",
    "                html_table+=f\"<td>{table[trace][freq][str(delay)]}</td>\"\n",
    "\n",
    "\n",
    "    html_table+= f\"</tr><tr><td>Время установления:</td>\"\n",
    "    time_synt = 'time_synt'\n",
    "    for trace in table:\n",
    "        for freq in table[trace]:\n",
    "            if not freq.isdigit():\n",
    "                continue\n",
    "            html_table+=f'<td>{table[trace][freq][time_synt]}</td>'\n",
    "\n",
    "\n",
    "    html_table+= f\"</tr><tr><td>Максимум:</td>\"\n",
    "    maximum = \"maximum\"\n",
    "    for trace in table:\n",
    "        html_table+=f\"<td align = 'center', colspan= '{len(center)}' >{table[trace][maximum]}</td>\"\n",
    "    return html_table\n",
    "        \n",
    "        \n",
    "\n",
    "             "
   ]
  },
  {
   "cell_type": "code",
   "execution_count": null,
   "metadata": {},
   "outputs": [],
   "source": [
    "def html_header(data):\n",
    "    html_table='<table border=\"1\"><tr>'\n",
    "    for key in data:\n",
    "        html_table+=f'<td>{key}</td>'\n",
    "    html_table+=f'</tr>'\n",
    "    html_table+=f'<tr>'\n",
    "    for key in data:\n",
    "        html_table+=f'<td>{data[key]}</td>'\n",
    "    html_table+=f'</tr>'    \n",
    "    return html_table"
   ]
  },
  {
   "cell_type": "code",
   "execution_count": null,
   "metadata": {
    "scrolled": true
   },
   "outputs": [],
   "source": [
    "from IPython.core.display import display, HTML\n",
    "html_table=table_generator(table)\n",
    "header = html_header(device_info)\n",
    "\n",
    "\n",
    "display(HTML(header),HTML(html_table))"
   ]
  },
  {
   "cell_type": "code",
   "execution_count": null,
   "metadata": {},
   "outputs": [],
   "source": [
    "file_data = header+html_table\n",
    "my_button = SaveFilesButton(file_data)\n",
    "my_button # This will display the button in the context of Jupyter Notebook"
   ]
  }
 ],
 "metadata": {
  "hide_input": false,
  "kernelspec": {
   "display_name": "Python 3 (ipykernel)",
   "language": "python",
   "name": "python3"
  },
  "language_info": {
   "codemirror_mode": {
    "name": "ipython",
    "version": 3
   },
   "file_extension": ".py",
   "mimetype": "text/x-python",
   "name": "python",
   "nbconvert_exporter": "python",
   "pygments_lexer": "ipython3",
   "version": "3.10.2"
  },
  "toc": {
   "base_numbering": 1,
   "nav_menu": {
    "height": "129px",
    "width": "225px"
   },
   "number_sections": true,
   "sideBar": true,
   "skip_h1_title": false,
   "title_cell": "Table of Contents",
   "title_sidebar": "Содержимое",
   "toc_cell": false,
   "toc_position": {},
   "toc_section_display": true,
   "toc_window_display": true
  },
  "varInspector": {
   "cols": {
    "lenName": 16,
    "lenType": 16,
    "lenVar": 40
   },
   "kernels_config": {
    "python": {
     "delete_cmd_postfix": "",
     "delete_cmd_prefix": "del ",
     "library": "var_list.py",
     "varRefreshCmd": "print(var_dic_list())"
    },
    "r": {
     "delete_cmd_postfix": ") ",
     "delete_cmd_prefix": "rm(",
     "library": "var_list.r",
     "varRefreshCmd": "cat(var_dic_list()) "
    }
   },
   "position": {
    "height": "577.2px",
    "left": "1678px",
    "right": "20px",
    "top": "120px",
    "width": "350px"
   },
   "types_to_exclude": [
    "module",
    "function",
    "builtin_function_or_method",
    "instance",
    "_Feature"
   ],
   "window_display": false
  }
 },
 "nbformat": 4,
 "nbformat_minor": 2
}
